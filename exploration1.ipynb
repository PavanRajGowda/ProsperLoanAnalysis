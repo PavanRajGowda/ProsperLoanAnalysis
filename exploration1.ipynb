{
 "cells": [
  {
   "cell_type": "markdown",
   "metadata": {},
   "source": [
    "# Prosper Loan Analysis\n",
    "## by Pavan Gowda\n",
    "\n",
    "## Preliminary Wrangling\n",
    "\n",
    "> This data set contains 81 features about loan data for 113936 listings. \n",
    "For my project, my goal is to delve deep into the dataset to uncover the important factors about a Loan applicant that could determine the status of his/her loan\n"
   ]
  },
  {
   "cell_type": "code",
   "execution_count": 1,
   "metadata": {},
   "outputs": [],
   "source": [
    "# import all packages and set plots to be embedded inline\n",
    "import numpy as np\n",
    "import pandas as pd\n",
    "import matplotlib.pyplot as plt\n",
    "import seaborn as sb\n",
    "\n",
    "%matplotlib inline"
   ]
  },
  {
   "cell_type": "code",
   "execution_count": 2,
   "metadata": {},
   "outputs": [
    {
     "data": {
      "text/html": [
       "<div>\n",
       "<style scoped>\n",
       "    .dataframe tbody tr th:only-of-type {\n",
       "        vertical-align: middle;\n",
       "    }\n",
       "\n",
       "    .dataframe tbody tr th {\n",
       "        vertical-align: top;\n",
       "    }\n",
       "\n",
       "    .dataframe thead th {\n",
       "        text-align: right;\n",
       "    }\n",
       "</style>\n",
       "<table border=\"1\" class=\"dataframe\">\n",
       "  <thead>\n",
       "    <tr style=\"text-align: right;\">\n",
       "      <th></th>\n",
       "      <th>ListingKey</th>\n",
       "      <th>ListingNumber</th>\n",
       "      <th>ListingCreationDate</th>\n",
       "      <th>CreditGrade</th>\n",
       "      <th>Term</th>\n",
       "      <th>LoanStatus</th>\n",
       "      <th>ClosedDate</th>\n",
       "      <th>BorrowerAPR</th>\n",
       "      <th>BorrowerRate</th>\n",
       "      <th>LenderYield</th>\n",
       "      <th>...</th>\n",
       "      <th>LP_ServiceFees</th>\n",
       "      <th>LP_CollectionFees</th>\n",
       "      <th>LP_GrossPrincipalLoss</th>\n",
       "      <th>LP_NetPrincipalLoss</th>\n",
       "      <th>LP_NonPrincipalRecoverypayments</th>\n",
       "      <th>PercentFunded</th>\n",
       "      <th>Recommendations</th>\n",
       "      <th>InvestmentFromFriendsCount</th>\n",
       "      <th>InvestmentFromFriendsAmount</th>\n",
       "      <th>Investors</th>\n",
       "    </tr>\n",
       "  </thead>\n",
       "  <tbody>\n",
       "    <tr>\n",
       "      <th>0</th>\n",
       "      <td>1021339766868145413AB3B</td>\n",
       "      <td>193129</td>\n",
       "      <td>2007-08-26 19:09:29.263000000</td>\n",
       "      <td>C</td>\n",
       "      <td>36</td>\n",
       "      <td>Completed</td>\n",
       "      <td>2009-08-14 00:00:00</td>\n",
       "      <td>0.16516</td>\n",
       "      <td>0.1580</td>\n",
       "      <td>0.1380</td>\n",
       "      <td>...</td>\n",
       "      <td>-133.18</td>\n",
       "      <td>0.0</td>\n",
       "      <td>0.0</td>\n",
       "      <td>0.0</td>\n",
       "      <td>0.0</td>\n",
       "      <td>1.0</td>\n",
       "      <td>0</td>\n",
       "      <td>0</td>\n",
       "      <td>0.0</td>\n",
       "      <td>258</td>\n",
       "    </tr>\n",
       "    <tr>\n",
       "      <th>1</th>\n",
       "      <td>10273602499503308B223C1</td>\n",
       "      <td>1209647</td>\n",
       "      <td>2014-02-27 08:28:07.900000000</td>\n",
       "      <td>NaN</td>\n",
       "      <td>36</td>\n",
       "      <td>Current</td>\n",
       "      <td>NaN</td>\n",
       "      <td>0.12016</td>\n",
       "      <td>0.0920</td>\n",
       "      <td>0.0820</td>\n",
       "      <td>...</td>\n",
       "      <td>0.00</td>\n",
       "      <td>0.0</td>\n",
       "      <td>0.0</td>\n",
       "      <td>0.0</td>\n",
       "      <td>0.0</td>\n",
       "      <td>1.0</td>\n",
       "      <td>0</td>\n",
       "      <td>0</td>\n",
       "      <td>0.0</td>\n",
       "      <td>1</td>\n",
       "    </tr>\n",
       "    <tr>\n",
       "      <th>2</th>\n",
       "      <td>0EE9337825851032864889A</td>\n",
       "      <td>81716</td>\n",
       "      <td>2007-01-05 15:00:47.090000000</td>\n",
       "      <td>HR</td>\n",
       "      <td>36</td>\n",
       "      <td>Completed</td>\n",
       "      <td>2009-12-17 00:00:00</td>\n",
       "      <td>0.28269</td>\n",
       "      <td>0.2750</td>\n",
       "      <td>0.2400</td>\n",
       "      <td>...</td>\n",
       "      <td>-24.20</td>\n",
       "      <td>0.0</td>\n",
       "      <td>0.0</td>\n",
       "      <td>0.0</td>\n",
       "      <td>0.0</td>\n",
       "      <td>1.0</td>\n",
       "      <td>0</td>\n",
       "      <td>0</td>\n",
       "      <td>0.0</td>\n",
       "      <td>41</td>\n",
       "    </tr>\n",
       "    <tr>\n",
       "      <th>3</th>\n",
       "      <td>0EF5356002482715299901A</td>\n",
       "      <td>658116</td>\n",
       "      <td>2012-10-22 11:02:35.010000000</td>\n",
       "      <td>NaN</td>\n",
       "      <td>36</td>\n",
       "      <td>Current</td>\n",
       "      <td>NaN</td>\n",
       "      <td>0.12528</td>\n",
       "      <td>0.0974</td>\n",
       "      <td>0.0874</td>\n",
       "      <td>...</td>\n",
       "      <td>-108.01</td>\n",
       "      <td>0.0</td>\n",
       "      <td>0.0</td>\n",
       "      <td>0.0</td>\n",
       "      <td>0.0</td>\n",
       "      <td>1.0</td>\n",
       "      <td>0</td>\n",
       "      <td>0</td>\n",
       "      <td>0.0</td>\n",
       "      <td>158</td>\n",
       "    </tr>\n",
       "    <tr>\n",
       "      <th>4</th>\n",
       "      <td>0F023589499656230C5E3E2</td>\n",
       "      <td>909464</td>\n",
       "      <td>2013-09-14 18:38:39.097000000</td>\n",
       "      <td>NaN</td>\n",
       "      <td>36</td>\n",
       "      <td>Current</td>\n",
       "      <td>NaN</td>\n",
       "      <td>0.24614</td>\n",
       "      <td>0.2085</td>\n",
       "      <td>0.1985</td>\n",
       "      <td>...</td>\n",
       "      <td>-60.27</td>\n",
       "      <td>0.0</td>\n",
       "      <td>0.0</td>\n",
       "      <td>0.0</td>\n",
       "      <td>0.0</td>\n",
       "      <td>1.0</td>\n",
       "      <td>0</td>\n",
       "      <td>0</td>\n",
       "      <td>0.0</td>\n",
       "      <td>20</td>\n",
       "    </tr>\n",
       "  </tbody>\n",
       "</table>\n",
       "<p>5 rows × 81 columns</p>\n",
       "</div>"
      ],
      "text/plain": [
       "                ListingKey  ListingNumber            ListingCreationDate  \\\n",
       "0  1021339766868145413AB3B         193129  2007-08-26 19:09:29.263000000   \n",
       "1  10273602499503308B223C1        1209647  2014-02-27 08:28:07.900000000   \n",
       "2  0EE9337825851032864889A          81716  2007-01-05 15:00:47.090000000   \n",
       "3  0EF5356002482715299901A         658116  2012-10-22 11:02:35.010000000   \n",
       "4  0F023589499656230C5E3E2         909464  2013-09-14 18:38:39.097000000   \n",
       "\n",
       "  CreditGrade  Term LoanStatus           ClosedDate  BorrowerAPR  \\\n",
       "0           C    36  Completed  2009-08-14 00:00:00      0.16516   \n",
       "1         NaN    36    Current                  NaN      0.12016   \n",
       "2          HR    36  Completed  2009-12-17 00:00:00      0.28269   \n",
       "3         NaN    36    Current                  NaN      0.12528   \n",
       "4         NaN    36    Current                  NaN      0.24614   \n",
       "\n",
       "   BorrowerRate  LenderYield    ...     LP_ServiceFees  LP_CollectionFees  \\\n",
       "0        0.1580       0.1380    ...            -133.18                0.0   \n",
       "1        0.0920       0.0820    ...               0.00                0.0   \n",
       "2        0.2750       0.2400    ...             -24.20                0.0   \n",
       "3        0.0974       0.0874    ...            -108.01                0.0   \n",
       "4        0.2085       0.1985    ...             -60.27                0.0   \n",
       "\n",
       "   LP_GrossPrincipalLoss  LP_NetPrincipalLoss LP_NonPrincipalRecoverypayments  \\\n",
       "0                    0.0                  0.0                             0.0   \n",
       "1                    0.0                  0.0                             0.0   \n",
       "2                    0.0                  0.0                             0.0   \n",
       "3                    0.0                  0.0                             0.0   \n",
       "4                    0.0                  0.0                             0.0   \n",
       "\n",
       "   PercentFunded  Recommendations InvestmentFromFriendsCount  \\\n",
       "0            1.0                0                          0   \n",
       "1            1.0                0                          0   \n",
       "2            1.0                0                          0   \n",
       "3            1.0                0                          0   \n",
       "4            1.0                0                          0   \n",
       "\n",
       "  InvestmentFromFriendsAmount Investors  \n",
       "0                         0.0       258  \n",
       "1                         0.0         1  \n",
       "2                         0.0        41  \n",
       "3                         0.0       158  \n",
       "4                         0.0        20  \n",
       "\n",
       "[5 rows x 81 columns]"
      ]
     },
     "execution_count": 2,
     "metadata": {},
     "output_type": "execute_result"
    }
   ],
   "source": [
    "df=pd.read_csv(r\"C:\\Users\\Pavan\\Downloads\\prosperLoanData.csv\")\n",
    "df.head()"
   ]
  },
  {
   "cell_type": "code",
   "execution_count": null,
   "metadata": {},
   "outputs": [],
   "source": []
  },
  {
   "cell_type": "code",
   "execution_count": 3,
   "metadata": {},
   "outputs": [],
   "source": [
    "cleaned=df.copy()"
   ]
  },
  {
   "cell_type": "markdown",
   "metadata": {},
   "source": [
    "### Fixing the Feature of Interest"
   ]
  },
  {
   "cell_type": "markdown",
   "metadata": {},
   "source": [
    " The Past Due portion seems to be divided by timeperiod. This may lead to too few data samples per Status type.\n",
    " So, it is best to merge them."
   ]
  },
  {
   "cell_type": "code",
   "execution_count": 4,
   "metadata": {},
   "outputs": [],
   "source": [
    " \n",
    "cleaned[\"LoanStatus\"]=cleaned[\"LoanStatus\"].replace({\"Past Due (1-15 days)\":\"PastDue\",\n",
    "                              \"Past Due (31-60 days)\": \"PastDue\",\n",
    "                                \"Past Due (61-90 days)\" :\"PastDue\",\n",
    "                                \"Past Due (91-120 days)\":\"PastDue\",\n",
    "                               \"Past Due (>120 days)\":\"PastDue\",\n",
    "                                                    \"Past Due (16-30 days)\": \"PastDue\"})"
   ]
  },
  {
   "cell_type": "markdown",
   "metadata": {},
   "source": [
    "Also, a look at the distribution shows that Cancelled and FinalPaymentInProgress are too sparse. They should be dropped."
   ]
  },
  {
   "cell_type": "code",
   "execution_count": 30,
   "metadata": {},
   "outputs": [
    {
     "data": {
      "text/plain": [
       "Current                   56576\n",
       "Completed                 38074\n",
       "Chargedoff                11992\n",
       "Defaulted                  5018\n",
       "PastDue                    2067\n",
       "FinalPaymentInProgress      205\n",
       "Cancelled                     5\n",
       "Name: LoanStatus, dtype: int64"
      ]
     },
     "execution_count": 30,
     "metadata": {},
     "output_type": "execute_result"
    }
   ],
   "source": [
    "cleaned[\"LoanStatus\"].value_counts()"
   ]
  },
  {
   "cell_type": "code",
   "execution_count": 5,
   "metadata": {},
   "outputs": [],
   "source": [
    "# Find the location to be dropped\n",
    "few=np.where((cleaned[\"LoanStatus\"]==\"FinalPaymentInProgress\") |(cleaned[\"LoanStatus\"]==\"Cancelled\") )[0]"
   ]
  },
  {
   "cell_type": "code",
   "execution_count": 192,
   "metadata": {},
   "outputs": [
    {
     "data": {
      "text/plain": [
       "210"
      ]
     },
     "execution_count": 192,
     "metadata": {},
     "output_type": "execute_result"
    }
   ],
   "source": [
    "# Check to see if code worked\n",
    "len(few)"
   ]
  },
  {
   "cell_type": "code",
   "execution_count": 6,
   "metadata": {},
   "outputs": [],
   "source": [
    "cleaned=cleaned.drop(few)"
   ]
  },
  {
   "cell_type": "markdown",
   "metadata": {},
   "source": [
    "### Removing Features with Extremey Low Variance"
   ]
  },
  {
   "cell_type": "code",
   "execution_count": 7,
   "metadata": {},
   "outputs": [
    {
     "data": {
      "text/html": [
       "<div>\n",
       "<style scoped>\n",
       "    .dataframe tbody tr th:only-of-type {\n",
       "        vertical-align: middle;\n",
       "    }\n",
       "\n",
       "    .dataframe tbody tr th {\n",
       "        vertical-align: top;\n",
       "    }\n",
       "\n",
       "    .dataframe thead th {\n",
       "        text-align: right;\n",
       "    }\n",
       "</style>\n",
       "<table border=\"1\" class=\"dataframe\">\n",
       "  <thead>\n",
       "    <tr style=\"text-align: right;\">\n",
       "      <th></th>\n",
       "      <th>ListingNumber</th>\n",
       "      <th>Term</th>\n",
       "      <th>BorrowerAPR</th>\n",
       "      <th>BorrowerRate</th>\n",
       "      <th>LenderYield</th>\n",
       "      <th>EstimatedEffectiveYield</th>\n",
       "      <th>EstimatedLoss</th>\n",
       "      <th>EstimatedReturn</th>\n",
       "      <th>ProsperRating (numeric)</th>\n",
       "      <th>ProsperScore</th>\n",
       "      <th>...</th>\n",
       "      <th>LP_ServiceFees</th>\n",
       "      <th>LP_CollectionFees</th>\n",
       "      <th>LP_GrossPrincipalLoss</th>\n",
       "      <th>LP_NetPrincipalLoss</th>\n",
       "      <th>LP_NonPrincipalRecoverypayments</th>\n",
       "      <th>PercentFunded</th>\n",
       "      <th>Recommendations</th>\n",
       "      <th>InvestmentFromFriendsCount</th>\n",
       "      <th>InvestmentFromFriendsAmount</th>\n",
       "      <th>Investors</th>\n",
       "    </tr>\n",
       "  </thead>\n",
       "  <tbody>\n",
       "    <tr>\n",
       "      <th>count</th>\n",
       "      <td>1.137270e+05</td>\n",
       "      <td>113727.000000</td>\n",
       "      <td>113702.000000</td>\n",
       "      <td>113727.000000</td>\n",
       "      <td>113727.000000</td>\n",
       "      <td>84648.000000</td>\n",
       "      <td>84648.000000</td>\n",
       "      <td>84648.000000</td>\n",
       "      <td>84648.000000</td>\n",
       "      <td>84648.000000</td>\n",
       "      <td>...</td>\n",
       "      <td>113727.000000</td>\n",
       "      <td>113727.000000</td>\n",
       "      <td>113727.000000</td>\n",
       "      <td>113727.000000</td>\n",
       "      <td>113727.000000</td>\n",
       "      <td>113727.000000</td>\n",
       "      <td>113727.000000</td>\n",
       "      <td>113727.000000</td>\n",
       "      <td>113727.000000</td>\n",
       "      <td>113727.000000</td>\n",
       "    </tr>\n",
       "    <tr>\n",
       "      <th>mean</th>\n",
       "      <td>6.276938e+05</td>\n",
       "      <td>40.833259</td>\n",
       "      <td>0.218809</td>\n",
       "      <td>0.192757</td>\n",
       "      <td>0.182693</td>\n",
       "      <td>0.168642</td>\n",
       "      <td>0.080299</td>\n",
       "      <td>0.096075</td>\n",
       "      <td>4.072524</td>\n",
       "      <td>5.950548</td>\n",
       "      <td>...</td>\n",
       "      <td>-54.703338</td>\n",
       "      <td>-14.260657</td>\n",
       "      <td>701.739736</td>\n",
       "      <td>682.678760</td>\n",
       "      <td>25.189113</td>\n",
       "      <td>0.998587</td>\n",
       "      <td>0.048098</td>\n",
       "      <td>0.023477</td>\n",
       "      <td>16.576696</td>\n",
       "      <td>80.484397</td>\n",
       "    </tr>\n",
       "    <tr>\n",
       "      <th>std</th>\n",
       "      <td>3.282063e+05</td>\n",
       "      <td>10.434871</td>\n",
       "      <td>0.080356</td>\n",
       "      <td>0.074811</td>\n",
       "      <td>0.074507</td>\n",
       "      <td>0.068456</td>\n",
       "      <td>0.046761</td>\n",
       "      <td>0.030406</td>\n",
       "      <td>1.672996</td>\n",
       "      <td>2.376221</td>\n",
       "      <td>...</td>\n",
       "      <td>60.666246</td>\n",
       "      <td>109.326521</td>\n",
       "      <td>2390.528230</td>\n",
       "      <td>2359.160321</td>\n",
       "      <td>275.910208</td>\n",
       "      <td>0.017894</td>\n",
       "      <td>0.332629</td>\n",
       "      <td>0.232570</td>\n",
       "      <td>294.814998</td>\n",
       "      <td>103.250586</td>\n",
       "    </tr>\n",
       "    <tr>\n",
       "      <th>min</th>\n",
       "      <td>4.000000e+00</td>\n",
       "      <td>12.000000</td>\n",
       "      <td>0.006530</td>\n",
       "      <td>0.000000</td>\n",
       "      <td>-0.010000</td>\n",
       "      <td>-0.182700</td>\n",
       "      <td>0.004900</td>\n",
       "      <td>-0.182700</td>\n",
       "      <td>1.000000</td>\n",
       "      <td>1.000000</td>\n",
       "      <td>...</td>\n",
       "      <td>-664.870000</td>\n",
       "      <td>-9274.750000</td>\n",
       "      <td>-94.200000</td>\n",
       "      <td>-954.550000</td>\n",
       "      <td>0.000000</td>\n",
       "      <td>0.700000</td>\n",
       "      <td>0.000000</td>\n",
       "      <td>0.000000</td>\n",
       "      <td>0.000000</td>\n",
       "      <td>1.000000</td>\n",
       "    </tr>\n",
       "    <tr>\n",
       "      <th>25%</th>\n",
       "      <td>4.000480e+05</td>\n",
       "      <td>36.000000</td>\n",
       "      <td>0.156290</td>\n",
       "      <td>0.134000</td>\n",
       "      <td>0.124250</td>\n",
       "      <td>0.115670</td>\n",
       "      <td>0.042400</td>\n",
       "      <td>0.074080</td>\n",
       "      <td>3.000000</td>\n",
       "      <td>4.000000</td>\n",
       "      <td>...</td>\n",
       "      <td>-73.150000</td>\n",
       "      <td>0.000000</td>\n",
       "      <td>0.000000</td>\n",
       "      <td>0.000000</td>\n",
       "      <td>0.000000</td>\n",
       "      <td>1.000000</td>\n",
       "      <td>0.000000</td>\n",
       "      <td>0.000000</td>\n",
       "      <td>0.000000</td>\n",
       "      <td>2.000000</td>\n",
       "    </tr>\n",
       "    <tr>\n",
       "      <th>50%</th>\n",
       "      <td>6.003650e+05</td>\n",
       "      <td>36.000000</td>\n",
       "      <td>0.209760</td>\n",
       "      <td>0.184000</td>\n",
       "      <td>0.173000</td>\n",
       "      <td>0.161500</td>\n",
       "      <td>0.072400</td>\n",
       "      <td>0.091700</td>\n",
       "      <td>4.000000</td>\n",
       "      <td>6.000000</td>\n",
       "      <td>...</td>\n",
       "      <td>-34.430000</td>\n",
       "      <td>0.000000</td>\n",
       "      <td>0.000000</td>\n",
       "      <td>0.000000</td>\n",
       "      <td>0.000000</td>\n",
       "      <td>1.000000</td>\n",
       "      <td>0.000000</td>\n",
       "      <td>0.000000</td>\n",
       "      <td>0.000000</td>\n",
       "      <td>44.000000</td>\n",
       "    </tr>\n",
       "    <tr>\n",
       "      <th>75%</th>\n",
       "      <td>8.926015e+05</td>\n",
       "      <td>36.000000</td>\n",
       "      <td>0.283700</td>\n",
       "      <td>0.250000</td>\n",
       "      <td>0.240000</td>\n",
       "      <td>0.224300</td>\n",
       "      <td>0.112000</td>\n",
       "      <td>0.116600</td>\n",
       "      <td>5.000000</td>\n",
       "      <td>8.000000</td>\n",
       "      <td>...</td>\n",
       "      <td>-13.905000</td>\n",
       "      <td>0.000000</td>\n",
       "      <td>0.000000</td>\n",
       "      <td>0.000000</td>\n",
       "      <td>0.000000</td>\n",
       "      <td>1.000000</td>\n",
       "      <td>0.000000</td>\n",
       "      <td>0.000000</td>\n",
       "      <td>0.000000</td>\n",
       "      <td>115.000000</td>\n",
       "    </tr>\n",
       "    <tr>\n",
       "      <th>max</th>\n",
       "      <td>1.255725e+06</td>\n",
       "      <td>60.000000</td>\n",
       "      <td>0.512290</td>\n",
       "      <td>0.497500</td>\n",
       "      <td>0.492500</td>\n",
       "      <td>0.319900</td>\n",
       "      <td>0.366000</td>\n",
       "      <td>0.283700</td>\n",
       "      <td>7.000000</td>\n",
       "      <td>11.000000</td>\n",
       "      <td>...</td>\n",
       "      <td>32.060000</td>\n",
       "      <td>0.000000</td>\n",
       "      <td>25000.000000</td>\n",
       "      <td>25000.000000</td>\n",
       "      <td>21117.900000</td>\n",
       "      <td>1.012500</td>\n",
       "      <td>39.000000</td>\n",
       "      <td>33.000000</td>\n",
       "      <td>25000.000000</td>\n",
       "      <td>1189.000000</td>\n",
       "    </tr>\n",
       "  </tbody>\n",
       "</table>\n",
       "<p>8 rows × 61 columns</p>\n",
       "</div>"
      ],
      "text/plain": [
       "       ListingNumber           Term    BorrowerAPR   BorrowerRate  \\\n",
       "count   1.137270e+05  113727.000000  113702.000000  113727.000000   \n",
       "mean    6.276938e+05      40.833259       0.218809       0.192757   \n",
       "std     3.282063e+05      10.434871       0.080356       0.074811   \n",
       "min     4.000000e+00      12.000000       0.006530       0.000000   \n",
       "25%     4.000480e+05      36.000000       0.156290       0.134000   \n",
       "50%     6.003650e+05      36.000000       0.209760       0.184000   \n",
       "75%     8.926015e+05      36.000000       0.283700       0.250000   \n",
       "max     1.255725e+06      60.000000       0.512290       0.497500   \n",
       "\n",
       "         LenderYield  EstimatedEffectiveYield  EstimatedLoss  EstimatedReturn  \\\n",
       "count  113727.000000             84648.000000   84648.000000     84648.000000   \n",
       "mean        0.182693                 0.168642       0.080299         0.096075   \n",
       "std         0.074507                 0.068456       0.046761         0.030406   \n",
       "min        -0.010000                -0.182700       0.004900        -0.182700   \n",
       "25%         0.124250                 0.115670       0.042400         0.074080   \n",
       "50%         0.173000                 0.161500       0.072400         0.091700   \n",
       "75%         0.240000                 0.224300       0.112000         0.116600   \n",
       "max         0.492500                 0.319900       0.366000         0.283700   \n",
       "\n",
       "       ProsperRating (numeric)  ProsperScore      ...        LP_ServiceFees  \\\n",
       "count             84648.000000  84648.000000      ...         113727.000000   \n",
       "mean                  4.072524      5.950548      ...            -54.703338   \n",
       "std                   1.672996      2.376221      ...             60.666246   \n",
       "min                   1.000000      1.000000      ...           -664.870000   \n",
       "25%                   3.000000      4.000000      ...            -73.150000   \n",
       "50%                   4.000000      6.000000      ...            -34.430000   \n",
       "75%                   5.000000      8.000000      ...            -13.905000   \n",
       "max                   7.000000     11.000000      ...             32.060000   \n",
       "\n",
       "       LP_CollectionFees  LP_GrossPrincipalLoss  LP_NetPrincipalLoss  \\\n",
       "count      113727.000000          113727.000000        113727.000000   \n",
       "mean          -14.260657             701.739736           682.678760   \n",
       "std           109.326521            2390.528230          2359.160321   \n",
       "min         -9274.750000             -94.200000          -954.550000   \n",
       "25%             0.000000               0.000000             0.000000   \n",
       "50%             0.000000               0.000000             0.000000   \n",
       "75%             0.000000               0.000000             0.000000   \n",
       "max             0.000000           25000.000000         25000.000000   \n",
       "\n",
       "       LP_NonPrincipalRecoverypayments  PercentFunded  Recommendations  \\\n",
       "count                    113727.000000  113727.000000    113727.000000   \n",
       "mean                         25.189113       0.998587         0.048098   \n",
       "std                         275.910208       0.017894         0.332629   \n",
       "min                           0.000000       0.700000         0.000000   \n",
       "25%                           0.000000       1.000000         0.000000   \n",
       "50%                           0.000000       1.000000         0.000000   \n",
       "75%                           0.000000       1.000000         0.000000   \n",
       "max                       21117.900000       1.012500        39.000000   \n",
       "\n",
       "       InvestmentFromFriendsCount  InvestmentFromFriendsAmount      Investors  \n",
       "count               113727.000000                113727.000000  113727.000000  \n",
       "mean                     0.023477                    16.576696      80.484397  \n",
       "std                      0.232570                   294.814998     103.250586  \n",
       "min                      0.000000                     0.000000       1.000000  \n",
       "25%                      0.000000                     0.000000       2.000000  \n",
       "50%                      0.000000                     0.000000      44.000000  \n",
       "75%                      0.000000                     0.000000     115.000000  \n",
       "max                     33.000000                 25000.000000    1189.000000  \n",
       "\n",
       "[8 rows x 61 columns]"
      ]
     },
     "execution_count": 7,
     "metadata": {},
     "output_type": "execute_result"
    }
   ],
   "source": [
    "describe=cleaned.describe()\n",
    "describe"
   ]
  },
  {
   "cell_type": "markdown",
   "metadata": {},
   "source": [
    "After perusing the summary statistics, it is clear that some variables have the same 25 percentile as 75 percentile. This is a clear indication of low variance, which means that these features won't lead to any valuable conclusions. "
   ]
  },
  {
   "cell_type": "code",
   "execution_count": 8,
   "metadata": {},
   "outputs": [],
   "source": [
    "# Find the ones that have the same 25th and 75th percentile. \n",
    "same=[]\n",
    "for column in describe.columns: \n",
    "    if describe[column][\"25%\"]== describe[column][\"75%\"]: same.append(column)\n"
   ]
  },
  {
   "cell_type": "code",
   "execution_count": 196,
   "metadata": {},
   "outputs": [
    {
     "data": {
      "text/plain": [
       "['Term',\n",
       " 'CurrentDelinquencies',\n",
       " 'AmountDelinquent',\n",
       " 'PublicRecordsLast10Years',\n",
       " 'PublicRecordsLast12Months',\n",
       " 'ProsperPaymentsLessThanOneMonthLate',\n",
       " 'ProsperPaymentsOneMonthPlusLate',\n",
       " 'LoanCurrentDaysDelinquent',\n",
       " 'LP_CollectionFees',\n",
       " 'LP_GrossPrincipalLoss',\n",
       " 'LP_NetPrincipalLoss',\n",
       " 'LP_NonPrincipalRecoverypayments',\n",
       " 'PercentFunded',\n",
       " 'Recommendations',\n",
       " 'InvestmentFromFriendsCount',\n",
       " 'InvestmentFromFriendsAmount']"
      ]
     },
     "execution_count": 196,
     "metadata": {},
     "output_type": "execute_result"
    }
   ],
   "source": [
    "same\n"
   ]
  },
  {
   "cell_type": "code",
   "execution_count": 197,
   "metadata": {},
   "outputs": [
    {
     "name": "stdout",
     "output_type": "stream",
     "text": [
      "36    87778\n",
      "60    24545\n",
      "12     1614\n",
      "Name: Term, dtype: int64\n",
      "0.0     89742\n",
      "1.0     11716\n",
      "2.0      4357\n",
      "3.0      2098\n",
      "4.0      1379\n",
      "5.0       916\n",
      "6.0       690\n",
      "7.0       517\n",
      "8.0       397\n",
      "9.0       289\n",
      "10.0      212\n",
      "11.0      191\n",
      "12.0      147\n",
      "13.0      111\n",
      "15.0       83\n",
      "14.0       71\n",
      "16.0       58\n",
      "17.0       40\n",
      "18.0       37\n",
      "21.0       31\n",
      "19.0       28\n",
      "20.0       27\n",
      "22.0       21\n",
      "27.0       12\n",
      "24.0       12\n",
      "23.0        9\n",
      "26.0        8\n",
      "31.0        6\n",
      "25.0        5\n",
      "28.0        5\n",
      "32.0        5\n",
      "30.0        2\n",
      "36.0        2\n",
      "35.0        2\n",
      "41.0        2\n",
      "40.0        1\n",
      "39.0        1\n",
      "82.0        1\n",
      "64.0        1\n",
      "33.0        1\n",
      "50.0        1\n",
      "57.0        1\n",
      "83.0        1\n",
      "51.0        1\n",
      "45.0        1\n",
      "59.0        1\n",
      "37.0        1\n",
      "Name: CurrentDelinquencies, dtype: int64\n",
      "0.0         89818\n",
      "50.0           73\n",
      "100.0          67\n",
      "25.0           66\n",
      "30.0           65\n",
      "75.0           56\n",
      "60.0           46\n",
      "40.0           43\n",
      "120.0          35\n",
      "55.0           34\n",
      "65.0           34\n",
      "15.0           34\n",
      "67.0           32\n",
      "150.0          32\n",
      "130.0          31\n",
      "10.0           30\n",
      "20.0           30\n",
      "35.0           29\n",
      "200.0          29\n",
      "70.0           29\n",
      "80.0           28\n",
      "33.0           27\n",
      "79.0           26\n",
      "45.0           26\n",
      "300.0          26\n",
      "54.0           26\n",
      "110.0          26\n",
      "68.0           25\n",
      "88.0           25\n",
      "90.0           25\n",
      "            ...  \n",
      "18239.0         1\n",
      "8988.0          1\n",
      "19659.0         1\n",
      "4001.0          1\n",
      "3706.0          1\n",
      "23754.0         1\n",
      "10176.0         1\n",
      "3136.0          1\n",
      "9974.0          1\n",
      "13235.0         1\n",
      "9122.0          1\n",
      "13213.0         1\n",
      "6114.0          1\n",
      "63897.0         1\n",
      "6973.0          1\n",
      "2790.0          1\n",
      "3482.0          1\n",
      "4733.0          1\n",
      "21299.0         1\n",
      "6062.0          1\n",
      "23759.0         1\n",
      "3227.0          1\n",
      "3308.0          1\n",
      "5581.0          1\n",
      "9964.0          1\n",
      "52844.0         1\n",
      "10776.0         1\n",
      "19226.0         1\n",
      "13986.0         1\n",
      "327677.0        1\n",
      "Name: AmountDelinquent, Length: 7059, dtype: int64\n",
      "0.0     85803\n",
      "1.0     22834\n",
      "2.0      3011\n",
      "3.0       894\n",
      "4.0       345\n",
      "5.0       151\n",
      "6.0        70\n",
      "7.0        46\n",
      "8.0        31\n",
      "9.0        15\n",
      "10.0        8\n",
      "11.0        7\n",
      "16.0        5\n",
      "12.0        4\n",
      "14.0        4\n",
      "15.0        3\n",
      "20.0        1\n",
      "21.0        1\n",
      "22.0        1\n",
      "34.0        1\n",
      "25.0        1\n",
      "38.0        1\n",
      "17.0        1\n",
      "13.0        1\n",
      "30.0        1\n",
      "Name: PublicRecordsLast10Years, dtype: int64\n",
      "0.0     104941\n",
      "1.0       1255\n",
      "2.0         96\n",
      "3.0         28\n",
      "4.0         10\n",
      "7.0          2\n",
      "20.0         1\n",
      "Name: PublicRecordsLast12Months, dtype: int64\n",
      "0.0     18285\n",
      "1.0      1810\n",
      "2.0       660\n",
      "3.0       329\n",
      "4.0       205\n",
      "5.0       162\n",
      "7.0        95\n",
      "6.0        95\n",
      "9.0        60\n",
      "8.0        48\n",
      "10.0       45\n",
      "11.0       36\n",
      "15.0       28\n",
      "13.0       26\n",
      "12.0       25\n",
      "17.0       25\n",
      "14.0       22\n",
      "16.0       20\n",
      "24.0       11\n",
      "21.0       11\n",
      "26.0       11\n",
      "19.0       10\n",
      "20.0        9\n",
      "25.0        9\n",
      "18.0        9\n",
      "22.0        7\n",
      "23.0        6\n",
      "28.0        5\n",
      "42.0        3\n",
      "34.0        3\n",
      "29.0        2\n",
      "27.0        2\n",
      "32.0        2\n",
      "30.0        2\n",
      "41.0        1\n",
      "31.0        1\n",
      "33.0        1\n",
      "35.0        1\n",
      "40.0        1\n",
      "36.0        1\n",
      "39.0        1\n",
      "Name: ProsperPaymentsLessThanOneMonthLate, dtype: int64\n",
      "0.0     21700\n",
      "1.0       185\n",
      "2.0        69\n",
      "3.0        49\n",
      "4.0        20\n",
      "7.0        16\n",
      "5.0        16\n",
      "6.0         9\n",
      "8.0         5\n",
      "11.0        3\n",
      "21.0        3\n",
      "19.0        3\n",
      "9.0         3\n",
      "12.0        1\n",
      "10.0        1\n",
      "18.0        1\n",
      "16.0        1\n",
      "Name: ProsperPaymentsOneMonthPlusLate, dtype: int64\n",
      "0       94860\n",
      "121       293\n",
      "10        192\n",
      "4          77\n",
      "11         62\n",
      "5          60\n",
      "3          59\n",
      "161        51\n",
      "6          51\n",
      "1          48\n",
      "12         47\n",
      "191        44\n",
      "13         41\n",
      "192        41\n",
      "181        40\n",
      "2          40\n",
      "174        38\n",
      "160        38\n",
      "100        38\n",
      "184        37\n",
      "163        36\n",
      "195        36\n",
      "158        36\n",
      "152        36\n",
      "154        36\n",
      "253        36\n",
      "215        36\n",
      "162        35\n",
      "145        35\n",
      "151        34\n",
      "        ...  \n",
      "2460        1\n",
      "2574        1\n",
      "2488        1\n",
      "1026        1\n",
      "1372        1\n",
      "988         1\n",
      "1231        1\n",
      "1081        1\n",
      "2478        1\n",
      "1101        1\n",
      "1012        1\n",
      "1027        1\n",
      "1204        1\n",
      "2501        1\n",
      "868         1\n",
      "2533        1\n",
      "2612        1\n",
      "2149        1\n",
      "949         1\n",
      "995         1\n",
      "1205        1\n",
      "844         1\n",
      "1100        1\n",
      "1228        1\n",
      "1314        1\n",
      "2444        1\n",
      "717         1\n",
      "737         1\n",
      "909         1\n",
      "1768        1\n",
      "Name: LoanCurrentDaysDelinquent, Length: 2411, dtype: int64\n",
      " 0.0000      105771\n",
      "-17.0000         55\n",
      "-8.5000          54\n",
      "-29.5300         45\n",
      "-34.0000         43\n",
      "-51.0000         42\n",
      "-59.0600         42\n",
      "-25.5000         35\n",
      "-4.2500          34\n",
      "-13.9000         30\n",
      "-42.5000         21\n",
      "-27.0000         20\n",
      "-85.0000         17\n",
      "-76.5000         16\n",
      "-68.0000         15\n",
      "-3.7500          15\n",
      "-29.3700         14\n",
      "-21.2500         13\n",
      "-12.7500         13\n",
      "-118.1200        12\n",
      "-88.5900         12\n",
      "-147.6500        12\n",
      "-102.0000        11\n",
      "-59.5000         11\n",
      "-59.2300         10\n",
      "-44.3000         10\n",
      "-13.5000          9\n",
      "-7.3500           9\n",
      "-30.7600          9\n",
      "-28.3400          8\n",
      "              ...  \n",
      "-590.1300         1\n",
      "-269.3500         1\n",
      "-399.5200         1\n",
      "-127.4000         1\n",
      "-60.7200          1\n",
      "-56.1000          1\n",
      "-5.8900           1\n",
      "-70.5427          1\n",
      "-118.8900         1\n",
      "-49.2600          1\n",
      "-322.4700         1\n",
      "-126.6800         1\n",
      "-52.2100          1\n",
      "-18.1800          1\n",
      "-54.1400          1\n",
      "-36.6030          1\n",
      "-116.1400         1\n",
      "-71.0800          1\n",
      "-87.4200          1\n",
      "-157.4800         1\n",
      "-270.9000         1\n",
      "-467.1000         1\n",
      "-538.2000         1\n",
      "-10.5100          1\n",
      "-277.5000         1\n",
      "-42.2100          1\n",
      "-229.5400         1\n",
      "-24.9500          1\n",
      "-21.2900          1\n",
      "-95.2400          1\n",
      "Name: LP_CollectionFees, Length: 6175, dtype: int64\n",
      "0.00        97034\n",
      "4000.00        84\n",
      "3000.00        50\n",
      "1000.00        49\n",
      "2000.00        45\n",
      "5000.00        40\n",
      "2500.00        27\n",
      "3934.22        27\n",
      "7500.00        21\n",
      "1500.00        21\n",
      "10000.00       19\n",
      "3930.74        16\n",
      "3500.00        15\n",
      "7000.00        14\n",
      "3863.09        13\n",
      "1200.00        12\n",
      "3790.25        10\n",
      "3001.00         9\n",
      "6000.00         9\n",
      "3793.77         9\n",
      "3719.12         9\n",
      "15000.00        9\n",
      "3863.24         9\n",
      "2550.00         9\n",
      "25000.00        8\n",
      "3718.81         6\n",
      "2948.06         6\n",
      "3645.76         6\n",
      "3645.44         6\n",
      "3100.00         5\n",
      "            ...  \n",
      "6776.41         1\n",
      "20747.12        1\n",
      "5542.24         1\n",
      "3573.84         1\n",
      "3712.50         1\n",
      "6905.67         1\n",
      "622.32          1\n",
      "5831.58         1\n",
      "1038.90         1\n",
      "1959.76         1\n",
      "11194.97        1\n",
      "33.59           1\n",
      "1969.77         1\n",
      "1555.08         1\n",
      "2077.40         1\n",
      "2820.67         1\n",
      "81.27           1\n",
      "805.89          1\n",
      "1722.39         1\n",
      "9146.22         1\n",
      "5093.43         1\n",
      "4494.10         1\n",
      "14711.21        1\n",
      "9927.88         1\n",
      "1559.43         1\n",
      "1296.57         1\n",
      "637.85          1\n",
      "3576.60         1\n",
      "2278.82         1\n",
      "1849.07         1\n",
      "Name: LP_GrossPrincipalLoss, Length: 15848, dtype: int64\n",
      "0.00        97222\n",
      "4000.00        80\n",
      "3000.00        47\n",
      "1000.00        45\n",
      "5000.00        39\n",
      "2000.00        39\n",
      "2500.00        27\n",
      "3934.22        26\n",
      "1500.00        21\n",
      "7500.00        21\n",
      "10000.00       18\n",
      "3930.74        15\n",
      "3500.00        14\n",
      "7000.00        13\n",
      "3863.09        12\n",
      "6000.00        10\n",
      "3790.25        10\n",
      "1200.00         9\n",
      "3863.24         9\n",
      "2550.00         8\n",
      "15000.00        8\n",
      "3719.12         8\n",
      "3001.00         8\n",
      "25000.00        8\n",
      "3793.77         8\n",
      "3718.81         6\n",
      "3645.76         6\n",
      "3645.44         6\n",
      "2948.06         5\n",
      "3866.67         5\n",
      "            ...  \n",
      "3429.04         1\n",
      "2565.70         1\n",
      "1950.04         1\n",
      "12024.37        1\n",
      "9927.88         1\n",
      "1296.57         1\n",
      "3576.60         1\n",
      "2278.82         1\n",
      "20747.12        1\n",
      "1193.75         1\n",
      "6776.41         1\n",
      "9708.84         1\n",
      "2751.18         1\n",
      "1700.26         1\n",
      "576.98          1\n",
      "3105.64         1\n",
      "6342.52         1\n",
      "2857.82         1\n",
      "1140.84         1\n",
      "16596.15        1\n",
      "1222.83         1\n",
      "14075.12        1\n",
      "852.75          1\n",
      "4386.87         1\n",
      "7222.60         1\n",
      "1026.35         1\n",
      "1694.79         1\n",
      "3410.75         1\n",
      "6198.35         1\n",
      "3719.62         1\n",
      "Name: LP_NetPrincipalLoss, Length: 15709, dtype: int64\n",
      "0.00       110676\n",
      "100.00         59\n",
      "50.00          44\n",
      "25.00          31\n",
      "85.00          28\n",
      "150.00         26\n",
      "200.00         22\n",
      "250.00         21\n",
      "35.00          21\n",
      "300.00         21\n",
      "75.00          16\n",
      "400.00         15\n",
      "135.00         13\n",
      "10.00          12\n",
      "450.00         11\n",
      "500.00         11\n",
      "20.00          11\n",
      "600.00         10\n",
      "80.00          10\n",
      "350.00          9\n",
      "1000.00         9\n",
      "175.00          8\n",
      "285.00          8\n",
      "235.00          8\n",
      "60.00           8\n",
      "125.00          8\n",
      "385.00          8\n",
      "40.00           7\n",
      "30.00           7\n",
      "1500.00         6\n",
      "            ...  \n",
      "113.73          1\n",
      "2262.88         1\n",
      "2171.76         1\n",
      "3789.12         1\n",
      "3402.00         1\n",
      "741.79          1\n",
      "745.07          1\n",
      "2377.50         1\n",
      "412.62          1\n",
      "51.87           1\n",
      "1056.12         1\n",
      "105.94          1\n",
      "535.56          1\n",
      "1459.27         1\n",
      "3730.56         1\n",
      "596.25          1\n",
      "1584.63         1\n",
      "748.68          1\n",
      "360.56          1\n",
      "18.59           1\n",
      "1358.22         1\n",
      "399.97          1\n",
      "3200.00         1\n",
      "98.00           1\n",
      "245.00          1\n",
      "1715.98         1\n",
      "513.70          1\n",
      "1266.80         1\n",
      "2394.48         1\n",
      "266.70          1\n",
      "Name: LP_NonPrincipalRecoverypayments, Length: 2631, dtype: int64\n",
      "1.0000    113067\n",
      "0.9998         5\n",
      "0.7000         4\n",
      "0.8087         4\n",
      "0.7784         3\n",
      "0.7189         3\n",
      "0.9086         3\n",
      "0.7395         3\n",
      "0.7142         3\n",
      "0.7803         3\n",
      "0.7032         3\n",
      "0.7063         3\n",
      "0.7458         3\n",
      "0.7092         3\n",
      "0.7059         3\n",
      "0.7145         3\n",
      "0.8055         3\n",
      "0.7049         3\n",
      "0.7168         3\n",
      "0.7020         3\n",
      "0.9999         3\n",
      "0.7099         3\n",
      "0.7039         2\n",
      "0.8116         2\n",
      "0.8109         2\n",
      "0.7487         2\n",
      "0.8515         2\n",
      "0.7019         2\n",
      "0.8741         2\n",
      "0.7197         2\n",
      "           ...  \n",
      "0.7250         1\n",
      "0.7917         1\n",
      "0.8636         1\n",
      "0.7935         1\n",
      "0.9132         1\n",
      "0.7391         1\n",
      "0.9524         1\n",
      "0.9106         1\n",
      "0.7211         1\n",
      "0.7478         1\n",
      "0.7289         1\n",
      "0.9555         1\n",
      "0.7849         1\n",
      "0.7999         1\n",
      "0.8910         1\n",
      "0.8133         1\n",
      "0.9113         1\n",
      "0.8685         1\n",
      "0.8549         1\n",
      "0.7936         1\n",
      "0.8882         1\n",
      "0.8725         1\n",
      "0.8126         1\n",
      "0.7095         1\n",
      "0.9963         1\n",
      "0.8167         1\n",
      "0.7854         1\n",
      "0.7903         1\n",
      "0.7167         1\n",
      "0.9575         1\n",
      "Name: PercentFunded, Length: 719, dtype: int64\n",
      "0     109678\n",
      "1       3516\n",
      "2        568\n",
      "3        108\n",
      "4         26\n",
      "5         14\n",
      "9          6\n",
      "7          5\n",
      "6          4\n",
      "8          3\n",
      "16         2\n",
      "18         2\n",
      "24         1\n",
      "14         1\n",
      "19         1\n",
      "21         1\n",
      "39         1\n",
      "Name: Recommendations, dtype: int64\n",
      "0     111806\n",
      "1       1835\n",
      "2        215\n",
      "3         40\n",
      "4         15\n",
      "5          8\n",
      "9          5\n",
      "6          4\n",
      "8          3\n",
      "7          2\n",
      "33         1\n",
      "20         1\n",
      "15         1\n",
      "13         1\n",
      "Name: InvestmentFromFriendsCount, dtype: int64\n",
      "0.00       111806\n",
      "50.00         323\n",
      "100.00        242\n",
      "1000.00       100\n",
      "500.00         97\n",
      "200.00         91\n",
      "25.00          51\n",
      "250.00         49\n",
      "150.00         46\n",
      "75.00          39\n",
      "300.00         31\n",
      "2000.00        28\n",
      "3000.00        26\n",
      "400.00         22\n",
      "5000.00        19\n",
      "1500.00        17\n",
      "2500.00        14\n",
      "600.00         13\n",
      "350.00         13\n",
      "4000.00        13\n",
      "900.00          9\n",
      "60.00           8\n",
      "55.00           8\n",
      "550.00          8\n",
      "30.00           8\n",
      "175.00          8\n",
      "1200.00         7\n",
      "750.00          7\n",
      "7000.00         7\n",
      "1100.00         6\n",
      "            ...  \n",
      "700.08          1\n",
      "567.47          1\n",
      "1001.68         1\n",
      "2372.00         1\n",
      "1645.44         1\n",
      "51.08           1\n",
      "105.44          1\n",
      "214.56          1\n",
      "75.64           1\n",
      "232.00          1\n",
      "190.00          1\n",
      "3200.00         1\n",
      "3600.00         1\n",
      "57.97           1\n",
      "100.67          1\n",
      "790.06          1\n",
      "416.74          1\n",
      "201.59          1\n",
      "8358.69         1\n",
      "991.24          1\n",
      "114.82          1\n",
      "725.00          1\n",
      "9783.14         1\n",
      "110.75          1\n",
      "191.24          1\n",
      "48.51           1\n",
      "102.34          1\n",
      "53.27           1\n",
      "953.33          1\n",
      "501.99          1\n",
      "Name: InvestmentFromFriendsAmount, Length: 726, dtype: int64\n"
     ]
    }
   ],
   "source": [
    "# Here you can see the value counts for the features in same. Notice that one value heavily dominates these variables. \n",
    "for i in same: \n",
    "    print(df[i].value_counts())"
   ]
  },
  {
   "cell_type": "code",
   "execution_count": 9,
   "metadata": {},
   "outputs": [],
   "source": [
    "cleaned=cleaned.drop(same, axis=1)"
   ]
  },
  {
   "cell_type": "markdown",
   "metadata": {},
   "source": [
    "### Fixing variable Types"
   ]
  },
  {
   "cell_type": "code",
   "execution_count": 21,
   "metadata": {},
   "outputs": [],
   "source": [
    "# Find variables that are data type objects. \n",
    "objects=[]\n",
    "for i in cleaned.columns: \n",
    "    if (cleaned.dtypes== \"object\")[i]==True: \n",
    "        objects.append(i)"
   ]
  },
  {
   "cell_type": "code",
   "execution_count": 200,
   "metadata": {},
   "outputs": [
    {
     "data": {
      "text/plain": [
       "['ListingKey',\n",
       " 'ListingCreationDate',\n",
       " 'CreditGrade',\n",
       " 'LoanStatus',\n",
       " 'ClosedDate',\n",
       " 'ProsperRating (Alpha)',\n",
       " 'BorrowerState',\n",
       " 'Occupation',\n",
       " 'EmploymentStatus',\n",
       " 'GroupKey',\n",
       " 'DateCreditPulled',\n",
       " 'FirstRecordedCreditLine',\n",
       " 'IncomeRange',\n",
       " 'LoanKey',\n",
       " 'LoanOriginationDate',\n",
       " 'LoanOriginationQuarter',\n",
       " 'MemberKey']"
      ]
     },
     "execution_count": 200,
     "metadata": {},
     "output_type": "execute_result"
    }
   ],
   "source": [
    "objects"
   ]
  },
  {
   "cell_type": "markdown",
   "metadata": {},
   "source": [
    "Now, i will change select variables to either categorical or datetime. An ordinal variable means that the category has an innate ranking to it while a simple categorical variables means that there is no order. "
   ]
  },
  {
   "cell_type": "code",
   "execution_count": 10,
   "metadata": {},
   "outputs": [],
   "source": [
    "ordinal= [\"CreditGrade\",\"IncomeRange\",\"ProsperRating (Alpha)\",\"ProsperRating (numeric)\",\"ProsperScore\"]\n",
    "categorical=['LoanStatus',\"BorrowerState\",\"Occupation\",\"EmploymentStatus\",\"ListingCategory (numeric)\"]\n",
    "dates=[\"ListingCreationDate\",\"ClosedDate\",\"DateCreditPulled\",\"FirstRecordedCreditLine\",\"LoanOriginationDate\"]"
   ]
  },
  {
   "cell_type": "code",
   "execution_count": 11,
   "metadata": {},
   "outputs": [
    {
     "name": "stderr",
     "output_type": "stream",
     "text": [
      "C:\\Users\\Pavan\\Anaconda3\\lib\\site-packages\\ipykernel_launcher.py:3: FutureWarning: specifying 'categories' or 'ordered' in .astype() is deprecated; pass a CategoricalDtype instead\n",
      "  This is separate from the ipykernel package so we can avoid doing imports until\n"
     ]
    }
   ],
   "source": [
    "# Fix ordinal\n",
    "for order in ordinal: \n",
    "    cleaned[order]= cleaned[order].astype(\"category\", ordered=True)"
   ]
  },
  {
   "cell_type": "code",
   "execution_count": 12,
   "metadata": {},
   "outputs": [
    {
     "name": "stderr",
     "output_type": "stream",
     "text": [
      "C:\\Users\\Pavan\\Anaconda3\\lib\\site-packages\\ipykernel_launcher.py:3: FutureWarning: specifying 'categories' or 'ordered' in .astype() is deprecated; pass a CategoricalDtype instead\n",
      "  This is separate from the ipykernel package so we can avoid doing imports until\n"
     ]
    }
   ],
   "source": [
    "# Fix categorical\n",
    "for column in categorical: \n",
    "    cleaned[column]= cleaned[column].astype(\"category\", ordered=False)"
   ]
  },
  {
   "cell_type": "code",
   "execution_count": 13,
   "metadata": {},
   "outputs": [],
   "source": [
    "# Fix datetime\n",
    "for column in dates: \n",
    "    cleaned[column]= pd.to_datetime(cleaned[column])"
   ]
  },
  {
   "cell_type": "code",
   "execution_count": 205,
   "metadata": {},
   "outputs": [
    {
     "data": {
      "text/plain": [
       "ListingKey                                    object\n",
       "ListingNumber                                  int64\n",
       "ListingCreationDate                   datetime64[ns]\n",
       "CreditGrade                                 category\n",
       "LoanStatus                                  category\n",
       "ClosedDate                            datetime64[ns]\n",
       "BorrowerAPR                                  float64\n",
       "BorrowerRate                                 float64\n",
       "LenderYield                                  float64\n",
       "EstimatedEffectiveYield                      float64\n",
       "EstimatedLoss                                float64\n",
       "EstimatedReturn                              float64\n",
       "ProsperRating (numeric)                     category\n",
       "ProsperRating (Alpha)                       category\n",
       "ProsperScore                                category\n",
       "ListingCategory (numeric)                   category\n",
       "BorrowerState                               category\n",
       "Occupation                                  category\n",
       "EmploymentStatus                            category\n",
       "EmploymentStatusDuration                     float64\n",
       "IsBorrowerHomeowner                             bool\n",
       "CurrentlyInGroup                                bool\n",
       "GroupKey                                      object\n",
       "DateCreditPulled                      datetime64[ns]\n",
       "CreditScoreRangeLower                        float64\n",
       "CreditScoreRangeUpper                        float64\n",
       "FirstRecordedCreditLine               datetime64[ns]\n",
       "CurrentCreditLines                           float64\n",
       "OpenCreditLines                              float64\n",
       "TotalCreditLinespast7years                   float64\n",
       "                                           ...      \n",
       "RevolvingCreditBalance                       float64\n",
       "BankcardUtilization                          float64\n",
       "AvailableBankcardCredit                      float64\n",
       "TotalTrades                                  float64\n",
       "TradesNeverDelinquent (percentage)           float64\n",
       "TradesOpenedLast6Months                      float64\n",
       "DebtToIncomeRatio                            float64\n",
       "IncomeRange                                 category\n",
       "IncomeVerifiable                                bool\n",
       "StatedMonthlyIncome                          float64\n",
       "LoanKey                                       object\n",
       "TotalProsperLoans                            float64\n",
       "TotalProsperPaymentsBilled                   float64\n",
       "OnTimeProsperPayments                        float64\n",
       "ProsperPrincipalBorrowed                     float64\n",
       "ProsperPrincipalOutstanding                  float64\n",
       "ScorexChangeAtTimeOfListing                  float64\n",
       "LoanFirstDefaultedCycleNumber                float64\n",
       "LoanMonthsSinceOrigination                     int64\n",
       "LoanNumber                                     int64\n",
       "LoanOriginalAmount                             int64\n",
       "LoanOriginationDate                   datetime64[ns]\n",
       "LoanOriginationQuarter                        object\n",
       "MemberKey                                     object\n",
       "MonthlyLoanPayment                           float64\n",
       "LP_CustomerPayments                          float64\n",
       "LP_CustomerPrincipalPayments                 float64\n",
       "LP_InterestandFees                           float64\n",
       "LP_ServiceFees                               float64\n",
       "Investors                                      int64\n",
       "Length: 65, dtype: object"
      ]
     },
     "execution_count": 205,
     "metadata": {},
     "output_type": "execute_result"
    }
   ],
   "source": [
    "cleaned.dtypes"
   ]
  },
  {
   "cell_type": "markdown",
   "metadata": {},
   "source": [
    "### Missing Values"
   ]
  },
  {
   "cell_type": "code",
   "execution_count": 26,
   "metadata": {},
   "outputs": [
    {
     "name": "stdout",
     "output_type": "stream",
     "text": [
      "<class 'pandas.core.frame.DataFrame'>\n",
      "Int64Index: 113727 entries, 0 to 113936\n",
      "Data columns (total 65 columns):\n",
      "ListingKey                            113727 non-null object\n",
      "ListingNumber                         113727 non-null int64\n",
      "ListingCreationDate                   113727 non-null datetime64[ns]\n",
      "CreditGrade                           28948 non-null category\n",
      "LoanStatus                            113727 non-null category\n",
      "ClosedDate                            55084 non-null datetime64[ns]\n",
      "BorrowerAPR                           113702 non-null float64\n",
      "BorrowerRate                          113727 non-null float64\n",
      "LenderYield                           113727 non-null float64\n",
      "EstimatedEffectiveYield               84648 non-null float64\n",
      "EstimatedLoss                         84648 non-null float64\n",
      "EstimatedReturn                       84648 non-null float64\n",
      "ProsperRating (numeric)               84648 non-null category\n",
      "ProsperRating (Alpha)                 84648 non-null category\n",
      "ProsperScore                          84648 non-null category\n",
      "ListingCategory (numeric)             113727 non-null category\n",
      "BorrowerState                         108215 non-null category\n",
      "Occupation                            110144 non-null category\n",
      "EmploymentStatus                      111475 non-null category\n",
      "EmploymentStatusDuration              106106 non-null float64\n",
      "IsBorrowerHomeowner                   113727 non-null bool\n",
      "CurrentlyInGroup                      113727 non-null bool\n",
      "GroupKey                              13334 non-null object\n",
      "DateCreditPulled                      113727 non-null datetime64[ns]\n",
      "CreditScoreRangeLower                 113137 non-null float64\n",
      "CreditScoreRangeUpper                 113137 non-null float64\n",
      "FirstRecordedCreditLine               113031 non-null datetime64[ns]\n",
      "CurrentCreditLines                    106127 non-null float64\n",
      "OpenCreditLines                       106127 non-null float64\n",
      "TotalCreditLinespast7years            113031 non-null float64\n",
      "OpenRevolvingAccounts                 113727 non-null int64\n",
      "OpenRevolvingMonthlyPayment           113727 non-null float64\n",
      "InquiriesLast6Months                  113031 non-null float64\n",
      "TotalInquiries                        112572 non-null float64\n",
      "DelinquenciesLast7Years               112740 non-null float64\n",
      "RevolvingCreditBalance                106127 non-null float64\n",
      "BankcardUtilization                   106127 non-null float64\n",
      "AvailableBankcardCredit               106187 non-null float64\n",
      "TotalTrades                           106187 non-null float64\n",
      "TradesNeverDelinquent (percentage)    106187 non-null float64\n",
      "TradesOpenedLast6Months               106187 non-null float64\n",
      "DebtToIncomeRatio                     105189 non-null float64\n",
      "IncomeRange                           113727 non-null category\n",
      "IncomeVerifiable                      113727 non-null bool\n",
      "StatedMonthlyIncome                   113727 non-null float64\n",
      "LoanKey                               113727 non-null object\n",
      "TotalProsperLoans                     22024 non-null float64\n",
      "TotalProsperPaymentsBilled            22024 non-null float64\n",
      "OnTimeProsperPayments                 22024 non-null float64\n",
      "ProsperPrincipalBorrowed              22024 non-null float64\n",
      "ProsperPrincipalOutstanding           22024 non-null float64\n",
      "ScorexChangeAtTimeOfListing           18875 non-null float64\n",
      "LoanFirstDefaultedCycleNumber         16951 non-null float64\n",
      "LoanMonthsSinceOrigination            113727 non-null int64\n",
      "LoanNumber                            113727 non-null int64\n",
      "LoanOriginalAmount                    113727 non-null int64\n",
      "LoanOriginationDate                   113727 non-null datetime64[ns]\n",
      "LoanOriginationQuarter                113727 non-null object\n",
      "MemberKey                             113727 non-null object\n",
      "MonthlyLoanPayment                    113727 non-null float64\n",
      "LP_CustomerPayments                   113727 non-null float64\n",
      "LP_CustomerPrincipalPayments          113727 non-null float64\n",
      "LP_InterestandFees                    113727 non-null float64\n",
      "LP_ServiceFees                        113727 non-null float64\n",
      "Investors                             113727 non-null int64\n",
      "dtypes: bool(3), category(10), datetime64[ns](5), float64(36), int64(6), object(5)\n",
      "memory usage: 47.4+ MB\n"
     ]
    }
   ],
   "source": [
    "cleaned.info()"
   ]
  },
  {
   "cell_type": "markdown",
   "metadata": {},
   "source": [
    "While the missing values are not too bad, I noticed there was some patterns. EstimatedEffectiveYield  EtimatedLoss Estimated Return and the Prosper Ratings and Score each have only about 80,000 values.After review of the documentation, I realized this is because data for these features are only available after 2009. Therefore, to compensate for these missing values I decided to take all values in the dataset on or after 2009. Even though we are losing some data, we still have a very large datset. Also, the economy was very turbulent before 2009, due to a recession, so it is best to keep reletivly  recent data to account for these external factors. \n",
    "\n",
    "Also, the Total prosper Loans, ProsperPrincipal Borrowed, etc. have only about 20,000 values. After review of the documentation, I discovered it was because these are only for people who have previously taken a Loan with Prosper. I will drop these features in a later section of the project. "
   ]
  },
  {
   "cell_type": "code",
   "execution_count": 14,
   "metadata": {},
   "outputs": [],
   "source": [
    "# Find Creation year and keep only on or after 2009\n",
    "cleaned[\"creation_year\"]=cleaned[\"ListingCreationDate\"].dt.year\n",
    "cleaned=cleaned[cleaned[\"creation_year\"]>=2009]"
   ]
  },
  {
   "cell_type": "code",
   "execution_count": 18,
   "metadata": {},
   "outputs": [
    {
     "name": "stdout",
     "output_type": "stream",
     "text": [
      "<class 'pandas.core.frame.DataFrame'>\n",
      "Int64Index: 84676 entries, 1 to 113936\n",
      "Data columns (total 63 columns):\n",
      "ListingKey                            84676 non-null object\n",
      "ListingNumber                         84676 non-null int64\n",
      "ListingCreationDate                   84676 non-null datetime64[ns]\n",
      "LoanStatus                            84676 non-null category\n",
      "ClosedDate                            26033 non-null datetime64[ns]\n",
      "BorrowerAPR                           84676 non-null float64\n",
      "BorrowerRate                          84676 non-null float64\n",
      "LenderYield                           84676 non-null float64\n",
      "EstimatedEffectiveYield               84648 non-null float64\n",
      "EstimatedLoss                         84648 non-null float64\n",
      "EstimatedReturn                       84648 non-null float64\n",
      "ProsperRating (numeric)               84648 non-null category\n",
      "ProsperRating (Alpha)                 84648 non-null category\n",
      "ProsperScore                          84648 non-null category\n",
      "ListingCategory (numeric)             84676 non-null category\n",
      "BorrowerState                         84676 non-null category\n",
      "Occupation                            83345 non-null category\n",
      "EmploymentStatus                      84676 non-null category\n",
      "EmploymentStatusDuration              84657 non-null float64\n",
      "IsBorrowerHomeowner                   84676 non-null bool\n",
      "CurrentlyInGroup                      84676 non-null bool\n",
      "DateCreditPulled                      84676 non-null datetime64[ns]\n",
      "CreditScoreRangeLower                 84676 non-null float64\n",
      "CreditScoreRangeUpper                 84676 non-null float64\n",
      "FirstRecordedCreditLine               84676 non-null datetime64[ns]\n",
      "CurrentCreditLines                    84676 non-null float64\n",
      "OpenCreditLines                       84676 non-null float64\n",
      "TotalCreditLinespast7years            84676 non-null float64\n",
      "OpenRevolvingAccounts                 84676 non-null int64\n",
      "OpenRevolvingMonthlyPayment           84676 non-null float64\n",
      "InquiriesLast6Months                  84676 non-null float64\n",
      "TotalInquiries                        84676 non-null float64\n",
      "DelinquenciesLast7Years               84676 non-null float64\n",
      "RevolvingCreditBalance                84676 non-null float64\n",
      "BankcardUtilization                   84676 non-null float64\n",
      "AvailableBankcardCredit               84676 non-null float64\n",
      "TotalTrades                           84676 non-null float64\n",
      "TradesNeverDelinquent (percentage)    84676 non-null float64\n",
      "TradesOpenedLast6Months               84676 non-null float64\n",
      "DebtToIncomeRatio                     77395 non-null float64\n",
      "IncomeRange                           84676 non-null category\n",
      "IncomeVerifiable                      84676 non-null bool\n",
      "StatedMonthlyIncome                   84676 non-null float64\n",
      "LoanKey                               84676 non-null object\n",
      "TotalProsperLoans                     19761 non-null float64\n",
      "TotalProsperPaymentsBilled            19761 non-null float64\n",
      "OnTimeProsperPayments                 19761 non-null float64\n",
      "ProsperPrincipalBorrowed              19761 non-null float64\n",
      "ProsperPrincipalOutstanding           19761 non-null float64\n",
      "ScorexChangeAtTimeOfListing           16614 non-null float64\n",
      "LoanMonthsSinceOrigination            84676 non-null int64\n",
      "LoanNumber                            84676 non-null int64\n",
      "LoanOriginalAmount                    84676 non-null int64\n",
      "LoanOriginationDate                   84676 non-null datetime64[ns]\n",
      "LoanOriginationQuarter                84676 non-null object\n",
      "MemberKey                             84676 non-null object\n",
      "MonthlyLoanPayment                    84676 non-null float64\n",
      "LP_CustomerPayments                   84676 non-null float64\n",
      "LP_CustomerPrincipalPayments          84676 non-null float64\n",
      "LP_InterestandFees                    84676 non-null float64\n",
      "LP_ServiceFees                        84676 non-null float64\n",
      "Investors                             84676 non-null int64\n",
      "creation_year                         84676 non-null int64\n",
      "dtypes: bool(3), category(9), datetime64[ns](5), float64(35), int64(7), object(4)\n",
      "memory usage: 34.6+ MB\n"
     ]
    }
   ],
   "source": [
    "cleaned.info()"
   ]
  },
  {
   "cell_type": "code",
   "execution_count": 15,
   "metadata": {},
   "outputs": [],
   "source": [
    "# Drop features that are too low\n",
    "cleaned= cleaned.drop([\"CreditGrade\",\"GroupKey\",\"LoanFirstDefaultedCycleNumber\"], axis=1)"
   ]
  },
  {
   "cell_type": "markdown",
   "metadata": {},
   "source": [
    "As you can see the missing values now seem to be few and randomly placed."
   ]
  },
  {
   "cell_type": "markdown",
   "metadata": {},
   "source": [
    "## Feature Selection"
   ]
  },
  {
   "cell_type": "markdown",
   "metadata": {},
   "source": [
    "For my analysis it would be unreasonable to analysis all the features as there are too many. Therefore, I will use a combination of Statistics (VIF) , basic machine learning( logistic regression), and intuition to narrow down to my top variables for further analysis.  "
   ]
  },
  {
   "cell_type": "markdown",
   "metadata": {},
   "source": [
    "### Variation Infation Factor to deal with Colinearity"
   ]
  },
  {
   "cell_type": "markdown",
   "metadata": {},
   "source": [
    "While analyzing the dataset it appears that some variables may not be indepednent and could convey the same meaning. Therefore, it would be best to deal with these colinearities by checking the VIFs. Also, dealing with colinearity will help increase reliability in our logistic regression. "
   ]
  },
  {
   "cell_type": "code",
   "execution_count": 19,
   "metadata": {},
   "outputs": [],
   "source": [
    "# get numerical variables and drop nulls. \n",
    "num= cleaned._get_numeric_data()\n",
    "num=num.dropna()\n"
   ]
  },
  {
   "cell_type": "code",
   "execution_count": 20,
   "metadata": {},
   "outputs": [],
   "source": [
    "num=num.reset_index().drop(\"index\", axis=1)"
   ]
  },
  {
   "cell_type": "code",
   "execution_count": 21,
   "metadata": {},
   "outputs": [],
   "source": [
    "# create intercept\n",
    "num[\"intercept\"]=1"
   ]
  },
  {
   "cell_type": "code",
   "execution_count": 22,
   "metadata": {},
   "outputs": [],
   "source": [
    "for i in num.columns: \n",
    "    num[i]=num[i].astype(float)"
   ]
  },
  {
   "cell_type": "code",
   "execution_count": 23,
   "metadata": {},
   "outputs": [
    {
     "name": "stderr",
     "output_type": "stream",
     "text": [
      "C:\\Users\\Pavan\\Anaconda3\\lib\\site-packages\\ipykernel_launcher.py:11: RuntimeWarning: divide by zero encountered in double_scalars\n",
      "  # This is added back by InteractiveShellApp.init_path()\n",
      "C:\\Users\\Pavan\\Anaconda3\\lib\\site-packages\\statsmodels\\regression\\linear_model.py:1543: RuntimeWarning: divide by zero encountered in double_scalars\n",
      "  return 1 - self.ssr/self.centered_tss\n"
     ]
    }
   ],
   "source": [
    "# Create Vifs. I do this by running a regression to try to predict a variable by using all other variables in the datset.I then use the r2 value to calulate the VIF.\n",
    "# I use a loop to repeat this for all features. \n",
    "import statsmodels.formula.api as sm\n",
    "features = num.columns\n",
    "feature_name=[]\n",
    "vifs=[]\n",
    "for i in range(len(features)): \n",
    "    y= str(features[i])\n",
    "    x= np.setdiff1d(features, y)\n",
    "    mod= sm.OLS(num[y],num[x])\n",
    "    res=mod.fit()\n",
    "    rsq=res.rsquared\n",
    "    vif= round(1/(1-rsq),2)\n",
    "    feature_name.append(features[i])\n",
    "    vifs.append(vif)"
   ]
  },
  {
   "cell_type": "code",
   "execution_count": 24,
   "metadata": {},
   "outputs": [
    {
     "data": {
      "text/html": [
       "<div>\n",
       "<style scoped>\n",
       "    .dataframe tbody tr th:only-of-type {\n",
       "        vertical-align: middle;\n",
       "    }\n",
       "\n",
       "    .dataframe tbody tr th {\n",
       "        vertical-align: top;\n",
       "    }\n",
       "\n",
       "    .dataframe thead th {\n",
       "        text-align: right;\n",
       "    }\n",
       "</style>\n",
       "<table border=\"1\" class=\"dataframe\">\n",
       "  <thead>\n",
       "    <tr style=\"text-align: right;\">\n",
       "      <th></th>\n",
       "      <th>feature</th>\n",
       "      <th>vif</th>\n",
       "    </tr>\n",
       "  </thead>\n",
       "  <tbody>\n",
       "    <tr>\n",
       "      <th>0</th>\n",
       "      <td>ListingNumber</td>\n",
       "      <td>58.35</td>\n",
       "    </tr>\n",
       "    <tr>\n",
       "      <th>1</th>\n",
       "      <td>BorrowerAPR</td>\n",
       "      <td>119.03</td>\n",
       "    </tr>\n",
       "    <tr>\n",
       "      <th>2</th>\n",
       "      <td>BorrowerRate</td>\n",
       "      <td>116630.56</td>\n",
       "    </tr>\n",
       "    <tr>\n",
       "      <th>3</th>\n",
       "      <td>LenderYield</td>\n",
       "      <td>117444.08</td>\n",
       "    </tr>\n",
       "    <tr>\n",
       "      <th>4</th>\n",
       "      <td>EstimatedEffectiveYield</td>\n",
       "      <td>8.01</td>\n",
       "    </tr>\n",
       "  </tbody>\n",
       "</table>\n",
       "</div>"
      ],
      "text/plain": [
       "                   feature        vif\n",
       "0            ListingNumber      58.35\n",
       "1              BorrowerAPR     119.03\n",
       "2             BorrowerRate  116630.56\n",
       "3              LenderYield  117444.08\n",
       "4  EstimatedEffectiveYield       8.01"
      ]
     },
     "execution_count": 24,
     "metadata": {},
     "output_type": "execute_result"
    }
   ],
   "source": [
    "v= pd.DataFrame()\n",
    "v[\"feature\"]= feature_name\n",
    "v[\"vif\"]= vifs\n",
    "v.head()"
   ]
  },
  {
   "cell_type": "code",
   "execution_count": 25,
   "metadata": {},
   "outputs": [
    {
     "data": {
      "text/html": [
       "<div>\n",
       "<style scoped>\n",
       "    .dataframe tbody tr th:only-of-type {\n",
       "        vertical-align: middle;\n",
       "    }\n",
       "\n",
       "    .dataframe tbody tr th {\n",
       "        vertical-align: top;\n",
       "    }\n",
       "\n",
       "    .dataframe thead th {\n",
       "        text-align: right;\n",
       "    }\n",
       "</style>\n",
       "<table border=\"1\" class=\"dataframe\">\n",
       "  <thead>\n",
       "    <tr style=\"text-align: right;\">\n",
       "      <th></th>\n",
       "      <th>feature</th>\n",
       "      <th>vif</th>\n",
       "    </tr>\n",
       "  </thead>\n",
       "  <tbody>\n",
       "    <tr>\n",
       "      <th>0</th>\n",
       "      <td>ListingNumber</td>\n",
       "      <td>5.835000e+01</td>\n",
       "    </tr>\n",
       "    <tr>\n",
       "      <th>1</th>\n",
       "      <td>BorrowerAPR</td>\n",
       "      <td>1.190300e+02</td>\n",
       "    </tr>\n",
       "    <tr>\n",
       "      <th>2</th>\n",
       "      <td>BorrowerRate</td>\n",
       "      <td>1.166306e+05</td>\n",
       "    </tr>\n",
       "    <tr>\n",
       "      <th>3</th>\n",
       "      <td>LenderYield</td>\n",
       "      <td>1.174441e+05</td>\n",
       "    </tr>\n",
       "    <tr>\n",
       "      <th>5</th>\n",
       "      <td>EstimatedLoss</td>\n",
       "      <td>4.285900e+02</td>\n",
       "    </tr>\n",
       "    <tr>\n",
       "      <th>6</th>\n",
       "      <td>EstimatedReturn</td>\n",
       "      <td>1.662600e+02</td>\n",
       "    </tr>\n",
       "    <tr>\n",
       "      <th>10</th>\n",
       "      <td>CreditScoreRangeLower</td>\n",
       "      <td>inf</td>\n",
       "    </tr>\n",
       "    <tr>\n",
       "      <th>11</th>\n",
       "      <td>CreditScoreRangeUpper</td>\n",
       "      <td>inf</td>\n",
       "    </tr>\n",
       "    <tr>\n",
       "      <th>12</th>\n",
       "      <td>CurrentCreditLines</td>\n",
       "      <td>1.275000e+01</td>\n",
       "    </tr>\n",
       "    <tr>\n",
       "      <th>13</th>\n",
       "      <td>OpenCreditLines</td>\n",
       "      <td>1.465000e+01</td>\n",
       "    </tr>\n",
       "    <tr>\n",
       "      <th>30</th>\n",
       "      <td>TotalProsperPaymentsBilled</td>\n",
       "      <td>4.829000e+01</td>\n",
       "    </tr>\n",
       "    <tr>\n",
       "      <th>31</th>\n",
       "      <td>OnTimeProsperPayments</td>\n",
       "      <td>4.729000e+01</td>\n",
       "    </tr>\n",
       "    <tr>\n",
       "      <th>35</th>\n",
       "      <td>LoanMonthsSinceOrigination</td>\n",
       "      <td>4.511000e+01</td>\n",
       "    </tr>\n",
       "    <tr>\n",
       "      <th>36</th>\n",
       "      <td>LoanNumber</td>\n",
       "      <td>1.194900e+02</td>\n",
       "    </tr>\n",
       "    <tr>\n",
       "      <th>37</th>\n",
       "      <td>LoanOriginalAmount</td>\n",
       "      <td>1.174000e+01</td>\n",
       "    </tr>\n",
       "    <tr>\n",
       "      <th>39</th>\n",
       "      <td>LP_CustomerPayments</td>\n",
       "      <td>inf</td>\n",
       "    </tr>\n",
       "    <tr>\n",
       "      <th>40</th>\n",
       "      <td>LP_CustomerPrincipalPayments</td>\n",
       "      <td>inf</td>\n",
       "    </tr>\n",
       "    <tr>\n",
       "      <th>41</th>\n",
       "      <td>LP_InterestandFees</td>\n",
       "      <td>inf</td>\n",
       "    </tr>\n",
       "    <tr>\n",
       "      <th>42</th>\n",
       "      <td>LP_ServiceFees</td>\n",
       "      <td>1.078000e+01</td>\n",
       "    </tr>\n",
       "    <tr>\n",
       "      <th>44</th>\n",
       "      <td>creation_year</td>\n",
       "      <td>1.936000e+01</td>\n",
       "    </tr>\n",
       "  </tbody>\n",
       "</table>\n",
       "</div>"
      ],
      "text/plain": [
       "                         feature           vif\n",
       "0                  ListingNumber  5.835000e+01\n",
       "1                    BorrowerAPR  1.190300e+02\n",
       "2                   BorrowerRate  1.166306e+05\n",
       "3                    LenderYield  1.174441e+05\n",
       "5                  EstimatedLoss  4.285900e+02\n",
       "6                EstimatedReturn  1.662600e+02\n",
       "10         CreditScoreRangeLower           inf\n",
       "11         CreditScoreRangeUpper           inf\n",
       "12            CurrentCreditLines  1.275000e+01\n",
       "13               OpenCreditLines  1.465000e+01\n",
       "30    TotalProsperPaymentsBilled  4.829000e+01\n",
       "31         OnTimeProsperPayments  4.729000e+01\n",
       "35    LoanMonthsSinceOrigination  4.511000e+01\n",
       "36                    LoanNumber  1.194900e+02\n",
       "37            LoanOriginalAmount  1.174000e+01\n",
       "39           LP_CustomerPayments           inf\n",
       "40  LP_CustomerPrincipalPayments           inf\n",
       "41            LP_InterestandFees           inf\n",
       "42                LP_ServiceFees  1.078000e+01\n",
       "44                 creation_year  1.936000e+01"
      ]
     },
     "execution_count": 25,
     "metadata": {},
     "output_type": "execute_result"
    }
   ],
   "source": [
    "v[v[\"vif\"]>10]"
   ]
  },
  {
   "cell_type": "markdown",
   "metadata": {},
   "source": [
    "As you can see there are some very large VIFs and definitly some co linearity in the dataset. I will therefore drop the following 10 features and recalcalulate. "
   ]
  },
  {
   "cell_type": "code",
   "execution_count": 26,
   "metadata": {},
   "outputs": [],
   "source": [
    "clean_drop=[\"ListingNumber\", \"LoanNumber\",\"creation_year\",\"CreditScoreRangeUpper\", \"LP_CustomerPayments\",\"BorrowerRate\",\"LenderYield\",\"EstimatedLoss\",\"OpenCreditLines\",\"TotalProsperPaymentsBilled\"]\n",
    "num=num.drop(clean_drop, axis=1)"
   ]
  },
  {
   "cell_type": "code",
   "execution_count": 227,
   "metadata": {},
   "outputs": [],
   "source": [
    "import statsmodels.formula.api as sm\n",
    "features = num.columns\n",
    "feature_name=[]\n",
    "vifs=[]\n",
    "for i in range(len(features)): \n",
    "    y= str(features[i])\n",
    "    x= np.setdiff1d(features, y)\n",
    "    mod= sm.OLS(num[y],num[x])\n",
    "    res=mod.fit()\n",
    "    rsq=res.rsquared\n",
    "    vif= round(1/(1-rsq),2)\n",
    "    feature_name.append(features[i])\n",
    "    vifs.append(vif)"
   ]
  },
  {
   "cell_type": "code",
   "execution_count": 228,
   "metadata": {},
   "outputs": [
    {
     "data": {
      "text/html": [
       "<div>\n",
       "<style scoped>\n",
       "    .dataframe tbody tr th:only-of-type {\n",
       "        vertical-align: middle;\n",
       "    }\n",
       "\n",
       "    .dataframe tbody tr th {\n",
       "        vertical-align: top;\n",
       "    }\n",
       "\n",
       "    .dataframe thead th {\n",
       "        text-align: right;\n",
       "    }\n",
       "</style>\n",
       "<table border=\"1\" class=\"dataframe\">\n",
       "  <thead>\n",
       "    <tr style=\"text-align: right;\">\n",
       "      <th></th>\n",
       "      <th>feature</th>\n",
       "      <th>vif</th>\n",
       "    </tr>\n",
       "  </thead>\n",
       "  <tbody>\n",
       "    <tr>\n",
       "      <th>0</th>\n",
       "      <td>BorrowerAPR</td>\n",
       "      <td>5.96</td>\n",
       "    </tr>\n",
       "    <tr>\n",
       "      <th>1</th>\n",
       "      <td>EstimatedEffectiveYield</td>\n",
       "      <td>6.35</td>\n",
       "    </tr>\n",
       "    <tr>\n",
       "      <th>2</th>\n",
       "      <td>EstimatedReturn</td>\n",
       "      <td>4.33</td>\n",
       "    </tr>\n",
       "    <tr>\n",
       "      <th>3</th>\n",
       "      <td>EmploymentStatusDuration</td>\n",
       "      <td>1.08</td>\n",
       "    </tr>\n",
       "    <tr>\n",
       "      <th>4</th>\n",
       "      <td>IsBorrowerHomeowner</td>\n",
       "      <td>1.39</td>\n",
       "    </tr>\n",
       "  </tbody>\n",
       "</table>\n",
       "</div>"
      ],
      "text/plain": [
       "                    feature   vif\n",
       "0               BorrowerAPR  5.96\n",
       "1   EstimatedEffectiveYield  6.35\n",
       "2           EstimatedReturn  4.33\n",
       "3  EmploymentStatusDuration  1.08\n",
       "4       IsBorrowerHomeowner  1.39"
      ]
     },
     "execution_count": 228,
     "metadata": {},
     "output_type": "execute_result"
    }
   ],
   "source": [
    "v= pd.DataFrame()\n",
    "v[\"feature\"]= feature_name\n",
    "v[\"vif\"]= vifs\n",
    "v.head()"
   ]
  },
  {
   "cell_type": "code",
   "execution_count": 229,
   "metadata": {},
   "outputs": [
    {
     "data": {
      "text/html": [
       "<div>\n",
       "<style scoped>\n",
       "    .dataframe tbody tr th:only-of-type {\n",
       "        vertical-align: middle;\n",
       "    }\n",
       "\n",
       "    .dataframe tbody tr th {\n",
       "        vertical-align: top;\n",
       "    }\n",
       "\n",
       "    .dataframe thead th {\n",
       "        text-align: right;\n",
       "    }\n",
       "</style>\n",
       "<table border=\"1\" class=\"dataframe\">\n",
       "  <thead>\n",
       "    <tr style=\"text-align: right;\">\n",
       "      <th></th>\n",
       "      <th>feature</th>\n",
       "      <th>vif</th>\n",
       "    </tr>\n",
       "  </thead>\n",
       "  <tbody>\n",
       "  </tbody>\n",
       "</table>\n",
       "</div>"
      ],
      "text/plain": [
       "Empty DataFrame\n",
       "Columns: [feature, vif]\n",
       "Index: []"
      ]
     },
     "execution_count": 229,
     "metadata": {},
     "output_type": "execute_result"
    }
   ],
   "source": [
    "v[v[\"vif\"]>10]"
   ]
  },
  {
   "cell_type": "markdown",
   "metadata": {},
   "source": [
    "As you can see the VIFs are less than 10 a sign that we have decreased co linearity."
   ]
  },
  {
   "cell_type": "code",
   "execution_count": 230,
   "metadata": {},
   "outputs": [
    {
     "data": {
      "text/html": [
       "<div>\n",
       "<style scoped>\n",
       "    .dataframe tbody tr th:only-of-type {\n",
       "        vertical-align: middle;\n",
       "    }\n",
       "\n",
       "    .dataframe tbody tr th {\n",
       "        vertical-align: top;\n",
       "    }\n",
       "\n",
       "    .dataframe thead th {\n",
       "        text-align: right;\n",
       "    }\n",
       "</style>\n",
       "<table border=\"1\" class=\"dataframe\">\n",
       "  <thead>\n",
       "    <tr style=\"text-align: right;\">\n",
       "      <th></th>\n",
       "      <th>feature</th>\n",
       "      <th>vif</th>\n",
       "    </tr>\n",
       "  </thead>\n",
       "  <tbody>\n",
       "    <tr>\n",
       "      <th>0</th>\n",
       "      <td>BorrowerAPR</td>\n",
       "      <td>5.96</td>\n",
       "    </tr>\n",
       "    <tr>\n",
       "      <th>1</th>\n",
       "      <td>EstimatedEffectiveYield</td>\n",
       "      <td>6.35</td>\n",
       "    </tr>\n",
       "    <tr>\n",
       "      <th>2</th>\n",
       "      <td>EstimatedReturn</td>\n",
       "      <td>4.33</td>\n",
       "    </tr>\n",
       "    <tr>\n",
       "      <th>3</th>\n",
       "      <td>EmploymentStatusDuration</td>\n",
       "      <td>1.08</td>\n",
       "    </tr>\n",
       "    <tr>\n",
       "      <th>4</th>\n",
       "      <td>IsBorrowerHomeowner</td>\n",
       "      <td>1.39</td>\n",
       "    </tr>\n",
       "    <tr>\n",
       "      <th>5</th>\n",
       "      <td>CurrentlyInGroup</td>\n",
       "      <td>1.11</td>\n",
       "    </tr>\n",
       "    <tr>\n",
       "      <th>6</th>\n",
       "      <td>CreditScoreRangeLower</td>\n",
       "      <td>3.68</td>\n",
       "    </tr>\n",
       "    <tr>\n",
       "      <th>7</th>\n",
       "      <td>CurrentCreditLines</td>\n",
       "      <td>5.10</td>\n",
       "    </tr>\n",
       "    <tr>\n",
       "      <th>8</th>\n",
       "      <td>TotalCreditLinespast7years</td>\n",
       "      <td>8.10</td>\n",
       "    </tr>\n",
       "    <tr>\n",
       "      <th>9</th>\n",
       "      <td>OpenRevolvingAccounts</td>\n",
       "      <td>4.15</td>\n",
       "    </tr>\n",
       "    <tr>\n",
       "      <th>10</th>\n",
       "      <td>OpenRevolvingMonthlyPayment</td>\n",
       "      <td>2.93</td>\n",
       "    </tr>\n",
       "    <tr>\n",
       "      <th>11</th>\n",
       "      <td>InquiriesLast6Months</td>\n",
       "      <td>1.97</td>\n",
       "    </tr>\n",
       "    <tr>\n",
       "      <th>12</th>\n",
       "      <td>TotalInquiries</td>\n",
       "      <td>1.93</td>\n",
       "    </tr>\n",
       "    <tr>\n",
       "      <th>13</th>\n",
       "      <td>DelinquenciesLast7Years</td>\n",
       "      <td>1.52</td>\n",
       "    </tr>\n",
       "    <tr>\n",
       "      <th>14</th>\n",
       "      <td>RevolvingCreditBalance</td>\n",
       "      <td>2.13</td>\n",
       "    </tr>\n",
       "    <tr>\n",
       "      <th>15</th>\n",
       "      <td>BankcardUtilization</td>\n",
       "      <td>1.84</td>\n",
       "    </tr>\n",
       "    <tr>\n",
       "      <th>16</th>\n",
       "      <td>AvailableBankcardCredit</td>\n",
       "      <td>1.57</td>\n",
       "    </tr>\n",
       "    <tr>\n",
       "      <th>17</th>\n",
       "      <td>TotalTrades</td>\n",
       "      <td>9.30</td>\n",
       "    </tr>\n",
       "    <tr>\n",
       "      <th>18</th>\n",
       "      <td>TradesNeverDelinquent (percentage)</td>\n",
       "      <td>1.85</td>\n",
       "    </tr>\n",
       "    <tr>\n",
       "      <th>19</th>\n",
       "      <td>TradesOpenedLast6Months</td>\n",
       "      <td>1.37</td>\n",
       "    </tr>\n",
       "    <tr>\n",
       "      <th>20</th>\n",
       "      <td>DebtToIncomeRatio</td>\n",
       "      <td>1.17</td>\n",
       "    </tr>\n",
       "    <tr>\n",
       "      <th>21</th>\n",
       "      <td>IncomeVerifiable</td>\n",
       "      <td>0.00</td>\n",
       "    </tr>\n",
       "    <tr>\n",
       "      <th>22</th>\n",
       "      <td>StatedMonthlyIncome</td>\n",
       "      <td>1.65</td>\n",
       "    </tr>\n",
       "    <tr>\n",
       "      <th>23</th>\n",
       "      <td>TotalProsperLoans</td>\n",
       "      <td>2.82</td>\n",
       "    </tr>\n",
       "    <tr>\n",
       "      <th>24</th>\n",
       "      <td>OnTimeProsperPayments</td>\n",
       "      <td>2.34</td>\n",
       "    </tr>\n",
       "    <tr>\n",
       "      <th>25</th>\n",
       "      <td>ProsperPrincipalBorrowed</td>\n",
       "      <td>2.49</td>\n",
       "    </tr>\n",
       "    <tr>\n",
       "      <th>26</th>\n",
       "      <td>ProsperPrincipalOutstanding</td>\n",
       "      <td>1.56</td>\n",
       "    </tr>\n",
       "    <tr>\n",
       "      <th>27</th>\n",
       "      <td>ScorexChangeAtTimeOfListing</td>\n",
       "      <td>1.51</td>\n",
       "    </tr>\n",
       "    <tr>\n",
       "      <th>28</th>\n",
       "      <td>LoanMonthsSinceOrigination</td>\n",
       "      <td>2.69</td>\n",
       "    </tr>\n",
       "    <tr>\n",
       "      <th>29</th>\n",
       "      <td>LoanOriginalAmount</td>\n",
       "      <td>9.62</td>\n",
       "    </tr>\n",
       "    <tr>\n",
       "      <th>30</th>\n",
       "      <td>MonthlyLoanPayment</td>\n",
       "      <td>6.45</td>\n",
       "    </tr>\n",
       "    <tr>\n",
       "      <th>31</th>\n",
       "      <td>LP_CustomerPrincipalPayments</td>\n",
       "      <td>1.97</td>\n",
       "    </tr>\n",
       "    <tr>\n",
       "      <th>32</th>\n",
       "      <td>LP_InterestandFees</td>\n",
       "      <td>7.80</td>\n",
       "    </tr>\n",
       "    <tr>\n",
       "      <th>33</th>\n",
       "      <td>LP_ServiceFees</td>\n",
       "      <td>9.84</td>\n",
       "    </tr>\n",
       "    <tr>\n",
       "      <th>34</th>\n",
       "      <td>Investors</td>\n",
       "      <td>1.79</td>\n",
       "    </tr>\n",
       "    <tr>\n",
       "      <th>35</th>\n",
       "      <td>intercept</td>\n",
       "      <td>0.00</td>\n",
       "    </tr>\n",
       "  </tbody>\n",
       "</table>\n",
       "</div>"
      ],
      "text/plain": [
       "                               feature   vif\n",
       "0                          BorrowerAPR  5.96\n",
       "1              EstimatedEffectiveYield  6.35\n",
       "2                      EstimatedReturn  4.33\n",
       "3             EmploymentStatusDuration  1.08\n",
       "4                  IsBorrowerHomeowner  1.39\n",
       "5                     CurrentlyInGroup  1.11\n",
       "6                CreditScoreRangeLower  3.68\n",
       "7                   CurrentCreditLines  5.10\n",
       "8           TotalCreditLinespast7years  8.10\n",
       "9                OpenRevolvingAccounts  4.15\n",
       "10         OpenRevolvingMonthlyPayment  2.93\n",
       "11                InquiriesLast6Months  1.97\n",
       "12                      TotalInquiries  1.93\n",
       "13             DelinquenciesLast7Years  1.52\n",
       "14              RevolvingCreditBalance  2.13\n",
       "15                 BankcardUtilization  1.84\n",
       "16             AvailableBankcardCredit  1.57\n",
       "17                         TotalTrades  9.30\n",
       "18  TradesNeverDelinquent (percentage)  1.85\n",
       "19             TradesOpenedLast6Months  1.37\n",
       "20                   DebtToIncomeRatio  1.17\n",
       "21                    IncomeVerifiable  0.00\n",
       "22                 StatedMonthlyIncome  1.65\n",
       "23                   TotalProsperLoans  2.82\n",
       "24               OnTimeProsperPayments  2.34\n",
       "25            ProsperPrincipalBorrowed  2.49\n",
       "26         ProsperPrincipalOutstanding  1.56\n",
       "27         ScorexChangeAtTimeOfListing  1.51\n",
       "28          LoanMonthsSinceOrigination  2.69\n",
       "29                  LoanOriginalAmount  9.62\n",
       "30                  MonthlyLoanPayment  6.45\n",
       "31        LP_CustomerPrincipalPayments  1.97\n",
       "32                  LP_InterestandFees  7.80\n",
       "33                      LP_ServiceFees  9.84\n",
       "34                           Investors  1.79\n",
       "35                           intercept  0.00"
      ]
     },
     "execution_count": 230,
     "metadata": {},
     "output_type": "execute_result"
    }
   ],
   "source": [
    "v"
   ]
  },
  {
   "cell_type": "code",
   "execution_count": 17,
   "metadata": {},
   "outputs": [],
   "source": [
    "# drop the values\n",
    "cleaned=cleaned.drop(clean_drop, axis=1)"
   ]
  },
  {
   "cell_type": "markdown",
   "metadata": {},
   "source": [
    "### Logistic Regression"
   ]
  },
  {
   "cell_type": "markdown",
   "metadata": {},
   "source": [
    "Now, we can run a run a logistic regression to help narrow down the features even more. However, it is important to note that the purpose of this regression is not to predict but to get a general sense of the  important features for Loan Status. Therefore, I have skipped some steps like splitting into train test sets. Also, while there is definity more preprocessing steps that one can do, I believe the steps taken here are sufficient to get a general understanding of the dataet to help guide our intuition. "
   ]
  },
  {
   "cell_type": "code",
   "execution_count": 280,
   "metadata": {},
   "outputs": [],
   "source": [
    "ml= cleaned.copy()"
   ]
  },
  {
   "cell_type": "markdown",
   "metadata": {},
   "source": [
    "#### Preproccessing "
   ]
  },
  {
   "cell_type": "markdown",
   "metadata": {},
   "source": [
    "Before, we run the regression, we must do some initial preprocessing. First, lets drop variables that will create a major dimensionality problem and thus skew our results. "
   ]
  },
  {
   "cell_type": "code",
   "execution_count": 281,
   "metadata": {},
   "outputs": [
    {
     "data": {
      "text/plain": [
       "1     53078\n",
       "7      9203\n",
       "2      6787\n",
       "3      5287\n",
       "6      2229\n",
       "13     1990\n",
       "15     1521\n",
       "18      882\n",
       "14      870\n",
       "20      768\n",
       "19      762\n",
       "16      303\n",
       "5       276\n",
       "11      215\n",
       "8       199\n",
       "10       91\n",
       "9        85\n",
       "12       58\n",
       "17       52\n",
       "0        20\n",
       "4         0\n",
       "Name: ListingCategory (numeric), dtype: int64"
      ]
     },
     "execution_count": 281,
     "metadata": {},
     "output_type": "execute_result"
    }
   ],
   "source": [
    "# the listing category has no variation and is will cause dimensionality issues. \n",
    "ml[\"ListingCategory (numeric)\"].value_counts()"
   ]
  },
  {
   "cell_type": "code",
   "execution_count": 282,
   "metadata": {},
   "outputs": [],
   "source": [
    "# dates will also cause dimensionality problems. \n",
    "ml=ml.drop([\"ClosedDate\",\"ListingCategory (numeric)\"], axis=1)"
   ]
  },
  {
   "cell_type": "code",
   "execution_count": 285,
   "metadata": {},
   "outputs": [],
   "source": [
    "# Drop Keys and dates\n",
    "ml=ml.drop([\"ListingKey\",\"ListingCreationDate\",\"DateCreditPulled\",\"LoanKey\",\"LoanOriginationDate\",\"MemberKey\",\"LoanOriginationQuarter\",\"BorrowerState\"], axis=1)"
   ]
  },
  {
   "cell_type": "code",
   "execution_count": 289,
   "metadata": {},
   "outputs": [],
   "source": [
    "ml=ml.drop([\"FirstRecordedCreditLine\"], axis=1)"
   ]
  },
  {
   "cell_type": "code",
   "execution_count": 287,
   "metadata": {},
   "outputs": [
    {
     "data": {
      "text/plain": [
       "67"
      ]
     },
     "execution_count": 287,
     "metadata": {},
     "output_type": "execute_result"
    }
   ],
   "source": [
    "# There are too many occupations. \n",
    "len(cleaned[\"Occupation\"].value_counts())"
   ]
  },
  {
   "cell_type": "code",
   "execution_count": 288,
   "metadata": {},
   "outputs": [],
   "source": [
    "ml=ml.drop(\"Occupation\", axis=1)"
   ]
  },
  {
   "cell_type": "markdown",
   "metadata": {},
   "source": [
    " A machine learning model cannot deal with missing values. To take care of them ,I will fill with the median. As there are not that many missing values this shouldn't have too large of an impact on the distribution. However, the following columns have to0 many missing values and thus should be dropped. "
   ]
  },
  {
   "cell_type": "code",
   "execution_count": 283,
   "metadata": {},
   "outputs": [],
   "source": [
    "# drop variablles\n",
    "ml=ml.drop([\"TotalProsperLoans\",\"OnTimeProsperPayments\",\"ProsperPrincipalOutstanding\",\"ScorexChangeAtTimeOfListing\",\"ProsperPrincipalBorrowed\"], axis=1)"
   ]
  },
  {
   "cell_type": "code",
   "execution_count": 284,
   "metadata": {},
   "outputs": [],
   "source": [
    "# impute missing values\n",
    "ml = ml.fillna(ml.median())"
   ]
  },
  {
   "cell_type": "code",
   "execution_count": 18,
   "metadata": {},
   "outputs": [],
   "source": [
    "cleaned=cleaned.reset_index().drop(\"index\", axis=1)"
   ]
  },
  {
   "cell_type": "markdown",
   "metadata": {},
   "source": [
    "Now, I need to encode the categorical variables as dummy variables. "
   ]
  },
  {
   "cell_type": "code",
   "execution_count": 291,
   "metadata": {},
   "outputs": [
    {
     "data": {
      "text/plain": [
       "Index(['ProsperRating (numeric)', 'ProsperRating (Alpha)', 'ProsperScore',\n",
       "       'EmploymentStatus', 'IncomeRange'],\n",
       "      dtype='object')"
      ]
     },
     "execution_count": 291,
     "metadata": {},
     "output_type": "execute_result"
    }
   ],
   "source": [
    "categorical=ml.select_dtypes(include=[\"category\", \"object\"]).columns.drop(\"LoanStatus\")\n",
    "categorical"
   ]
  },
  {
   "cell_type": "code",
   "execution_count": 292,
   "metadata": {},
   "outputs": [
    {
     "name": "stdout",
     "output_type": "stream",
     "text": [
      "Column name:ProsperRating (numeric) [2.0, 3.0, 4.0, 5.0, 6.0, 7.0]\n",
      "Categories (7, float64): [1.0 < 2.0 < 3.0 < 4.0 < 5.0 < 6.0 < 7.0]\n",
      "Column name:ProsperRating (Alpha) [AA, B, C, D, E, HR]\n",
      "Categories (7, object): [A < AA < B < C < D < E < HR]\n",
      "Column name:ProsperScore [2.0, 3.0, 4.0, 5.0, 6.0, 7.0, 8.0, 9.0, 10.0, 11.0]\n",
      "Categories (11, float64): [1.0 < 2.0 < 3.0 < 4.0 ... 8.0 < 9.0 < 10.0 < 11.0]\n",
      "Column name:EmploymentStatus [Full-time, Not available, Not employed, Other, Part-time, Retired, Self-employed]\n",
      "Categories (8, object): [Employed, Full-time, Not available, Not employed, Other, Part-time, Retired, Self-employed]\n",
      "Column name:IncomeRange [$1-24,999, $100,000+, $25,000-49,999, $50,000-74,999, $75,000-99,999, Not displayed, Not employed]\n",
      "Categories (8, object): [$0 < $1-24,999 < $100,000+ < $25,000-49,999 < $50,000-74,999 < $75,000-99,999 < Not displayed < Not employed]\n"
     ]
    }
   ],
   "source": [
    "# Make dummies\n",
    "for column in categorical: \n",
    "    dummies=pd.get_dummies(cleaned[column],drop_first=True)\n",
    "    print(\"Column name:\"+ column,dummies.columns.values)\n",
    "    ml=ml.merge(dummies,left_index=True, right_index=True).drop(column, axis=1)"
   ]
  },
  {
   "cell_type": "code",
   "execution_count": 293,
   "metadata": {},
   "outputs": [
    {
     "data": {
      "text/plain": [
       "(84676, 67)"
      ]
     },
     "execution_count": 293,
     "metadata": {},
     "output_type": "execute_result"
    }
   ],
   "source": [
    "ml.shape"
   ]
  },
  {
   "cell_type": "code",
   "execution_count": 294,
   "metadata": {},
   "outputs": [
    {
     "data": {
      "text/plain": [
       "array(['LoanStatus', 'BorrowerAPR', 'EstimatedEffectiveYield',\n",
       "       'EstimatedReturn', 'EmploymentStatusDuration',\n",
       "       'IsBorrowerHomeowner', 'CurrentlyInGroup', 'CreditScoreRangeLower',\n",
       "       'CurrentCreditLines', 'TotalCreditLinespast7years',\n",
       "       'OpenRevolvingAccounts', 'OpenRevolvingMonthlyPayment',\n",
       "       'InquiriesLast6Months', 'TotalInquiries',\n",
       "       'DelinquenciesLast7Years', 'RevolvingCreditBalance',\n",
       "       'BankcardUtilization', 'AvailableBankcardCredit', 'TotalTrades',\n",
       "       'TradesNeverDelinquent (percentage)', 'TradesOpenedLast6Months',\n",
       "       'DebtToIncomeRatio', 'IncomeVerifiable', 'StatedMonthlyIncome',\n",
       "       'LoanMonthsSinceOrigination', 'LoanOriginalAmount',\n",
       "       'MonthlyLoanPayment', 'LP_CustomerPrincipalPayments',\n",
       "       'LP_InterestandFees', 'LP_ServiceFees', 'Investors', '2.0_x',\n",
       "       '3.0_x', '4.0_x', '5.0_x', '6.0_x', '7.0_x', 'AA', 'B', 'C', 'D',\n",
       "       'E', 'HR', '2.0_y', '3.0_y', '4.0_y', '5.0_y', '6.0_y', '7.0_y',\n",
       "       8.0, 9.0, 10.0, 11.0, 'Full-time', 'Not available',\n",
       "       'Not employed_x', 'Other', 'Part-time', 'Retired', 'Self-employed',\n",
       "       '$1-24,999', '$100,000+', '$25,000-49,999', '$50,000-74,999',\n",
       "       '$75,000-99,999', 'Not displayed', 'Not employed_y'], dtype=object)"
      ]
     },
     "execution_count": 294,
     "metadata": {},
     "output_type": "execute_result"
    }
   ],
   "source": [
    "# Here is a full list of the variables to be inputed in the model. \n",
    "full=ml.columns.values\n",
    "full"
   ]
  },
  {
   "cell_type": "markdown",
   "metadata": {},
   "source": [
    "However the loan status is  not a binary Label. Therefore, to prep this category I will use label encoder."
   ]
  },
  {
   "cell_type": "code",
   "execution_count": 295,
   "metadata": {},
   "outputs": [
    {
     "data": {
      "text/plain": [
       "0       Current\n",
       "1     Completed\n",
       "2    Chargedoff\n",
       "3       PastDue\n",
       "4     Defaulted\n",
       "Name: index, dtype: category\n",
       "Categories (5, object): [Chargedoff, Completed, Current, Defaulted, PastDue]"
      ]
     },
     "execution_count": 295,
     "metadata": {},
     "output_type": "execute_result"
    }
   ],
   "source": [
    "values=ml[\"LoanStatus\"].value_counts().reset_index()[\"index\"][:11]\n",
    "values"
   ]
  },
  {
   "cell_type": "code",
   "execution_count": 296,
   "metadata": {},
   "outputs": [],
   "source": [
    "ml[\"LoanStatus\"]=ml[\"LoanStatus\"].astype(str)"
   ]
  },
  {
   "cell_type": "code",
   "execution_count": 297,
   "metadata": {},
   "outputs": [
    {
     "name": "stdout",
     "output_type": "stream",
     "text": [
      "['Current' 'PastDue' 'Defaulted' 'Completed' 'Chargedoff']\n",
      "[2 2 2 ... 2 1 2]\n"
     ]
    }
   ],
   "source": [
    "# Use label encoder\n",
    "from sklearn import preprocessing\n",
    "print(ml['LoanStatus'].unique())\n",
    "c= ml['LoanStatus']\n",
    "enc = preprocessing.LabelEncoder()\n",
    "enc.fit(c)\n",
    "c = enc.transform(c)\n",
    "print(c)"
   ]
  },
  {
   "cell_type": "code",
   "execution_count": 298,
   "metadata": {},
   "outputs": [
    {
     "data": {
      "text/plain": [
       "84676"
      ]
     },
     "execution_count": 298,
     "metadata": {},
     "output_type": "execute_result"
    }
   ],
   "source": [
    "len(c)"
   ]
  },
  {
   "cell_type": "code",
   "execution_count": 299,
   "metadata": {},
   "outputs": [
    {
     "data": {
      "text/html": [
       "<div>\n",
       "<style scoped>\n",
       "    .dataframe tbody tr th:only-of-type {\n",
       "        vertical-align: middle;\n",
       "    }\n",
       "\n",
       "    .dataframe tbody tr th {\n",
       "        vertical-align: top;\n",
       "    }\n",
       "\n",
       "    .dataframe thead th {\n",
       "        text-align: right;\n",
       "    }\n",
       "</style>\n",
       "<table border=\"1\" class=\"dataframe\">\n",
       "  <thead>\n",
       "    <tr style=\"text-align: right;\">\n",
       "      <th></th>\n",
       "      <th>BorrowerAPR</th>\n",
       "      <th>EstimatedEffectiveYield</th>\n",
       "      <th>EstimatedReturn</th>\n",
       "      <th>EmploymentStatusDuration</th>\n",
       "      <th>IsBorrowerHomeowner</th>\n",
       "      <th>CurrentlyInGroup</th>\n",
       "      <th>CreditScoreRangeLower</th>\n",
       "      <th>CurrentCreditLines</th>\n",
       "      <th>TotalCreditLinespast7years</th>\n",
       "      <th>OpenRevolvingAccounts</th>\n",
       "      <th>...</th>\n",
       "      <th>Part-time</th>\n",
       "      <th>Retired</th>\n",
       "      <th>Self-employed</th>\n",
       "      <th>$1-24,999</th>\n",
       "      <th>$100,000+</th>\n",
       "      <th>$25,000-49,999</th>\n",
       "      <th>$50,000-74,999</th>\n",
       "      <th>$75,000-99,999</th>\n",
       "      <th>Not displayed</th>\n",
       "      <th>Not employed_y</th>\n",
       "    </tr>\n",
       "  </thead>\n",
       "  <tbody>\n",
       "    <tr>\n",
       "      <th>0</th>\n",
       "      <td>0.12016</td>\n",
       "      <td>0.07960</td>\n",
       "      <td>0.05470</td>\n",
       "      <td>44.0</td>\n",
       "      <td>False</td>\n",
       "      <td>False</td>\n",
       "      <td>680.0</td>\n",
       "      <td>14.0</td>\n",
       "      <td>29.0</td>\n",
       "      <td>13</td>\n",
       "      <td>...</td>\n",
       "      <td>0</td>\n",
       "      <td>0</td>\n",
       "      <td>0</td>\n",
       "      <td>0</td>\n",
       "      <td>0</td>\n",
       "      <td>0</td>\n",
       "      <td>1</td>\n",
       "      <td>0</td>\n",
       "      <td>0</td>\n",
       "      <td>0</td>\n",
       "    </tr>\n",
       "    <tr>\n",
       "      <th>1</th>\n",
       "      <td>0.12528</td>\n",
       "      <td>0.08490</td>\n",
       "      <td>0.06000</td>\n",
       "      <td>113.0</td>\n",
       "      <td>True</td>\n",
       "      <td>False</td>\n",
       "      <td>800.0</td>\n",
       "      <td>5.0</td>\n",
       "      <td>29.0</td>\n",
       "      <td>7</td>\n",
       "      <td>...</td>\n",
       "      <td>0</td>\n",
       "      <td>0</td>\n",
       "      <td>0</td>\n",
       "      <td>0</td>\n",
       "      <td>0</td>\n",
       "      <td>1</td>\n",
       "      <td>0</td>\n",
       "      <td>0</td>\n",
       "      <td>0</td>\n",
       "      <td>0</td>\n",
       "    </tr>\n",
       "    <tr>\n",
       "      <th>2</th>\n",
       "      <td>0.24614</td>\n",
       "      <td>0.18316</td>\n",
       "      <td>0.09066</td>\n",
       "      <td>44.0</td>\n",
       "      <td>True</td>\n",
       "      <td>False</td>\n",
       "      <td>680.0</td>\n",
       "      <td>19.0</td>\n",
       "      <td>49.0</td>\n",
       "      <td>6</td>\n",
       "      <td>...</td>\n",
       "      <td>0</td>\n",
       "      <td>0</td>\n",
       "      <td>0</td>\n",
       "      <td>0</td>\n",
       "      <td>1</td>\n",
       "      <td>0</td>\n",
       "      <td>0</td>\n",
       "      <td>0</td>\n",
       "      <td>0</td>\n",
       "      <td>0</td>\n",
       "    </tr>\n",
       "    <tr>\n",
       "      <th>3</th>\n",
       "      <td>0.15425</td>\n",
       "      <td>0.11567</td>\n",
       "      <td>0.07077</td>\n",
       "      <td>82.0</td>\n",
       "      <td>True</td>\n",
       "      <td>False</td>\n",
       "      <td>740.0</td>\n",
       "      <td>21.0</td>\n",
       "      <td>49.0</td>\n",
       "      <td>13</td>\n",
       "      <td>...</td>\n",
       "      <td>0</td>\n",
       "      <td>0</td>\n",
       "      <td>0</td>\n",
       "      <td>0</td>\n",
       "      <td>1</td>\n",
       "      <td>0</td>\n",
       "      <td>0</td>\n",
       "      <td>0</td>\n",
       "      <td>0</td>\n",
       "      <td>0</td>\n",
       "    </tr>\n",
       "    <tr>\n",
       "      <th>4</th>\n",
       "      <td>0.31032</td>\n",
       "      <td>0.23820</td>\n",
       "      <td>0.11070</td>\n",
       "      <td>172.0</td>\n",
       "      <td>False</td>\n",
       "      <td>False</td>\n",
       "      <td>680.0</td>\n",
       "      <td>10.0</td>\n",
       "      <td>20.0</td>\n",
       "      <td>6</td>\n",
       "      <td>...</td>\n",
       "      <td>0</td>\n",
       "      <td>0</td>\n",
       "      <td>0</td>\n",
       "      <td>0</td>\n",
       "      <td>0</td>\n",
       "      <td>1</td>\n",
       "      <td>0</td>\n",
       "      <td>0</td>\n",
       "      <td>0</td>\n",
       "      <td>0</td>\n",
       "    </tr>\n",
       "  </tbody>\n",
       "</table>\n",
       "<p>5 rows × 66 columns</p>\n",
       "</div>"
      ],
      "text/plain": [
       "   BorrowerAPR  EstimatedEffectiveYield  EstimatedReturn  \\\n",
       "0      0.12016                  0.07960          0.05470   \n",
       "1      0.12528                  0.08490          0.06000   \n",
       "2      0.24614                  0.18316          0.09066   \n",
       "3      0.15425                  0.11567          0.07077   \n",
       "4      0.31032                  0.23820          0.11070   \n",
       "\n",
       "   EmploymentStatusDuration  IsBorrowerHomeowner  CurrentlyInGroup  \\\n",
       "0                      44.0                False             False   \n",
       "1                     113.0                 True             False   \n",
       "2                      44.0                 True             False   \n",
       "3                      82.0                 True             False   \n",
       "4                     172.0                False             False   \n",
       "\n",
       "   CreditScoreRangeLower  CurrentCreditLines  TotalCreditLinespast7years  \\\n",
       "0                  680.0                14.0                        29.0   \n",
       "1                  800.0                 5.0                        29.0   \n",
       "2                  680.0                19.0                        49.0   \n",
       "3                  740.0                21.0                        49.0   \n",
       "4                  680.0                10.0                        20.0   \n",
       "\n",
       "   OpenRevolvingAccounts       ...        Part-time  Retired  Self-employed  \\\n",
       "0                     13       ...                0        0              0   \n",
       "1                      7       ...                0        0              0   \n",
       "2                      6       ...                0        0              0   \n",
       "3                     13       ...                0        0              0   \n",
       "4                      6       ...                0        0              0   \n",
       "\n",
       "   $1-24,999  $100,000+  $25,000-49,999  $50,000-74,999  $75,000-99,999  \\\n",
       "0          0          0               0               1               0   \n",
       "1          0          0               1               0               0   \n",
       "2          0          1               0               0               0   \n",
       "3          0          1               0               0               0   \n",
       "4          0          0               1               0               0   \n",
       "\n",
       "   Not displayed  Not employed_y  \n",
       "0              0               0  \n",
       "1              0               0  \n",
       "2              0               0  \n",
       "3              0               0  \n",
       "4              0               0  \n",
       "\n",
       "[5 rows x 66 columns]"
      ]
     },
     "execution_count": 299,
     "metadata": {},
     "output_type": "execute_result"
    }
   ],
   "source": [
    "features=ml.drop(\"LoanStatus\", axis=1)\n",
    "features.head()"
   ]
  },
  {
   "cell_type": "markdown",
   "metadata": {},
   "source": [
    "Different numerical variables may have value sizes. Varying value sizes may skew the model. Therefore, I will use Standard Scaler to standardize our numerical features."
   ]
  },
  {
   "cell_type": "code",
   "execution_count": 300,
   "metadata": {},
   "outputs": [],
   "source": [
    "from sklearn.preprocessing import StandardScaler\n",
    "scalar= StandardScaler()"
   ]
  },
  {
   "cell_type": "code",
   "execution_count": 301,
   "metadata": {},
   "outputs": [
    {
     "data": {
      "text/plain": [
       "Index(['BorrowerAPR', 'EstimatedEffectiveYield', 'EstimatedReturn',\n",
       "       'EmploymentStatusDuration', 'CreditScoreRangeLower',\n",
       "       'CurrentCreditLines', 'TotalCreditLinespast7years',\n",
       "       'OpenRevolvingAccounts', 'OpenRevolvingMonthlyPayment',\n",
       "       'InquiriesLast6Months', 'TotalInquiries', 'DelinquenciesLast7Years',\n",
       "       'RevolvingCreditBalance', 'BankcardUtilization',\n",
       "       'AvailableBankcardCredit', 'TotalTrades',\n",
       "       'TradesNeverDelinquent (percentage)', 'TradesOpenedLast6Months',\n",
       "       'DebtToIncomeRatio', 'StatedMonthlyIncome',\n",
       "       'LoanMonthsSinceOrigination', 'LoanOriginalAmount',\n",
       "       'MonthlyLoanPayment', 'LP_CustomerPrincipalPayments',\n",
       "       'LP_InterestandFees', 'LP_ServiceFees', 'Investors'],\n",
       "      dtype='object')"
      ]
     },
     "execution_count": 301,
     "metadata": {},
     "output_type": "execute_result"
    }
   ],
   "source": [
    "numerical=features.select_dtypes(include=[\"float64\", \"int64\"]).columns\n",
    "numerical"
   ]
  },
  {
   "cell_type": "code",
   "execution_count": 302,
   "metadata": {},
   "outputs": [
    {
     "name": "stderr",
     "output_type": "stream",
     "text": [
      "C:\\Users\\Pavan\\Anaconda3\\lib\\site-packages\\sklearn\\preprocessing\\data.py:625: DataConversionWarning: Data with input dtype int64, float64 were all converted to float64 by StandardScaler.\n",
      "  return self.partial_fit(X, y)\n",
      "C:\\Users\\Pavan\\Anaconda3\\lib\\site-packages\\sklearn\\base.py:462: DataConversionWarning: Data with input dtype int64, float64 were all converted to float64 by StandardScaler.\n",
      "  return self.fit(X, **fit_params).transform(X)\n"
     ]
    }
   ],
   "source": [
    "# preform the scalar\n",
    "features[numerical] = scalar.fit_transform(features[numerical])"
   ]
  },
  {
   "cell_type": "code",
   "execution_count": 303,
   "metadata": {},
   "outputs": [
    {
     "data": {
      "text/html": [
       "<div>\n",
       "<style scoped>\n",
       "    .dataframe tbody tr th:only-of-type {\n",
       "        vertical-align: middle;\n",
       "    }\n",
       "\n",
       "    .dataframe tbody tr th {\n",
       "        vertical-align: top;\n",
       "    }\n",
       "\n",
       "    .dataframe thead th {\n",
       "        text-align: right;\n",
       "    }\n",
       "</style>\n",
       "<table border=\"1\" class=\"dataframe\">\n",
       "  <thead>\n",
       "    <tr style=\"text-align: right;\">\n",
       "      <th></th>\n",
       "      <th>BorrowerAPR</th>\n",
       "      <th>EstimatedEffectiveYield</th>\n",
       "      <th>EstimatedReturn</th>\n",
       "      <th>EmploymentStatusDuration</th>\n",
       "      <th>CreditScoreRangeLower</th>\n",
       "      <th>CurrentCreditLines</th>\n",
       "      <th>TotalCreditLinespast7years</th>\n",
       "      <th>OpenRevolvingAccounts</th>\n",
       "      <th>OpenRevolvingMonthlyPayment</th>\n",
       "      <th>InquiriesLast6Months</th>\n",
       "      <th>...</th>\n",
       "      <th>TradesOpenedLast6Months</th>\n",
       "      <th>DebtToIncomeRatio</th>\n",
       "      <th>StatedMonthlyIncome</th>\n",
       "      <th>LoanMonthsSinceOrigination</th>\n",
       "      <th>LoanOriginalAmount</th>\n",
       "      <th>MonthlyLoanPayment</th>\n",
       "      <th>LP_CustomerPrincipalPayments</th>\n",
       "      <th>LP_InterestandFees</th>\n",
       "      <th>LP_ServiceFees</th>\n",
       "      <th>Investors</th>\n",
       "    </tr>\n",
       "  </thead>\n",
       "  <tbody>\n",
       "    <tr>\n",
       "      <th>count</th>\n",
       "      <td>8.467600e+04</td>\n",
       "      <td>8.467600e+04</td>\n",
       "      <td>8.467600e+04</td>\n",
       "      <td>8.467600e+04</td>\n",
       "      <td>8.467600e+04</td>\n",
       "      <td>8.467600e+04</td>\n",
       "      <td>8.467600e+04</td>\n",
       "      <td>8.467600e+04</td>\n",
       "      <td>8.467600e+04</td>\n",
       "      <td>8.467600e+04</td>\n",
       "      <td>...</td>\n",
       "      <td>8.467600e+04</td>\n",
       "      <td>8.467600e+04</td>\n",
       "      <td>8.467600e+04</td>\n",
       "      <td>8.467600e+04</td>\n",
       "      <td>8.467600e+04</td>\n",
       "      <td>8.467600e+04</td>\n",
       "      <td>8.467600e+04</td>\n",
       "      <td>8.467600e+04</td>\n",
       "      <td>8.467600e+04</td>\n",
       "      <td>8.467600e+04</td>\n",
       "    </tr>\n",
       "    <tr>\n",
       "      <th>mean</th>\n",
       "      <td>-4.098107e-17</td>\n",
       "      <td>-3.136751e-16</td>\n",
       "      <td>1.721871e-16</td>\n",
       "      <td>6.338325e-17</td>\n",
       "      <td>-6.447360e-16</td>\n",
       "      <td>2.966658e-16</td>\n",
       "      <td>1.643281e-16</td>\n",
       "      <td>2.592948e-17</td>\n",
       "      <td>1.738641e-17</td>\n",
       "      <td>8.616409e-16</td>\n",
       "      <td>...</td>\n",
       "      <td>-7.481641e-17</td>\n",
       "      <td>-1.539391e-16</td>\n",
       "      <td>-2.301078e-16</td>\n",
       "      <td>-4.221354e-16</td>\n",
       "      <td>3.313493e-16</td>\n",
       "      <td>1.317331e-16</td>\n",
       "      <td>1.491910e-16</td>\n",
       "      <td>1.941566e-16</td>\n",
       "      <td>2.442396e-17</td>\n",
       "      <td>-5.470873e-17</td>\n",
       "    </tr>\n",
       "    <tr>\n",
       "      <th>std</th>\n",
       "      <td>1.000006e+00</td>\n",
       "      <td>1.000006e+00</td>\n",
       "      <td>1.000006e+00</td>\n",
       "      <td>1.000006e+00</td>\n",
       "      <td>1.000006e+00</td>\n",
       "      <td>1.000006e+00</td>\n",
       "      <td>1.000006e+00</td>\n",
       "      <td>1.000006e+00</td>\n",
       "      <td>1.000006e+00</td>\n",
       "      <td>1.000006e+00</td>\n",
       "      <td>...</td>\n",
       "      <td>1.000006e+00</td>\n",
       "      <td>1.000006e+00</td>\n",
       "      <td>1.000006e+00</td>\n",
       "      <td>1.000006e+00</td>\n",
       "      <td>1.000006e+00</td>\n",
       "      <td>1.000006e+00</td>\n",
       "      <td>1.000006e+00</td>\n",
       "      <td>1.000006e+00</td>\n",
       "      <td>1.000006e+00</td>\n",
       "      <td>1.000006e+00</td>\n",
       "    </tr>\n",
       "    <tr>\n",
       "      <th>min</th>\n",
       "      <td>-2.262764e+00</td>\n",
       "      <td>-5.133249e+00</td>\n",
       "      <td>-9.169909e+00</td>\n",
       "      <td>-1.061642e+00</td>\n",
       "      <td>-2.110170e+00</td>\n",
       "      <td>-1.976312e+00</td>\n",
       "      <td>-1.934032e+00</td>\n",
       "      <td>-1.635632e+00</td>\n",
       "      <td>-1.011214e+00</td>\n",
       "      <td>-6.888244e-01</td>\n",
       "      <td>...</td>\n",
       "      <td>-7.353910e-01</td>\n",
       "      <td>-8.381278e-01</td>\n",
       "      <td>-7.190995e-01</td>\n",
       "      <td>-1.152235e+00</td>\n",
       "      <td>-1.285514e+00</td>\n",
       "      <td>-1.565141e+00</td>\n",
       "      <td>-7.252168e-01</td>\n",
       "      <td>-9.189860e-01</td>\n",
       "      <td>-8.965924e+00</td>\n",
       "      <td>-7.065669e-01</td>\n",
       "    </tr>\n",
       "    <tr>\n",
       "      <th>25%</th>\n",
       "      <td>-7.929265e-01</td>\n",
       "      <td>-7.739172e-01</td>\n",
       "      <td>-7.234494e-01</td>\n",
       "      <td>-7.525988e-01</td>\n",
       "      <td>-8.362658e-01</td>\n",
       "      <td>-6.598796e-01</td>\n",
       "      <td>-7.279867e-01</td>\n",
       "      <td>-7.498675e-01</td>\n",
       "      <td>-6.449524e-01</td>\n",
       "      <td>-6.888244e-01</td>\n",
       "      <td>...</td>\n",
       "      <td>-7.353910e-01</td>\n",
       "      <td>-3.132275e-01</td>\n",
       "      <td>-3.027455e-01</td>\n",
       "      <td>-8.648374e-01</td>\n",
       "      <td>-8.084176e-01</td>\n",
       "      <td>-7.214334e-01</td>\n",
       "      <td>-6.166483e-01</td>\n",
       "      <td>-6.936848e-01</td>\n",
       "      <td>-2.960949e-01</td>\n",
       "      <td>-7.065669e-01</td>\n",
       "    </tr>\n",
       "    <tr>\n",
       "      <th>50%</th>\n",
       "      <td>-8.998233e-02</td>\n",
       "      <td>-1.043184e-01</td>\n",
       "      <td>-1.438613e-01</td>\n",
       "      <td>-2.993361e-01</td>\n",
       "      <td>1.300342e-02</td>\n",
       "      <td>-9.569437e-02</td>\n",
       "      <td>-1.249641e-01</td>\n",
       "      <td>-8.554440e-02</td>\n",
       "      <td>-2.810387e-01</td>\n",
       "      <td>-6.888244e-01</td>\n",
       "      <td>...</td>\n",
       "      <td>-7.353910e-01</td>\n",
       "      <td>-1.163899e-01</td>\n",
       "      <td>-1.127588e-01</td>\n",
       "      <td>-3.618922e-01</td>\n",
       "      <td>-2.518051e-01</td>\n",
       "      <td>-2.140717e-01</td>\n",
       "      <td>-3.803804e-01</td>\n",
       "      <td>-3.241367e-01</td>\n",
       "      <td>3.306075e-01</td>\n",
       "      <td>-3.808924e-01</td>\n",
       "    </tr>\n",
       "    <tr>\n",
       "      <th>75%</th>\n",
       "      <td>8.247086e-01</td>\n",
       "      <td>8.132205e-01</td>\n",
       "      <td>6.727263e-01</td>\n",
       "      <td>4.629694e-01</td>\n",
       "      <td>4.376380e-01</td>\n",
       "      <td>4.684909e-01</td>\n",
       "      <td>5.534363e-01</td>\n",
       "      <td>5.787787e-01</td>\n",
       "      <td>3.129624e-01</td>\n",
       "      <td>2.554576e-02</td>\n",
       "      <td>...</td>\n",
       "      <td>2.725072e-01</td>\n",
       "      <td>1.788665e-01</td>\n",
       "      <td>1.398832e-01</td>\n",
       "      <td>6.439981e-01</td>\n",
       "      <td>7.023877e-01</td>\n",
       "      <td>5.173420e-01</td>\n",
       "      <td>2.151587e-01</td>\n",
       "      <td>3.466071e-01</td>\n",
       "      <td>6.757795e-01</td>\n",
       "      <td>3.019734e-01</td>\n",
       "    </tr>\n",
       "    <tr>\n",
       "      <th>max</th>\n",
       "      <td>2.469250e+00</td>\n",
       "      <td>2.209983e+00</td>\n",
       "      <td>6.171740e+00</td>\n",
       "      <td>6.715934e+00</td>\n",
       "      <td>3.834715e+00</td>\n",
       "      <td>9.119331e+00</td>\n",
       "      <td>7.337440e+00</td>\n",
       "      <td>9.436420e+00</td>\n",
       "      <td>3.130667e+01</td>\n",
       "      <td>1.859917e+01</td>\n",
       "      <td>...</td>\n",
       "      <td>1.942257e+01</td>\n",
       "      <td>3.200095e+01</td>\n",
       "      <td>2.115005e+02</td>\n",
       "      <td>3.015025e+00</td>\n",
       "      <td>4.121579e+00</td>\n",
       "      <td>1.050895e+01</td>\n",
       "      <td>8.948661e+00</td>\n",
       "      <td>8.390553e+00</td>\n",
       "      <td>9.648463e-01</td>\n",
       "      <td>1.177412e+01</td>\n",
       "    </tr>\n",
       "  </tbody>\n",
       "</table>\n",
       "<p>8 rows × 27 columns</p>\n",
       "</div>"
      ],
      "text/plain": [
       "        BorrowerAPR  EstimatedEffectiveYield  EstimatedReturn  \\\n",
       "count  8.467600e+04             8.467600e+04     8.467600e+04   \n",
       "mean  -4.098107e-17            -3.136751e-16     1.721871e-16   \n",
       "std    1.000006e+00             1.000006e+00     1.000006e+00   \n",
       "min   -2.262764e+00            -5.133249e+00    -9.169909e+00   \n",
       "25%   -7.929265e-01            -7.739172e-01    -7.234494e-01   \n",
       "50%   -8.998233e-02            -1.043184e-01    -1.438613e-01   \n",
       "75%    8.247086e-01             8.132205e-01     6.727263e-01   \n",
       "max    2.469250e+00             2.209983e+00     6.171740e+00   \n",
       "\n",
       "       EmploymentStatusDuration  CreditScoreRangeLower  CurrentCreditLines  \\\n",
       "count              8.467600e+04           8.467600e+04        8.467600e+04   \n",
       "mean               6.338325e-17          -6.447360e-16        2.966658e-16   \n",
       "std                1.000006e+00           1.000006e+00        1.000006e+00   \n",
       "min               -1.061642e+00          -2.110170e+00       -1.976312e+00   \n",
       "25%               -7.525988e-01          -8.362658e-01       -6.598796e-01   \n",
       "50%               -2.993361e-01           1.300342e-02       -9.569437e-02   \n",
       "75%                4.629694e-01           4.376380e-01        4.684909e-01   \n",
       "max                6.715934e+00           3.834715e+00        9.119331e+00   \n",
       "\n",
       "       TotalCreditLinespast7years  OpenRevolvingAccounts  \\\n",
       "count                8.467600e+04           8.467600e+04   \n",
       "mean                 1.643281e-16           2.592948e-17   \n",
       "std                  1.000006e+00           1.000006e+00   \n",
       "min                 -1.934032e+00          -1.635632e+00   \n",
       "25%                 -7.279867e-01          -7.498675e-01   \n",
       "50%                 -1.249641e-01          -8.554440e-02   \n",
       "75%                  5.534363e-01           5.787787e-01   \n",
       "max                  7.337440e+00           9.436420e+00   \n",
       "\n",
       "       OpenRevolvingMonthlyPayment  InquiriesLast6Months      ...       \\\n",
       "count                 8.467600e+04          8.467600e+04      ...        \n",
       "mean                  1.738641e-17          8.616409e-16      ...        \n",
       "std                   1.000006e+00          1.000006e+00      ...        \n",
       "min                  -1.011214e+00         -6.888244e-01      ...        \n",
       "25%                  -6.449524e-01         -6.888244e-01      ...        \n",
       "50%                  -2.810387e-01         -6.888244e-01      ...        \n",
       "75%                   3.129624e-01          2.554576e-02      ...        \n",
       "max                   3.130667e+01          1.859917e+01      ...        \n",
       "\n",
       "       TradesOpenedLast6Months  DebtToIncomeRatio  StatedMonthlyIncome  \\\n",
       "count             8.467600e+04       8.467600e+04         8.467600e+04   \n",
       "mean             -7.481641e-17      -1.539391e-16        -2.301078e-16   \n",
       "std               1.000006e+00       1.000006e+00         1.000006e+00   \n",
       "min              -7.353910e-01      -8.381278e-01        -7.190995e-01   \n",
       "25%              -7.353910e-01      -3.132275e-01        -3.027455e-01   \n",
       "50%              -7.353910e-01      -1.163899e-01        -1.127588e-01   \n",
       "75%               2.725072e-01       1.788665e-01         1.398832e-01   \n",
       "max               1.942257e+01       3.200095e+01         2.115005e+02   \n",
       "\n",
       "       LoanMonthsSinceOrigination  LoanOriginalAmount  MonthlyLoanPayment  \\\n",
       "count                8.467600e+04        8.467600e+04        8.467600e+04   \n",
       "mean                -4.221354e-16        3.313493e-16        1.317331e-16   \n",
       "std                  1.000006e+00        1.000006e+00        1.000006e+00   \n",
       "min                 -1.152235e+00       -1.285514e+00       -1.565141e+00   \n",
       "25%                 -8.648374e-01       -8.084176e-01       -7.214334e-01   \n",
       "50%                 -3.618922e-01       -2.518051e-01       -2.140717e-01   \n",
       "75%                  6.439981e-01        7.023877e-01        5.173420e-01   \n",
       "max                  3.015025e+00        4.121579e+00        1.050895e+01   \n",
       "\n",
       "       LP_CustomerPrincipalPayments  LP_InterestandFees  LP_ServiceFees  \\\n",
       "count                  8.467600e+04        8.467600e+04    8.467600e+04   \n",
       "mean                   1.491910e-16        1.941566e-16    2.442396e-17   \n",
       "std                    1.000006e+00        1.000006e+00    1.000006e+00   \n",
       "min                   -7.252168e-01       -9.189860e-01   -8.965924e+00   \n",
       "25%                   -6.166483e-01       -6.936848e-01   -2.960949e-01   \n",
       "50%                   -3.803804e-01       -3.241367e-01    3.306075e-01   \n",
       "75%                    2.151587e-01        3.466071e-01    6.757795e-01   \n",
       "max                    8.948661e+00        8.390553e+00    9.648463e-01   \n",
       "\n",
       "          Investors  \n",
       "count  8.467600e+04  \n",
       "mean  -5.470873e-17  \n",
       "std    1.000006e+00  \n",
       "min   -7.065669e-01  \n",
       "25%   -7.065669e-01  \n",
       "50%   -3.808924e-01  \n",
       "75%    3.019734e-01  \n",
       "max    1.177412e+01  \n",
       "\n",
       "[8 rows x 27 columns]"
      ]
     },
     "execution_count": 303,
     "metadata": {},
     "output_type": "execute_result"
    }
   ],
   "source": [
    "features.describe()[numerical]"
   ]
  },
  {
   "cell_type": "code",
   "execution_count": 304,
   "metadata": {},
   "outputs": [
    {
     "data": {
      "text/plain": [
       "array([[-1.3325554157542854, -1.3009176023316094, -1.3609304254334431,\n",
       "        ..., 0, 0, 0],\n",
       "       [-1.268480743664341, -1.2234819984119072, -1.18659350020553, ...,\n",
       "        0, 0, 0],\n",
       "       [0.2440319260213377, 0.21214487727675937, -0.17807083464178985,\n",
       "        ..., 0, 0, 0],\n",
       "       ...,\n",
       "       [0.16519004434816398, 0.28695059276145296, -0.3385923808893782,\n",
       "        ..., 0, 0, 0],\n",
       "       [0.7188352578753394, 1.10835241396252, 2.0863355677524646, ..., 0,\n",
       "        0, 0],\n",
       "       [-1.1857593408294713, -1.138595043926347, -1.1599495550291883,\n",
       "        ..., 0, 0, 0]], dtype=object)"
      ]
     },
     "execution_count": 304,
     "metadata": {},
     "output_type": "execute_result"
    }
   ],
   "source": [
    "# get features for model\n",
    "predictors= features.values\n",
    "predictors "
   ]
  },
  {
   "cell_type": "code",
   "execution_count": 305,
   "metadata": {},
   "outputs": [
    {
     "data": {
      "text/plain": [
       "array([2, 2, 2, ..., 2, 1, 2])"
      ]
     },
     "execution_count": 305,
     "metadata": {},
     "output_type": "execute_result"
    }
   ],
   "source": [
    "# get labels\n",
    "labels=s\n",
    "labels"
   ]
  },
  {
   "cell_type": "markdown",
   "metadata": {},
   "source": [
    "#### Running the Model and Visualizing"
   ]
  },
  {
   "cell_type": "markdown",
   "metadata": {},
   "source": [
    "I will now fit the model on the data. however, since it is multi class I need to change the solver. also, i set class_weight to balanced to deal with the uneven distrubution in Loan Status. "
   ]
  },
  {
   "cell_type": "code",
   "execution_count": 307,
   "metadata": {},
   "outputs": [
    {
     "data": {
      "text/plain": [
       "LogisticRegression(C=1.0, class_weight='balanced', dual=False,\n",
       "          fit_intercept=True, intercept_scaling=1, max_iter=100,\n",
       "          multi_class='multinomial', n_jobs=None, penalty='l2',\n",
       "          random_state=None, solver='newton-cg', tol=0.0001, verbose=0,\n",
       "          warm_start=False)"
      ]
     },
     "execution_count": 307,
     "metadata": {},
     "output_type": "execute_result"
    }
   ],
   "source": [
    "from sklearn.linear_model import LogisticRegression\n",
    "\n",
    "logits= LogisticRegression(solver=\"newton-cg\",multi_class= \"multinomial\",class_weight=\"balanced\")\n",
    "logits.fit(predictors, labels)"
   ]
  },
  {
   "cell_type": "markdown",
   "metadata": {},
   "source": [
    "I will now graph feature importance, which I derived from the coefficents that the model discovered. "
   ]
  },
  {
   "cell_type": "code",
   "execution_count": 308,
   "metadata": {},
   "outputs": [],
   "source": [
    "def plot(number): \n",
    "    feature_importance = abs(logits.coef_[number])\n",
    "    feature_importance = 100.0 * (feature_importance / feature_importance.max())\n",
    "    sorted_idx = np.argsort(feature_importance)\n",
    "    sorted_idx= sorted_idx[:20]\n",
    "    pos = np.arange(sorted_idx.shape[0]) + .5\n",
    "\n",
    "    featfig = plt.figure()\n",
    "    featax = featfig.add_subplot(1, 1, 1)\n",
    "    featax.barh(pos, feature_importance[sorted_idx], align='center')\n",
    "    featax.set_yticks(pos)\n",
    "    featax.set_yticklabels(np.array(features.columns)[sorted_idx], fontsize=10)\n",
    "    featax.set_xlabel('Relative Feature Importance', size=10)\n",
    "    dicts= {2:\"Top 20 Features forCurrent\",\n",
    "             1: \"Top 20 Features for Completed\",\n",
    "              0: ' Top 20 Features for Chargedoff',\n",
    "              3:'Top 20 Features for Defaulted',\n",
    "            4:'PastDue',\n",
    "             }\n",
    "    \n",
    "    plt.title(dicts[number])\n",
    "    plt.tight_layout()   \n",
    "    "
   ]
  },
  {
   "cell_type": "code",
   "execution_count": 309,
   "metadata": {},
   "outputs": [
    {
     "data": {
      "image/png": "[encoded data removed]",
      "text/plain": [
       "<Figure size 432x288 with 1 Axes>"
      ]
     },
     "metadata": {
      "needs_background": "light"
     },
     "output_type": "display_data"
    },
    {
     "data": {
      "image/png": "[encoded data removed]",
      "text/plain": [
       "<Figure size 432x288 with 1 Axes>"
      ]
     },
     "metadata": {
      "needs_background": "light"
     },
     "output_type": "display_data"
    },
    {
     "data": {
      "image/png": "[encoded data removed]",
      "text/plain": [
       "<Figure size 432x288 with 1 Axes>"
      ]
     },
     "metadata": {
      "needs_background": "light"
     },
     "output_type": "display_data"
    },
    {
     "data": {
      "image/png": "[encoded data removed]",
      "text/plain": [
       "<Figure size 432x288 with 1 Axes>"
      ]
     },
     "metadata": {
      "needs_background": "light"
     },
     "output_type": "display_data"
    },
    {
     "data": {
      "image/png": "[encoded data removed]",
      "text/plain": [
       "<Figure size 432x288 with 1 Axes>"
      ]
     },
     "metadata": {
      "needs_background": "light"
     },
     "output_type": "display_data"
    }
   ],
   "source": [
    "for i in range(5): \n",
    "    plot(number=i)"
   ]
  },
  {
   "cell_type": "markdown",
   "metadata": {},
   "source": [
    "#### Intution and Anaylsis"
   ]
  },
  {
   "cell_type": "markdown",
   "metadata": {},
   "source": [
    "These are the top 20 features the model uncovered for each Loan Status. To select our main features of analysis, we will use intition guided by these graphs: \n",
    "\n",
    "The first step is to analyze the graphs of importance, Chargedoff and Defaulted ,as these  results have the most business impact. For Chargedoff, the top three features are Revolving Credit Balance, and CreditScore, and Prosper ratings( numbers followed by y are specific ratings in this feature). I will not use revolving credit balance in my analysis, as this feature is not people specific but describes the banks financial state during this time. Furthermore, using my inutition, I believe features like Credit Balance, Deliquencies last 7 years,Public Records, etc. may be associated with different Loan Statuses but probably do not influence our feature of interest. For instance, a spike in delequencies may actually be caused by a rise in Past due loans. Therefore, because of this ambiguity, I will not analyze them. \n",
    "\n",
    "Looking at Defaulted we find Not employed and Full time as important variables. Therefore, I will further analyze EmploymentStatus. Also, we see a lot of variables like , Credit Balance, TradesneverDeliquent, etc. that I will ignore due to ambiguity of the direction of the association. \n",
    "\n",
    "Now, I will observe the other two graphs to unearth more features to analyse. From Current, I think it would be benificial to look into Income Category as we see it has a heavy presence. From Past Due, I will look into the Debt to Income ratio as this may have an impact on a persons financial stability and thus ability to pay. \n",
    "\n",
    "Thus, for my analysis I will largely focus on Credit Score, Prosper Rating(numeric), Employment Status, Income Range, and Debt to Income Ratio. \n"
   ]
  },
  {
   "cell_type": "markdown",
   "metadata": {},
   "source": [
    "### What is the structure of your dataset?\n",
    "\n",
    "> This data set contains 81 features about loan data for 113936 listings. The features describe the loan, person getting the loan, and provides info about the financial state. \n",
    "\n",
    "### What is/are the main feature(s) of interest in your dataset?\n",
    "\n",
    "> My main feature of interest is Loan Status. \n",
    "\n",
    "### What features in the dataset do you think will help support your investigation into your feature(s) of interest?\n",
    "\n",
    "> For my analysis I will largely focus on Credit Score, Prosper Rating(numeric), Empoyment Status, Income Range, and Debt to Income Ratio."
   ]
  },
  {
   "cell_type": "markdown",
   "metadata": {},
   "source": [
    "## Univariate Exploration\n",
    "\n",
    "."
   ]
  },
  {
   "cell_type": "markdown",
   "metadata": {},
   "source": [
    "### Loan Status"
   ]
  },
  {
   "cell_type": "code",
   "execution_count": 30,
   "metadata": {},
   "outputs": [
    {
     "data": {
      "text/html": [
       "<div>\n",
       "<style scoped>\n",
       "    .dataframe tbody tr th:only-of-type {\n",
       "        vertical-align: middle;\n",
       "    }\n",
       "\n",
       "    .dataframe tbody tr th {\n",
       "        vertical-align: top;\n",
       "    }\n",
       "\n",
       "    .dataframe thead th {\n",
       "        text-align: right;\n",
       "    }\n",
       "</style>\n",
       "<table border=\"1\" class=\"dataframe\">\n",
       "  <thead>\n",
       "    <tr style=\"text-align: right;\">\n",
       "      <th></th>\n",
       "      <th>index</th>\n",
       "      <th>LoanStatus</th>\n",
       "    </tr>\n",
       "  </thead>\n",
       "  <tbody>\n",
       "    <tr>\n",
       "      <th>0</th>\n",
       "      <td>Current</td>\n",
       "      <td>56576</td>\n",
       "    </tr>\n",
       "    <tr>\n",
       "      <th>1</th>\n",
       "      <td>Completed</td>\n",
       "      <td>19689</td>\n",
       "    </tr>\n",
       "    <tr>\n",
       "      <th>2</th>\n",
       "      <td>Chargedoff</td>\n",
       "      <td>5338</td>\n",
       "    </tr>\n",
       "    <tr>\n",
       "      <th>3</th>\n",
       "      <td>PastDue</td>\n",
       "      <td>2067</td>\n",
       "    </tr>\n",
       "    <tr>\n",
       "      <th>4</th>\n",
       "      <td>Defaulted</td>\n",
       "      <td>1006</td>\n",
       "    </tr>\n",
       "  </tbody>\n",
       "</table>\n",
       "</div>"
      ],
      "text/plain": [
       "        index  LoanStatus\n",
       "0     Current       56576\n",
       "1   Completed       19689\n",
       "2  Chargedoff        5338\n",
       "3     PastDue        2067\n",
       "4   Defaulted        1006"
      ]
     },
     "execution_count": 30,
     "metadata": {},
     "output_type": "execute_result"
    }
   ],
   "source": [
    "# get counts of different loan statuses \n",
    "counts=cleaned[\"LoanStatus\"].value_counts().reset_index()\n",
    "counts.head()\n"
   ]
  },
  {
   "cell_type": "code",
   "execution_count": 31,
   "metadata": {},
   "outputs": [
    {
     "data": {
      "image/png": "[encoded data removed]",
      "text/plain": [
       "<Figure size 432x288 with 1 Axes>"
      ]
     },
     "metadata": {
      "needs_background": "light"
     },
     "output_type": "display_data"
    }
   ],
   "source": [
    "fig, ax = plt.subplots()\n",
    "base_color = sb.color_palette()[0]\n",
    "cat_order = cleaned['LoanStatus'].value_counts().index\n",
    "sb.barplot(data=counts, x='index', y='LoanStatus', color= base_color, order= cat_order)\n",
    "plt.xticks(rotation=90);\n",
    "plt.yticks([])\n",
    "plt.ylabel(\"Counts\")\n",
    "plt.xlabel(\"Status\")\n",
    "for i, v in enumerate(counts[\"LoanStatus\"]): # puts number on top of bar\n",
    "    plt.text(x=i-.3 ,y=v+1000, s=str(v), color='black',)\n",
    "\n",
    "\n",
    "ax.spines['bottom'].set_color(\"white\") \n",
    "ax.spines['top'].set_color('white') \n",
    "ax.spines['right'].set_color('white')\n",
    "ax.spines['left'].set_color('white')\n",
    "plt.title(\"Loan Status Counts\");"
   ]
  },
  {
   "cell_type": "markdown",
   "metadata": {},
   "source": [
    "As you can see, there is significally more current loans in this dataset. Also, we notice that Chargedoff, PastDue and Defaulted seem to be be a non frequent occurance. "
   ]
  },
  {
   "cell_type": "markdown",
   "metadata": {},
   "source": [
    "### Prosper Rating"
   ]
  },
  {
   "cell_type": "code",
   "execution_count": 310,
   "metadata": {},
   "outputs": [
    {
     "data": {
      "text/html": [
       "<div>\n",
       "<style scoped>\n",
       "    .dataframe tbody tr th:only-of-type {\n",
       "        vertical-align: middle;\n",
       "    }\n",
       "\n",
       "    .dataframe tbody tr th {\n",
       "        vertical-align: top;\n",
       "    }\n",
       "\n",
       "    .dataframe thead th {\n",
       "        text-align: right;\n",
       "    }\n",
       "</style>\n",
       "<table border=\"1\" class=\"dataframe\">\n",
       "  <thead>\n",
       "    <tr style=\"text-align: right;\">\n",
       "      <th></th>\n",
       "      <th>index</th>\n",
       "      <th>ProsperRating (numeric)</th>\n",
       "    </tr>\n",
       "  </thead>\n",
       "  <tbody>\n",
       "    <tr>\n",
       "      <th>0</th>\n",
       "      <td>4.0</td>\n",
       "      <td>18307</td>\n",
       "    </tr>\n",
       "    <tr>\n",
       "      <th>1</th>\n",
       "      <td>5.0</td>\n",
       "      <td>15542</td>\n",
       "    </tr>\n",
       "    <tr>\n",
       "      <th>2</th>\n",
       "      <td>6.0</td>\n",
       "      <td>14517</td>\n",
       "    </tr>\n",
       "    <tr>\n",
       "      <th>3</th>\n",
       "      <td>3.0</td>\n",
       "      <td>14246</td>\n",
       "    </tr>\n",
       "    <tr>\n",
       "      <th>4</th>\n",
       "      <td>2.0</td>\n",
       "      <td>9763</td>\n",
       "    </tr>\n",
       "    <tr>\n",
       "      <th>5</th>\n",
       "      <td>1.0</td>\n",
       "      <td>6914</td>\n",
       "    </tr>\n",
       "    <tr>\n",
       "      <th>6</th>\n",
       "      <td>7.0</td>\n",
       "      <td>5359</td>\n",
       "    </tr>\n",
       "  </tbody>\n",
       "</table>\n",
       "</div>"
      ],
      "text/plain": [
       "  index  ProsperRating (numeric)\n",
       "0   4.0                    18307\n",
       "1   5.0                    15542\n",
       "2   6.0                    14517\n",
       "3   3.0                    14246\n",
       "4   2.0                     9763\n",
       "5   1.0                     6914\n",
       "6   7.0                     5359"
      ]
     },
     "execution_count": 310,
     "metadata": {},
     "output_type": "execute_result"
    }
   ],
   "source": [
    "counts=cleaned[\"ProsperRating (numeric)\"].value_counts().reset_index()\n",
    "counts"
   ]
  },
  {
   "cell_type": "code",
   "execution_count": 312,
   "metadata": {},
   "outputs": [
    {
     "data": {
      "image/png": "[encoded data removed]",
      "text/plain": [
       "<Figure size 432x288 with 1 Axes>"
      ]
     },
     "metadata": {
      "needs_background": "light"
     },
     "output_type": "display_data"
    }
   ],
   "source": [
    "fig, ax = plt.subplots()\n",
    "base_color = sb.color_palette()[1]\n",
    "cat_order = [7,6,5,4,3,2,1]\n",
    "sb.barplot(data=counts, y='ProsperRating (numeric)', x='index', color= base_color, order= cat_order)\n",
    "\n",
    "plt.xlabel(\"Rating\")\n",
    "\n",
    "\n",
    "\n",
    "ax.spines['bottom'].set_color('white')\n",
    "ax.spines['top'].set_color('white') \n",
    "ax.spines['right'].set_color('white')\n",
    "ax.spines['left'].set_color('white')\n",
    "plt.title(\"Rating Counts\");"
   ]
  },
  {
   "cell_type": "markdown",
   "metadata": {},
   "source": [
    "The ratings are organized from best to worst. As you can see the distribution peeks in the average ratings, and is fewer in the extremes, which is to be expected."
   ]
  },
  {
   "cell_type": "markdown",
   "metadata": {},
   "source": [
    "### Income Range"
   ]
  },
  {
   "cell_type": "code",
   "execution_count": 131,
   "metadata": {},
   "outputs": [
    {
     "data": {
      "text/html": [
       "<div>\n",
       "<style scoped>\n",
       "    .dataframe tbody tr th:only-of-type {\n",
       "        vertical-align: middle;\n",
       "    }\n",
       "\n",
       "    .dataframe tbody tr th {\n",
       "        vertical-align: top;\n",
       "    }\n",
       "\n",
       "    .dataframe thead th {\n",
       "        text-align: right;\n",
       "    }\n",
       "</style>\n",
       "<table border=\"1\" class=\"dataframe\">\n",
       "  <thead>\n",
       "    <tr style=\"text-align: right;\">\n",
       "      <th></th>\n",
       "      <th>index</th>\n",
       "      <th>IncomeRange</th>\n",
       "    </tr>\n",
       "  </thead>\n",
       "  <tbody>\n",
       "    <tr>\n",
       "      <th>0</th>\n",
       "      <td>$50,000-74,999</td>\n",
       "      <td>25638</td>\n",
       "    </tr>\n",
       "    <tr>\n",
       "      <th>1</th>\n",
       "      <td>$25,000-49,999</td>\n",
       "      <td>24184</td>\n",
       "    </tr>\n",
       "    <tr>\n",
       "      <th>2</th>\n",
       "      <td>$100,000+</td>\n",
       "      <td>15209</td>\n",
       "    </tr>\n",
       "    <tr>\n",
       "      <th>3</th>\n",
       "      <td>$75,000-99,999</td>\n",
       "      <td>14499</td>\n",
       "    </tr>\n",
       "    <tr>\n",
       "      <th>4</th>\n",
       "      <td>$1-24,999</td>\n",
       "      <td>4657</td>\n",
       "    </tr>\n",
       "    <tr>\n",
       "      <th>5</th>\n",
       "      <td>Not employed</td>\n",
       "      <td>649</td>\n",
       "    </tr>\n",
       "    <tr>\n",
       "      <th>6</th>\n",
       "      <td>$0</td>\n",
       "      <td>45</td>\n",
       "    </tr>\n",
       "    <tr>\n",
       "      <th>7</th>\n",
       "      <td>Not displayed</td>\n",
       "      <td>0</td>\n",
       "    </tr>\n",
       "  </tbody>\n",
       "</table>\n",
       "</div>"
      ],
      "text/plain": [
       "            index  IncomeRange\n",
       "0  $50,000-74,999        25638\n",
       "1  $25,000-49,999        24184\n",
       "2       $100,000+        15209\n",
       "3  $75,000-99,999        14499\n",
       "4       $1-24,999         4657\n",
       "5    Not employed          649\n",
       "6              $0           45\n",
       "7   Not displayed            0"
      ]
     },
     "execution_count": 131,
     "metadata": {},
     "output_type": "execute_result"
    }
   ],
   "source": [
    "counts=cleaned[\"IncomeRange\"].value_counts().reset_index()\n",
    "counts"
   ]
  },
  {
   "cell_type": "code",
   "execution_count": 142,
   "metadata": {},
   "outputs": [],
   "source": [
    "# Do not include 0 and Not Displayed as they are too infrequent\n",
    "counts=counts[counts[\"IncomeRange\"]>100]\n"
   ]
  },
  {
   "cell_type": "code",
   "execution_count": 154,
   "metadata": {},
   "outputs": [
    {
     "data": {
      "image/png": "[encoded data removed]",
      "text/plain": [
       "<Figure size 432x288 with 1 Axes>"
      ]
     },
     "metadata": {
      "needs_background": "light"
     },
     "output_type": "display_data"
    }
   ],
   "source": [
    "fig, ax = plt.subplots()\n",
    "base_color = sb.color_palette()[7]\n",
    "cat_order = [\"Not employed\",\"$1-24,999\",\"$25,000-49,999\",\"$50,000-74,999\",\"$75,000-99,999\",\"$100,000+\"]\n",
    "sb.barplot(data=counts, y='index', x='IncomeRange', color= base_color,order=cat_order)\n",
    "plt.xticks()\n",
    "plt.xlabel(\"Count\")\n",
    "plt.ylabel(\"Income\")\n",
    "\n",
    "\n",
    "ax.spines['bottom'].set_color('white')\n",
    "ax.spines['top'].set_color('white') \n",
    "ax.spines['right'].set_color('white')\n",
    "ax.spines['left'].set_color('white')\n",
    "plt.title(\"Income Category Counts\");"
   ]
  },
  {
   "cell_type": "markdown",
   "metadata": {},
   "source": [
    "This income distribution followed expectation, as it would be unusual to see many people with a reletivly high or low income. This indicates that Prosper is used by a good distrubiton of people and isn't a niche company."
   ]
  },
  {
   "cell_type": "markdown",
   "metadata": {},
   "source": [
    "### Employment Status"
   ]
  },
  {
   "cell_type": "code",
   "execution_count": 26,
   "metadata": {},
   "outputs": [
    {
     "data": {
      "text/html": [
       "<div>\n",
       "<style scoped>\n",
       "    .dataframe tbody tr th:only-of-type {\n",
       "        vertical-align: middle;\n",
       "    }\n",
       "\n",
       "    .dataframe tbody tr th {\n",
       "        vertical-align: top;\n",
       "    }\n",
       "\n",
       "    .dataframe thead th {\n",
       "        text-align: right;\n",
       "    }\n",
       "</style>\n",
       "<table border=\"1\" class=\"dataframe\">\n",
       "  <thead>\n",
       "    <tr style=\"text-align: right;\">\n",
       "      <th></th>\n",
       "      <th>index</th>\n",
       "      <th>EmploymentStatus</th>\n",
       "    </tr>\n",
       "  </thead>\n",
       "  <tbody>\n",
       "    <tr>\n",
       "      <th>0</th>\n",
       "      <td>Employed</td>\n",
       "      <td>67133</td>\n",
       "    </tr>\n",
       "    <tr>\n",
       "      <th>1</th>\n",
       "      <td>Full-time</td>\n",
       "      <td>7944</td>\n",
       "    </tr>\n",
       "    <tr>\n",
       "      <th>2</th>\n",
       "      <td>Self-employed</td>\n",
       "      <td>4528</td>\n",
       "    </tr>\n",
       "    <tr>\n",
       "      <th>3</th>\n",
       "      <td>Other</td>\n",
       "      <td>3798</td>\n",
       "    </tr>\n",
       "    <tr>\n",
       "      <th>4</th>\n",
       "      <td>Not employed</td>\n",
       "      <td>649</td>\n",
       "    </tr>\n",
       "    <tr>\n",
       "      <th>5</th>\n",
       "      <td>Retired</td>\n",
       "      <td>368</td>\n",
       "    </tr>\n",
       "    <tr>\n",
       "      <th>6</th>\n",
       "      <td>Part-time</td>\n",
       "      <td>256</td>\n",
       "    </tr>\n",
       "    <tr>\n",
       "      <th>7</th>\n",
       "      <td>Not available</td>\n",
       "      <td>0</td>\n",
       "    </tr>\n",
       "  </tbody>\n",
       "</table>\n",
       "</div>"
      ],
      "text/plain": [
       "           index  EmploymentStatus\n",
       "0       Employed             67133\n",
       "1      Full-time              7944\n",
       "2  Self-employed              4528\n",
       "3          Other              3798\n",
       "4   Not employed               649\n",
       "5        Retired               368\n",
       "6      Part-time               256\n",
       "7  Not available                 0"
      ]
     },
     "execution_count": 26,
     "metadata": {},
     "output_type": "execute_result"
    }
   ],
   "source": [
    "counts=cleaned[\"EmploymentStatus\"].value_counts().reset_index()\n",
    "counts"
   ]
  },
  {
   "cell_type": "code",
   "execution_count": 27,
   "metadata": {},
   "outputs": [],
   "source": [
    "# Do not include not avaliable\n",
    "counts=counts[counts[\"EmploymentStatus\"]>100]"
   ]
  },
  {
   "cell_type": "code",
   "execution_count": 28,
   "metadata": {},
   "outputs": [
    {
     "data": {
      "image/png": "[encoded data removed]",
      "text/plain": [
       "<Figure size 432x288 with 1 Axes>"
      ]
     },
     "metadata": {
      "needs_background": "light"
     },
     "output_type": "display_data"
    }
   ],
   "source": [
    "fig, ax = plt.subplots()\n",
    "base_color = sb.color_palette()[4]\n",
    "cat_order = counts[\"index\"]\n",
    "sb.barplot(data=counts, y='EmploymentStatus', x='index', color= base_color, order= cat_order)\n",
    "plt.xticks(rotation=90)\n",
    "plt.xlabel(\"Status\")\n",
    "plt.yticks([])\n",
    "plt.ylabel(\"Counts\")\n",
    "for i, v in enumerate(counts[\"EmploymentStatus\"]):\n",
    "    plt.text(x=i-0.3 ,y=v+1000, s=str(v), color='black',)\n",
    "\n",
    "\n",
    "ax.spines['bottom'].set_color('white')\n",
    "ax.spines['top'].set_color('white') \n",
    "ax.spines['right'].set_color('white')\n",
    "ax.spines['left'].set_color('white')\n",
    "plt.title(\"Employment Status Counts\");"
   ]
  },
  {
   "cell_type": "markdown",
   "metadata": {},
   "source": [
    "This is to be expected as most people in the country are employed. The low Full time count is alarming as this should be higher. This may be caused by a failure of customers to report complete information. "
   ]
  },
  {
   "cell_type": "markdown",
   "metadata": {},
   "source": [
    "### Credit Score"
   ]
  },
  {
   "cell_type": "code",
   "execution_count": 76,
   "metadata": {},
   "outputs": [
    {
     "data": {
      "image/png": "[encoded data removed]",
      "text/plain": [
       "<Figure size 576x360 with 1 Axes>"
      ]
     },
     "metadata": {},
     "output_type": "display_data"
    }
   ],
   "source": [
    "fig, ax = plt.subplots(figsize = [8, 5])\n",
    "bins= np.arange(600,860,20)\n",
    "plt.hist(cleaned[\"CreditScoreRangeLower\"], color= \"c\", bins= bins, density=True);\n",
    "plt.xticks(np.arange(600,860,20), rotation=90);\n",
    "ax.spines['bottom'].set_color('white')\n",
    "ax.spines['top'].set_color('white') \n",
    "ax.spines['right'].set_color('white')\n",
    "ax.spines['left'].set_color('white')\n",
    "plt.title(\"Credit Score Distribution\");\n",
    "plt.xlabel(\"Credit Score\");\n",
    "plt.ylabel(\"Density\");"
   ]
  },
  {
   "cell_type": "markdown",
   "metadata": {},
   "source": [
    "This distribution is slightly right skewed.  I decided to limit the range to 860 to emphasize the main distribution of Credit Scores. However, this distrubution is to be expected."
   ]
  },
  {
   "cell_type": "code",
   "execution_count": 74,
   "metadata": {},
   "outputs": [
    {
     "data": {
      "image/png": "[encoded data removed]",
      "text/plain": [
       "<Figure size 576x360 with 1 Axes>"
      ]
     },
     "metadata": {},
     "output_type": "display_data"
    }
   ],
   "source": [
    "fig, ax = plt.subplots(figsize = [8, 5])\n",
    "bins= np.arange(0,.65,.02)\n",
    "plt.hist((cleaned[\"DebtToIncomeRatio\"]), bins=bins, color= \"C5\", density=False);\n",
    "plt.xlim(0,.65)\n",
    "ax.spines['bottom'].set_color('white')\n",
    "ax.spines['top'].set_color('white') \n",
    "ax.spines['right'].set_color('white')\n",
    "ax.spines['left'].set_color('white')\n",
    "plt.title(\"DebtToIncomeRatio\");\n",
    "plt.xlabel(\"ratio\");\n",
    "plt.ylabel(\"Count\");\n",
    "plt.xticks(np.arange(0,.65,.05), rotation=90);"
   ]
  },
  {
   "cell_type": "markdown",
   "metadata": {},
   "source": [
    "The  graph of debt to income ratio is heavily skewed right. While most of the values are between 0.1, and 0.3. the debt to income ratios go on up to a max ratio of 10. The heavy presence of outliers is a major concern as it reduced the quality of the visuals. To correct this, I imposed a limit ratio of 0.65. However, the outliers were still numerous. Thus, I  did a square root transformation to make the distribution more normal. "
   ]
  },
  {
   "cell_type": "code",
   "execution_count": 75,
   "metadata": {},
   "outputs": [
    {
     "data": {
      "image/png": "[encoded data removed]",
      "text/plain": [
       "<Figure size 576x360 with 1 Axes>"
      ]
     },
     "metadata": {},
     "output_type": "display_data"
    }
   ],
   "source": [
    "# scuare root transforation graph\n",
    "fig, ax = plt.subplots(figsize = [8, 5])\n",
    "bins= np.arange(0,1,.05)\n",
    "plt.hist(np.sqrt(cleaned[\"DebtToIncomeRatio\"]),  color= \"C5\", bins= bins, density=False);\n",
    "#plt.xlim(0,.65)\n",
    "ax.spines['bottom'].set_color('white')\n",
    "ax.spines['top'].set_color('white') \n",
    "ax.spines['right'].set_color('white')\n",
    "ax.spines['left'].set_color('white')\n",
    "plt.title(\"Square Root DebtToIncomeRatio\");\n",
    "plt.xlabel(\" Square Root of ratio\");\n",
    "plt.ylabel(\"Count\");\n",
    "plt.xticks(np.arange(0,1,.05), rotation=90);"
   ]
  },
  {
   "cell_type": "markdown",
   "metadata": {},
   "source": [
    "The distribution is much more normal. "
   ]
  },
  {
   "cell_type": "code",
   "execution_count": 59,
   "metadata": {},
   "outputs": [],
   "source": [
    "cleaned[\"sqrt\"]= np.sqrt(cleaned[\"DebtToIncomeRatio\"])"
   ]
  },
  {
   "cell_type": "code",
   "execution_count": 46,
   "metadata": {},
   "outputs": [
    {
     "data": {
      "text/html": [
       "<div>\n",
       "<style scoped>\n",
       "    .dataframe tbody tr th:only-of-type {\n",
       "        vertical-align: middle;\n",
       "    }\n",
       "\n",
       "    .dataframe tbody tr th {\n",
       "        vertical-align: top;\n",
       "    }\n",
       "\n",
       "    .dataframe thead th {\n",
       "        text-align: right;\n",
       "    }\n",
       "</style>\n",
       "<table border=\"1\" class=\"dataframe\">\n",
       "  <thead>\n",
       "    <tr style=\"text-align: right;\">\n",
       "      <th></th>\n",
       "      <th>DebtToIncomeRatio</th>\n",
       "      <th>CreditScoreRangeLower</th>\n",
       "      <th>sqrt</th>\n",
       "    </tr>\n",
       "  </thead>\n",
       "  <tbody>\n",
       "    <tr>\n",
       "      <th>count</th>\n",
       "      <td>77395.000000</td>\n",
       "      <td>84676.000000</td>\n",
       "      <td>77395.000000</td>\n",
       "    </tr>\n",
       "    <tr>\n",
       "      <th>mean</th>\n",
       "      <td>0.258816</td>\n",
       "      <td>699.387548</td>\n",
       "      <td>0.483384</td>\n",
       "    </tr>\n",
       "    <tr>\n",
       "      <th>std</th>\n",
       "      <td>0.318634</td>\n",
       "      <td>47.099595</td>\n",
       "      <td>0.158604</td>\n",
       "    </tr>\n",
       "    <tr>\n",
       "      <th>min</th>\n",
       "      <td>0.000000</td>\n",
       "      <td>600.000000</td>\n",
       "      <td>0.000000</td>\n",
       "    </tr>\n",
       "    <tr>\n",
       "      <th>25%</th>\n",
       "      <td>0.150000</td>\n",
       "      <td>660.000000</td>\n",
       "      <td>0.387298</td>\n",
       "    </tr>\n",
       "    <tr>\n",
       "      <th>50%</th>\n",
       "      <td>0.220000</td>\n",
       "      <td>700.000000</td>\n",
       "      <td>0.469042</td>\n",
       "    </tr>\n",
       "    <tr>\n",
       "      <th>75%</th>\n",
       "      <td>0.320000</td>\n",
       "      <td>720.000000</td>\n",
       "      <td>0.565685</td>\n",
       "    </tr>\n",
       "    <tr>\n",
       "      <th>max</th>\n",
       "      <td>10.010000</td>\n",
       "      <td>880.000000</td>\n",
       "      <td>3.163858</td>\n",
       "    </tr>\n",
       "  </tbody>\n",
       "</table>\n",
       "</div>"
      ],
      "text/plain": [
       "       DebtToIncomeRatio  CreditScoreRangeLower          sqrt\n",
       "count       77395.000000           84676.000000  77395.000000\n",
       "mean            0.258816             699.387548      0.483384\n",
       "std             0.318634              47.099595      0.158604\n",
       "min             0.000000             600.000000      0.000000\n",
       "25%             0.150000             660.000000      0.387298\n",
       "50%             0.220000             700.000000      0.469042\n",
       "75%             0.320000             720.000000      0.565685\n",
       "max            10.010000             880.000000      3.163858"
      ]
     },
     "execution_count": 46,
     "metadata": {},
     "output_type": "execute_result"
    }
   ],
   "source": [
    "cleaned.describe()[[\"DebtToIncomeRatio\",\"CreditScoreRangeLower\", \"sqrt\"]]"
   ]
  },
  {
   "cell_type": "markdown",
   "metadata": {},
   "source": [
    "### Discuss the distribution(s) of your variable(s) of interest. Were there any unusual points? Did you need to perform any transformations?\n",
    "\n",
    ">  For our variable of interest, we find that there is a heavy presence of current loan type, and not that many chargedoffs and defaults. This is to be expected.  \n",
    "\n",
    "### Of the features you investigated, were there any unusual distributions? Did you perform any operations on the data to tidy, adjust, or change the form of the data? If so, why did you do this?\n",
    "\n",
    "> For income and proser rating, the distribution peaks for the middle value/range. Both the credit score and debt to income ratios are right skewed. To make the graphs more readably, I imposed a x range, and used a square root transformation for the Debt to Income Ratio.I was suprised how right skewed the debt to income ratio variable was. I had to perform a square root transformation, as the excesive presence of outliers would makke the graphs for bivariate analysis with loan Status unreadable. "
   ]
  },
  {
   "cell_type": "markdown",
   "metadata": {},
   "source": [
    "## Bivariate Exploration\n",
    "\n"
   ]
  },
  {
   "cell_type": "markdown",
   "metadata": {},
   "source": [
    "### Prosper Rating and Loan Status"
   ]
  },
  {
   "cell_type": "code",
   "execution_count": 47,
   "metadata": {},
   "outputs": [],
   "source": [
    "# get  counst for each rating\n",
    "counts=cleaned[\"ProsperRating (numeric)\"].value_counts()"
   ]
  },
  {
   "cell_type": "code",
   "execution_count": 162,
   "metadata": {},
   "outputs": [
    {
     "data": {
      "text/plain": [
       "4.0    18307\n",
       "5.0    15542\n",
       "6.0    14517\n",
       "3.0    14246\n",
       "2.0     9763\n",
       "1.0     6914\n",
       "7.0     5359\n",
       "Name: ProsperRating (numeric), dtype: int64"
      ]
     },
     "execution_count": 162,
     "metadata": {},
     "output_type": "execute_result"
    }
   ],
   "source": [
    "counts"
   ]
  },
  {
   "cell_type": "code",
   "execution_count": 48,
   "metadata": {},
   "outputs": [
    {
     "data": {
      "text/html": [
       "<div>\n",
       "<style scoped>\n",
       "    .dataframe tbody tr th:only-of-type {\n",
       "        vertical-align: middle;\n",
       "    }\n",
       "\n",
       "    .dataframe tbody tr th {\n",
       "        vertical-align: top;\n",
       "    }\n",
       "\n",
       "    .dataframe thead th {\n",
       "        text-align: right;\n",
       "    }\n",
       "</style>\n",
       "<table border=\"1\" class=\"dataframe\">\n",
       "  <thead>\n",
       "    <tr style=\"text-align: right;\">\n",
       "      <th></th>\n",
       "      <th>ProsperRating (numeric)</th>\n",
       "      <th>LoanStatus</th>\n",
       "      <th>0</th>\n",
       "    </tr>\n",
       "  </thead>\n",
       "  <tbody>\n",
       "    <tr>\n",
       "      <th>0</th>\n",
       "      <td>1.0</td>\n",
       "      <td>Chargedoff</td>\n",
       "      <td>1215</td>\n",
       "    </tr>\n",
       "    <tr>\n",
       "      <th>1</th>\n",
       "      <td>1.0</td>\n",
       "      <td>Completed</td>\n",
       "      <td>2301</td>\n",
       "    </tr>\n",
       "    <tr>\n",
       "      <th>2</th>\n",
       "      <td>1.0</td>\n",
       "      <td>Current</td>\n",
       "      <td>2900</td>\n",
       "    </tr>\n",
       "    <tr>\n",
       "      <th>3</th>\n",
       "      <td>1.0</td>\n",
       "      <td>Defaulted</td>\n",
       "      <td>209</td>\n",
       "    </tr>\n",
       "    <tr>\n",
       "      <th>4</th>\n",
       "      <td>1.0</td>\n",
       "      <td>PastDue</td>\n",
       "      <td>289</td>\n",
       "    </tr>\n",
       "  </tbody>\n",
       "</table>\n",
       "</div>"
      ],
      "text/plain": [
       "  ProsperRating (numeric)  LoanStatus     0\n",
       "0                     1.0  Chargedoff  1215\n",
       "1                     1.0   Completed  2301\n",
       "2                     1.0     Current  2900\n",
       "3                     1.0   Defaulted   209\n",
       "4                     1.0     PastDue   289"
      ]
     },
     "execution_count": 48,
     "metadata": {},
     "output_type": "execute_result"
    }
   ],
   "source": [
    "# get counts for each rating grouped by loan Status type\n",
    "grouped=cleaned.groupby([\"ProsperRating (numeric)\",\"LoanStatus\"]).size().reset_index()\n",
    "grouped.head()"
   ]
  },
  {
   "cell_type": "markdown",
   "metadata": {},
   "source": [
    "Instead of graphing counts, I decided to graph the ratio of values in a specific LoanStatus/prosperRating group when compared to the whole individual rating count. Additionally, I also converted to percentages. I did this to better unearth trends. For instance, without this method, it would be difficult to determine whether a trend occured due to there simply being more values in that total group or due to a important reason. "
   ]
  },
  {
   "cell_type": "code",
   "execution_count": 49,
   "metadata": {},
   "outputs": [],
   "source": [
    "# Get the counts from the counts table for the corresponding position in the group table and then calculate percentage\n",
    "c=[]\n",
    "for i in grouped['ProsperRating (numeric)']: \n",
    "                c.append(counts[int(i)])\n",
    "    "
   ]
  },
  {
   "cell_type": "code",
   "execution_count": 50,
   "metadata": {},
   "outputs": [
    {
     "data": {
      "text/html": [
       "<div>\n",
       "<style scoped>\n",
       "    .dataframe tbody tr th:only-of-type {\n",
       "        vertical-align: middle;\n",
       "    }\n",
       "\n",
       "    .dataframe tbody tr th {\n",
       "        vertical-align: top;\n",
       "    }\n",
       "\n",
       "    .dataframe thead th {\n",
       "        text-align: right;\n",
       "    }\n",
       "</style>\n",
       "<table border=\"1\" class=\"dataframe\">\n",
       "  <thead>\n",
       "    <tr style=\"text-align: right;\">\n",
       "      <th></th>\n",
       "      <th>ProsperRating (numeric)</th>\n",
       "      <th>LoanStatus</th>\n",
       "      <th>0</th>\n",
       "      <th>percentage</th>\n",
       "    </tr>\n",
       "  </thead>\n",
       "  <tbody>\n",
       "    <tr>\n",
       "      <th>0</th>\n",
       "      <td>1.0</td>\n",
       "      <td>Chargedoff</td>\n",
       "      <td>1215</td>\n",
       "      <td>17.573040</td>\n",
       "    </tr>\n",
       "    <tr>\n",
       "      <th>1</th>\n",
       "      <td>1.0</td>\n",
       "      <td>Completed</td>\n",
       "      <td>2301</td>\n",
       "      <td>33.280301</td>\n",
       "    </tr>\n",
       "    <tr>\n",
       "      <th>2</th>\n",
       "      <td>1.0</td>\n",
       "      <td>Current</td>\n",
       "      <td>2900</td>\n",
       "      <td>41.943882</td>\n",
       "    </tr>\n",
       "    <tr>\n",
       "      <th>3</th>\n",
       "      <td>1.0</td>\n",
       "      <td>Defaulted</td>\n",
       "      <td>209</td>\n",
       "      <td>3.022852</td>\n",
       "    </tr>\n",
       "    <tr>\n",
       "      <th>4</th>\n",
       "      <td>1.0</td>\n",
       "      <td>PastDue</td>\n",
       "      <td>289</td>\n",
       "      <td>4.179925</td>\n",
       "    </tr>\n",
       "  </tbody>\n",
       "</table>\n",
       "</div>"
      ],
      "text/plain": [
       "  ProsperRating (numeric)  LoanStatus     0  percentage\n",
       "0                     1.0  Chargedoff  1215   17.573040\n",
       "1                     1.0   Completed  2301   33.280301\n",
       "2                     1.0     Current  2900   41.943882\n",
       "3                     1.0   Defaulted   209    3.022852\n",
       "4                     1.0     PastDue   289    4.179925"
      ]
     },
     "execution_count": 50,
     "metadata": {},
     "output_type": "execute_result"
    }
   ],
   "source": [
    "percentage= (grouped[0]/c)*100\n",
    "grouped[\"percentage\"]= percentage\n",
    "grouped.head()"
   ]
  },
  {
   "cell_type": "markdown",
   "metadata": {},
   "source": [
    " Because of the large presence of Current loans, it may make other statuses hard to detect due to a larger axis. Therefore, I will create a graph without Current. "
   ]
  },
  {
   "cell_type": "code",
   "execution_count": 51,
   "metadata": {},
   "outputs": [
    {
     "data": {
      "text/plain": [
       "array([ 2,  7, 12, 17, 22, 27, 32], dtype=int64)"
      ]
     },
     "execution_count": 51,
     "metadata": {},
     "output_type": "execute_result"
    }
   ],
   "source": [
    "# Find location of current and drop\n",
    "drop=np.where(grouped[\"LoanStatus\"]==\"Current\")[0]\n",
    "drop"
   ]
  },
  {
   "cell_type": "code",
   "execution_count": 52,
   "metadata": {},
   "outputs": [],
   "source": [
    "without=grouped.drop(drop)"
   ]
  },
  {
   "cell_type": "code",
   "execution_count": 53,
   "metadata": {},
   "outputs": [],
   "source": [
    "without[\"LoanStatus\"]= without[\"LoanStatus\"].astype(\"object\")"
   ]
  },
  {
   "cell_type": "code",
   "execution_count": 54,
   "metadata": {},
   "outputs": [
    {
     "data": {
      "image/png": "[encoded data removed]",
      "text/plain": [
       "<Figure size 1080x360 with 2 Axes>"
      ]
     },
     "metadata": {
      "needs_background": "light"
     },
     "output_type": "display_data"
    }
   ],
   "source": [
    "# Graph\n",
    "fig = plt.figure(figsize=(15,5))\n",
    "plt.subplot(1, 2, 1)\n",
    "sb.barplot(data = grouped, x = 'ProsperRating (numeric)',y=\"percentage\" ,hue = 'LoanStatus');\n",
    "plt.title(\"Propser Rating and Loan Status percentage\")\n",
    "plt.subplot(1, 2, 2)\n",
    "sb.barplot(data = without, x = 'ProsperRating (numeric)',y=\"percentage\" ,hue = 'LoanStatus')\n",
    "plt.title(\"Non-Current Propser Rating and Loan Status percentage\");"
   ]
  },
  {
   "cell_type": "markdown",
   "metadata": {},
   "source": [
    "Looking at the First Graph we find that a majority of Loans with a proser Rating of 2 and up are current, with a large spike from rating 2 to 3. Also, looking at the non current loans, we finds that there is a steady and noticible decline in percentage Chargedoff as the rating increases. We also witness this trend for the Defaulted and Past Due, but it is less noticable. Furthrmore, it is interesting t see that completed as its to largest values on the extremes. This could indicate that a low and high rating is very significant to the process. Or, it could be due to randomness and actually be a one time result. "
   ]
  },
  {
   "cell_type": "markdown",
   "metadata": {},
   "source": [
    "### Income Range and Loan Status"
   ]
  },
  {
   "cell_type": "code",
   "execution_count": 55,
   "metadata": {},
   "outputs": [
    {
     "data": {
      "text/html": [
       "<div>\n",
       "<style scoped>\n",
       "    .dataframe tbody tr th:only-of-type {\n",
       "        vertical-align: middle;\n",
       "    }\n",
       "\n",
       "    .dataframe tbody tr th {\n",
       "        vertical-align: top;\n",
       "    }\n",
       "\n",
       "    .dataframe thead th {\n",
       "        text-align: right;\n",
       "    }\n",
       "</style>\n",
       "<table border=\"1\" class=\"dataframe\">\n",
       "  <thead>\n",
       "    <tr style=\"text-align: right;\">\n",
       "      <th></th>\n",
       "      <th>IncomeRange</th>\n",
       "    </tr>\n",
       "  </thead>\n",
       "  <tbody>\n",
       "    <tr>\n",
       "      <th>$50,000-74,999</th>\n",
       "      <td>25574</td>\n",
       "    </tr>\n",
       "    <tr>\n",
       "      <th>$25,000-49,999</th>\n",
       "      <td>24135</td>\n",
       "    </tr>\n",
       "    <tr>\n",
       "      <th>$100,000+</th>\n",
       "      <td>15157</td>\n",
       "    </tr>\n",
       "    <tr>\n",
       "      <th>$75,000-99,999</th>\n",
       "      <td>14473</td>\n",
       "    </tr>\n",
       "    <tr>\n",
       "      <th>$1-24,999</th>\n",
       "      <td>4643</td>\n",
       "    </tr>\n",
       "    <tr>\n",
       "      <th>Not employed</th>\n",
       "      <td>649</td>\n",
       "    </tr>\n",
       "    <tr>\n",
       "      <th>$0</th>\n",
       "      <td>45</td>\n",
       "    </tr>\n",
       "    <tr>\n",
       "      <th>Not displayed</th>\n",
       "      <td>0</td>\n",
       "    </tr>\n",
       "  </tbody>\n",
       "</table>\n",
       "</div>"
      ],
      "text/plain": [
       "                IncomeRange\n",
       "$50,000-74,999        25574\n",
       "$25,000-49,999        24135\n",
       "$100,000+             15157\n",
       "$75,000-99,999        14473\n",
       "$1-24,999              4643\n",
       "Not employed            649\n",
       "$0                       45\n",
       "Not displayed             0"
      ]
     },
     "execution_count": 55,
     "metadata": {},
     "output_type": "execute_result"
    }
   ],
   "source": [
    "counts=pd.DataFrame(cleaned[\"IncomeRange\"].value_counts())\n",
    "counts"
   ]
  },
  {
   "cell_type": "code",
   "execution_count": 56,
   "metadata": {},
   "outputs": [],
   "source": [
    "# DO not include $0 and Not displayed as they are too infrequent\n",
    "counts=counts[counts[\"IncomeRange\"]>100]"
   ]
  },
  {
   "cell_type": "code",
   "execution_count": 137,
   "metadata": {},
   "outputs": [
    {
     "data": {
      "text/html": [
       "<div>\n",
       "<style scoped>\n",
       "    .dataframe tbody tr th:only-of-type {\n",
       "        vertical-align: middle;\n",
       "    }\n",
       "\n",
       "    .dataframe tbody tr th {\n",
       "        vertical-align: top;\n",
       "    }\n",
       "\n",
       "    .dataframe thead th {\n",
       "        text-align: right;\n",
       "    }\n",
       "</style>\n",
       "<table border=\"1\" class=\"dataframe\">\n",
       "  <thead>\n",
       "    <tr style=\"text-align: right;\">\n",
       "      <th></th>\n",
       "      <th>IncomeRange</th>\n",
       "    </tr>\n",
       "  </thead>\n",
       "  <tbody>\n",
       "    <tr>\n",
       "      <th>$50,000-74,999</th>\n",
       "      <td>25574</td>\n",
       "    </tr>\n",
       "    <tr>\n",
       "      <th>$25,000-49,999</th>\n",
       "      <td>24135</td>\n",
       "    </tr>\n",
       "    <tr>\n",
       "      <th>$100,000+</th>\n",
       "      <td>15157</td>\n",
       "    </tr>\n",
       "    <tr>\n",
       "      <th>$75,000-99,999</th>\n",
       "      <td>14473</td>\n",
       "    </tr>\n",
       "    <tr>\n",
       "      <th>$1-24,999</th>\n",
       "      <td>4643</td>\n",
       "    </tr>\n",
       "    <tr>\n",
       "      <th>Not employed</th>\n",
       "      <td>649</td>\n",
       "    </tr>\n",
       "  </tbody>\n",
       "</table>\n",
       "</div>"
      ],
      "text/plain": [
       "                IncomeRange\n",
       "$50,000-74,999        25574\n",
       "$25,000-49,999        24135\n",
       "$100,000+             15157\n",
       "$75,000-99,999        14473\n",
       "$1-24,999              4643\n",
       "Not employed            649"
      ]
     },
     "execution_count": 137,
     "metadata": {},
     "output_type": "execute_result"
    }
   ],
   "source": [
    "counts"
   ]
  },
  {
   "cell_type": "code",
   "execution_count": 57,
   "metadata": {},
   "outputs": [
    {
     "data": {
      "text/html": [
       "<div>\n",
       "<style scoped>\n",
       "    .dataframe tbody tr th:only-of-type {\n",
       "        vertical-align: middle;\n",
       "    }\n",
       "\n",
       "    .dataframe tbody tr th {\n",
       "        vertical-align: top;\n",
       "    }\n",
       "\n",
       "    .dataframe thead th {\n",
       "        text-align: right;\n",
       "    }\n",
       "</style>\n",
       "<table border=\"1\" class=\"dataframe\">\n",
       "  <thead>\n",
       "    <tr style=\"text-align: right;\">\n",
       "      <th></th>\n",
       "      <th>IncomeRange</th>\n",
       "      <th>LoanStatus</th>\n",
       "      <th>0</th>\n",
       "    </tr>\n",
       "  </thead>\n",
       "  <tbody>\n",
       "    <tr>\n",
       "      <th>5</th>\n",
       "      <td>$1-24,999</td>\n",
       "      <td>Chargedoff</td>\n",
       "      <td>613</td>\n",
       "    </tr>\n",
       "    <tr>\n",
       "      <th>6</th>\n",
       "      <td>$1-24,999</td>\n",
       "      <td>Completed</td>\n",
       "      <td>1250</td>\n",
       "    </tr>\n",
       "    <tr>\n",
       "      <th>7</th>\n",
       "      <td>$1-24,999</td>\n",
       "      <td>Current</td>\n",
       "      <td>2536</td>\n",
       "    </tr>\n",
       "    <tr>\n",
       "      <th>8</th>\n",
       "      <td>$1-24,999</td>\n",
       "      <td>Defaulted</td>\n",
       "      <td>91</td>\n",
       "    </tr>\n",
       "    <tr>\n",
       "      <th>9</th>\n",
       "      <td>$1-24,999</td>\n",
       "      <td>PastDue</td>\n",
       "      <td>153</td>\n",
       "    </tr>\n",
       "  </tbody>\n",
       "</table>\n",
       "</div>"
      ],
      "text/plain": [
       "  IncomeRange  LoanStatus     0\n",
       "5   $1-24,999  Chargedoff   613\n",
       "6   $1-24,999   Completed  1250\n",
       "7   $1-24,999     Current  2536\n",
       "8   $1-24,999   Defaulted    91\n",
       "9   $1-24,999     PastDue   153"
      ]
     },
     "execution_count": 57,
     "metadata": {},
     "output_type": "execute_result"
    }
   ],
   "source": [
    "# Repeating the groupy and creating percentage steps like in the previous plot\n",
    "grouped=cleaned.groupby([\"IncomeRange\",\"LoanStatus\"]).size().reset_index()\n",
    "x=np.where(grouped[\"IncomeRange\"]==\"$0\")[0]\n",
    "grouped=grouped.drop(x)\n",
    "grouped.head()"
   ]
  },
  {
   "cell_type": "code",
   "execution_count": 58,
   "metadata": {},
   "outputs": [
    {
     "data": {
      "text/html": [
       "<div>\n",
       "<style scoped>\n",
       "    .dataframe tbody tr th:only-of-type {\n",
       "        vertical-align: middle;\n",
       "    }\n",
       "\n",
       "    .dataframe tbody tr th {\n",
       "        vertical-align: top;\n",
       "    }\n",
       "\n",
       "    .dataframe thead th {\n",
       "        text-align: right;\n",
       "    }\n",
       "</style>\n",
       "<table border=\"1\" class=\"dataframe\">\n",
       "  <thead>\n",
       "    <tr style=\"text-align: right;\">\n",
       "      <th></th>\n",
       "      <th>IncomeRange</th>\n",
       "      <th>LoanStatus</th>\n",
       "      <th>0</th>\n",
       "      <th>percentage</th>\n",
       "    </tr>\n",
       "  </thead>\n",
       "  <tbody>\n",
       "    <tr>\n",
       "      <th>5</th>\n",
       "      <td>$1-24,999</td>\n",
       "      <td>Chargedoff</td>\n",
       "      <td>613</td>\n",
       "      <td>13.202671</td>\n",
       "    </tr>\n",
       "    <tr>\n",
       "      <th>6</th>\n",
       "      <td>$1-24,999</td>\n",
       "      <td>Completed</td>\n",
       "      <td>1250</td>\n",
       "      <td>26.922249</td>\n",
       "    </tr>\n",
       "    <tr>\n",
       "      <th>7</th>\n",
       "      <td>$1-24,999</td>\n",
       "      <td>Current</td>\n",
       "      <td>2536</td>\n",
       "      <td>54.619858</td>\n",
       "    </tr>\n",
       "    <tr>\n",
       "      <th>8</th>\n",
       "      <td>$1-24,999</td>\n",
       "      <td>Defaulted</td>\n",
       "      <td>91</td>\n",
       "      <td>1.959940</td>\n",
       "    </tr>\n",
       "    <tr>\n",
       "      <th>9</th>\n",
       "      <td>$1-24,999</td>\n",
       "      <td>PastDue</td>\n",
       "      <td>153</td>\n",
       "      <td>3.295283</td>\n",
       "    </tr>\n",
       "  </tbody>\n",
       "</table>\n",
       "</div>"
      ],
      "text/plain": [
       "  IncomeRange  LoanStatus     0  percentage\n",
       "5   $1-24,999  Chargedoff   613   13.202671\n",
       "6   $1-24,999   Completed  1250   26.922249\n",
       "7   $1-24,999     Current  2536   54.619858\n",
       "8   $1-24,999   Defaulted    91    1.959940\n",
       "9   $1-24,999     PastDue   153    3.295283"
      ]
     },
     "execution_count": 58,
     "metadata": {},
     "output_type": "execute_result"
    }
   ],
   "source": [
    "c=[]\n",
    "for i in grouped['IncomeRange']: \n",
    "                c.append(counts.loc[i][0])\n",
    "percentage= (grouped[0]/c)*100\n",
    "grouped[\"percentage\"]= percentage\n",
    "grouped.head()"
   ]
  },
  {
   "cell_type": "code",
   "execution_count": 59,
   "metadata": {},
   "outputs": [],
   "source": [
    "grouped[\"IncomeRange\"]=grouped[\"IncomeRange\"].astype(\"object\")"
   ]
  },
  {
   "cell_type": "code",
   "execution_count": 60,
   "metadata": {},
   "outputs": [],
   "source": [
    "grouped=grouped.reset_index().drop(\"index\", axis=1)"
   ]
  },
  {
   "cell_type": "code",
   "execution_count": 61,
   "metadata": {},
   "outputs": [],
   "source": [
    "# creating the non current data frame\n",
    "drop=np.where(grouped[\"LoanStatus\"]==\"Current\")[0]\n",
    "without=grouped.drop(drop)\n",
    "without[\"LoanStatus\"]= without[\"LoanStatus\"].astype(\"object\")"
   ]
  },
  {
   "cell_type": "code",
   "execution_count": 62,
   "metadata": {},
   "outputs": [
    {
     "data": {
      "image/png": "[encoded data removed]",
      "text/plain": [
       "<Figure size 1080x360 with 2 Axes>"
      ]
     },
     "metadata": {
      "needs_background": "light"
     },
     "output_type": "display_data"
    }
   ],
   "source": [
    "order=[\"Not employed\",\"$1-24,999\",\"$25,000-49,999\",\"$50,000-74,999\",\"$75,000-99,999\",\"$100,000+\"]\n",
    "fig = plt.figure(figsize=(15,5))\n",
    "plt.subplot(1, 2, 1)\n",
    "sb.barplot(data = grouped, x = \"IncomeRange\",y=\"percentage\" ,hue = 'LoanStatus', order= order);\n",
    "plt.title(\"Income Range and Loan Status percentage\")\n",
    "plt.xticks(rotation=90);\n",
    "plt.subplot(1, 2, 2)\n",
    "sb.barplot(data = without, x = \"IncomeRange\",y=\"percentage\" ,hue = 'LoanStatus', order= order)\n",
    "plt.title(\"Non-Current Income Range and Loan Status percentage\");\n",
    "plt.xticks(rotation=90);"
   ]
  },
  {
   "cell_type": "markdown",
   "metadata": {},
   "source": [
    "Chargedoff Defaulted and past due all decrease with an increase with income, even though this trend looks very small for defaulted and past due. It is interesting to see that completed percentage decreases and then stagnates. This contradicts the trend from the first bi variate analysis which showed peaks at the extremes as that previous trend would indicate peaks at Not employed and 100,000+. It is intesting to see that Current increased with Income Range. This could indicate that higher incomes take more long term loans and thus need more time to pay off debts. "
   ]
  },
  {
   "cell_type": "markdown",
   "metadata": {},
   "source": [
    "### Employment Status and Loan Status"
   ]
  },
  {
   "cell_type": "code",
   "execution_count": 63,
   "metadata": {},
   "outputs": [],
   "source": [
    "# get Counts and drop too infreqent values\n",
    "counts=pd.DataFrame(cleaned[\"EmploymentStatus\"].value_counts())\n",
    "counts=counts[counts[\"EmploymentStatus\"]>100]"
   ]
  },
  {
   "cell_type": "code",
   "execution_count": 202,
   "metadata": {},
   "outputs": [
    {
     "data": {
      "text/html": [
       "<div>\n",
       "<style scoped>\n",
       "    .dataframe tbody tr th:only-of-type {\n",
       "        vertical-align: middle;\n",
       "    }\n",
       "\n",
       "    .dataframe tbody tr th {\n",
       "        vertical-align: top;\n",
       "    }\n",
       "\n",
       "    .dataframe thead th {\n",
       "        text-align: right;\n",
       "    }\n",
       "</style>\n",
       "<table border=\"1\" class=\"dataframe\">\n",
       "  <thead>\n",
       "    <tr style=\"text-align: right;\">\n",
       "      <th></th>\n",
       "      <th>EmploymentStatus</th>\n",
       "    </tr>\n",
       "  </thead>\n",
       "  <tbody>\n",
       "    <tr>\n",
       "      <th>Employed</th>\n",
       "      <td>67133</td>\n",
       "    </tr>\n",
       "    <tr>\n",
       "      <th>Full-time</th>\n",
       "      <td>7944</td>\n",
       "    </tr>\n",
       "    <tr>\n",
       "      <th>Self-employed</th>\n",
       "      <td>4528</td>\n",
       "    </tr>\n",
       "    <tr>\n",
       "      <th>Other</th>\n",
       "      <td>3798</td>\n",
       "    </tr>\n",
       "    <tr>\n",
       "      <th>Not employed</th>\n",
       "      <td>649</td>\n",
       "    </tr>\n",
       "    <tr>\n",
       "      <th>Retired</th>\n",
       "      <td>368</td>\n",
       "    </tr>\n",
       "    <tr>\n",
       "      <th>Part-time</th>\n",
       "      <td>256</td>\n",
       "    </tr>\n",
       "  </tbody>\n",
       "</table>\n",
       "</div>"
      ],
      "text/plain": [
       "               EmploymentStatus\n",
       "Employed                  67133\n",
       "Full-time                  7944\n",
       "Self-employed              4528\n",
       "Other                      3798\n",
       "Not employed                649\n",
       "Retired                     368\n",
       "Part-time                   256"
      ]
     },
     "execution_count": 202,
     "metadata": {},
     "output_type": "execute_result"
    }
   ],
   "source": [
    "counts"
   ]
  },
  {
   "cell_type": "code",
   "execution_count": 64,
   "metadata": {},
   "outputs": [
    {
     "data": {
      "text/html": [
       "<div>\n",
       "<style scoped>\n",
       "    .dataframe tbody tr th:only-of-type {\n",
       "        vertical-align: middle;\n",
       "    }\n",
       "\n",
       "    .dataframe tbody tr th {\n",
       "        vertical-align: top;\n",
       "    }\n",
       "\n",
       "    .dataframe thead th {\n",
       "        text-align: right;\n",
       "    }\n",
       "</style>\n",
       "<table border=\"1\" class=\"dataframe\">\n",
       "  <thead>\n",
       "    <tr style=\"text-align: right;\">\n",
       "      <th></th>\n",
       "      <th>EmploymentStatus</th>\n",
       "      <th>LoanStatus</th>\n",
       "      <th>0</th>\n",
       "    </tr>\n",
       "  </thead>\n",
       "  <tbody>\n",
       "    <tr>\n",
       "      <th>0</th>\n",
       "      <td>Employed</td>\n",
       "      <td>Chargedoff</td>\n",
       "      <td>3529</td>\n",
       "    </tr>\n",
       "    <tr>\n",
       "      <th>1</th>\n",
       "      <td>Employed</td>\n",
       "      <td>Completed</td>\n",
       "      <td>12320</td>\n",
       "    </tr>\n",
       "    <tr>\n",
       "      <th>2</th>\n",
       "      <td>Employed</td>\n",
       "      <td>Current</td>\n",
       "      <td>48929</td>\n",
       "    </tr>\n",
       "    <tr>\n",
       "      <th>3</th>\n",
       "      <td>Employed</td>\n",
       "      <td>Defaulted</td>\n",
       "      <td>630</td>\n",
       "    </tr>\n",
       "    <tr>\n",
       "      <th>4</th>\n",
       "      <td>Employed</td>\n",
       "      <td>PastDue</td>\n",
       "      <td>1725</td>\n",
       "    </tr>\n",
       "  </tbody>\n",
       "</table>\n",
       "</div>"
      ],
      "text/plain": [
       "  EmploymentStatus  LoanStatus      0\n",
       "0         Employed  Chargedoff   3529\n",
       "1         Employed   Completed  12320\n",
       "2         Employed     Current  48929\n",
       "3         Employed   Defaulted    630\n",
       "4         Employed     PastDue   1725"
      ]
     },
     "execution_count": 64,
     "metadata": {},
     "output_type": "execute_result"
    }
   ],
   "source": [
    "# get group by count\n",
    "grouped=cleaned.groupby([\"EmploymentStatus\",\"LoanStatus\"]).size().reset_index()\n",
    "x=np.where(grouped[\"EmploymentStatus\"]==\"$0\")[0]\n",
    "grouped=grouped.drop(x)\n",
    "grouped.head()"
   ]
  },
  {
   "cell_type": "code",
   "execution_count": 65,
   "metadata": {},
   "outputs": [
    {
     "data": {
      "text/html": [
       "<div>\n",
       "<style scoped>\n",
       "    .dataframe tbody tr th:only-of-type {\n",
       "        vertical-align: middle;\n",
       "    }\n",
       "\n",
       "    .dataframe tbody tr th {\n",
       "        vertical-align: top;\n",
       "    }\n",
       "\n",
       "    .dataframe thead th {\n",
       "        text-align: right;\n",
       "    }\n",
       "</style>\n",
       "<table border=\"1\" class=\"dataframe\">\n",
       "  <thead>\n",
       "    <tr style=\"text-align: right;\">\n",
       "      <th></th>\n",
       "      <th>EmploymentStatus</th>\n",
       "      <th>LoanStatus</th>\n",
       "      <th>0</th>\n",
       "      <th>percentage</th>\n",
       "    </tr>\n",
       "  </thead>\n",
       "  <tbody>\n",
       "    <tr>\n",
       "      <th>0</th>\n",
       "      <td>Employed</td>\n",
       "      <td>Chargedoff</td>\n",
       "      <td>3529</td>\n",
       "      <td>5.256729</td>\n",
       "    </tr>\n",
       "    <tr>\n",
       "      <th>1</th>\n",
       "      <td>Employed</td>\n",
       "      <td>Completed</td>\n",
       "      <td>12320</td>\n",
       "      <td>18.351630</td>\n",
       "    </tr>\n",
       "    <tr>\n",
       "      <th>2</th>\n",
       "      <td>Employed</td>\n",
       "      <td>Current</td>\n",
       "      <td>48929</td>\n",
       "      <td>72.883679</td>\n",
       "    </tr>\n",
       "    <tr>\n",
       "      <th>3</th>\n",
       "      <td>Employed</td>\n",
       "      <td>Defaulted</td>\n",
       "      <td>630</td>\n",
       "      <td>0.938436</td>\n",
       "    </tr>\n",
       "    <tr>\n",
       "      <th>4</th>\n",
       "      <td>Employed</td>\n",
       "      <td>PastDue</td>\n",
       "      <td>1725</td>\n",
       "      <td>2.569526</td>\n",
       "    </tr>\n",
       "  </tbody>\n",
       "</table>\n",
       "</div>"
      ],
      "text/plain": [
       "  EmploymentStatus  LoanStatus      0  percentage\n",
       "0         Employed  Chargedoff   3529    5.256729\n",
       "1         Employed   Completed  12320   18.351630\n",
       "2         Employed     Current  48929   72.883679\n",
       "3         Employed   Defaulted    630    0.938436\n",
       "4         Employed     PastDue   1725    2.569526"
      ]
     },
     "execution_count": 65,
     "metadata": {},
     "output_type": "execute_result"
    }
   ],
   "source": [
    "# get percentages\n",
    "c=[]\n",
    "for i in grouped['EmploymentStatus']: \n",
    "                c.append(counts.loc[i][0])\n",
    "percentage= (grouped[0]/c)*100\n",
    "grouped[\"percentage\"]= percentage\n",
    "grouped.head()"
   ]
  },
  {
   "cell_type": "code",
   "execution_count": 66,
   "metadata": {},
   "outputs": [],
   "source": [
    "grouped[\"EmploymentStatus\"]=grouped[\"EmploymentStatus\"].astype(\"object\")"
   ]
  },
  {
   "cell_type": "code",
   "execution_count": 67,
   "metadata": {},
   "outputs": [
    {
     "data": {
      "text/html": [
       "<div>\n",
       "<style scoped>\n",
       "    .dataframe tbody tr th:only-of-type {\n",
       "        vertical-align: middle;\n",
       "    }\n",
       "\n",
       "    .dataframe tbody tr th {\n",
       "        vertical-align: top;\n",
       "    }\n",
       "\n",
       "    .dataframe thead th {\n",
       "        text-align: right;\n",
       "    }\n",
       "</style>\n",
       "<table border=\"1\" class=\"dataframe\">\n",
       "  <thead>\n",
       "    <tr style=\"text-align: right;\">\n",
       "      <th>EmploymentStatus</th>\n",
       "      <th>Employed</th>\n",
       "      <th>Full-time</th>\n",
       "      <th>Not employed</th>\n",
       "      <th>Other</th>\n",
       "      <th>Part-time</th>\n",
       "      <th>Retired</th>\n",
       "      <th>Self-employed</th>\n",
       "    </tr>\n",
       "    <tr>\n",
       "      <th>LoanStatus</th>\n",
       "      <th></th>\n",
       "      <th></th>\n",
       "      <th></th>\n",
       "      <th></th>\n",
       "      <th></th>\n",
       "      <th></th>\n",
       "      <th></th>\n",
       "    </tr>\n",
       "  </thead>\n",
       "  <tbody>\n",
       "    <tr>\n",
       "      <th>Chargedoff</th>\n",
       "      <td>5.256729</td>\n",
       "      <td>11.102719</td>\n",
       "      <td>22.804314</td>\n",
       "      <td>7.767246</td>\n",
       "      <td>12.890625</td>\n",
       "      <td>16.032609</td>\n",
       "      <td>8.657244</td>\n",
       "    </tr>\n",
       "    <tr>\n",
       "      <th>Completed</th>\n",
       "      <td>18.351630</td>\n",
       "      <td>68.441591</td>\n",
       "      <td>32.665639</td>\n",
       "      <td>11.822012</td>\n",
       "      <td>72.656250</td>\n",
       "      <td>53.260870</td>\n",
       "      <td>19.633392</td>\n",
       "    </tr>\n",
       "    <tr>\n",
       "      <th>Current</th>\n",
       "      <td>72.883679</td>\n",
       "      <td>16.565962</td>\n",
       "      <td>38.212635</td>\n",
       "      <td>75.882043</td>\n",
       "      <td>9.375000</td>\n",
       "      <td>25.000000</td>\n",
       "      <td>68.131625</td>\n",
       "    </tr>\n",
       "    <tr>\n",
       "      <th>Defaulted</th>\n",
       "      <td>0.938436</td>\n",
       "      <td>2.995972</td>\n",
       "      <td>2.311248</td>\n",
       "      <td>1.421801</td>\n",
       "      <td>1.953125</td>\n",
       "      <td>4.076087</td>\n",
       "      <td>1.082155</td>\n",
       "    </tr>\n",
       "    <tr>\n",
       "      <th>PastDue</th>\n",
       "      <td>2.569526</td>\n",
       "      <td>0.893756</td>\n",
       "      <td>4.006163</td>\n",
       "      <td>3.106898</td>\n",
       "      <td>3.125000</td>\n",
       "      <td>1.630435</td>\n",
       "      <td>2.495583</td>\n",
       "    </tr>\n",
       "  </tbody>\n",
       "</table>\n",
       "</div>"
      ],
      "text/plain": [
       "EmploymentStatus   Employed  Full-time  Not employed      Other  Part-time  \\\n",
       "LoanStatus                                                                   \n",
       "Chargedoff         5.256729  11.102719     22.804314   7.767246  12.890625   \n",
       "Completed         18.351630  68.441591     32.665639  11.822012  72.656250   \n",
       "Current           72.883679  16.565962     38.212635  75.882043   9.375000   \n",
       "Defaulted          0.938436   2.995972      2.311248   1.421801   1.953125   \n",
       "PastDue            2.569526   0.893756      4.006163   3.106898   3.125000   \n",
       "\n",
       "EmploymentStatus    Retired  Self-employed  \n",
       "LoanStatus                                  \n",
       "Chargedoff        16.032609       8.657244  \n",
       "Completed         53.260870      19.633392  \n",
       "Current           25.000000      68.131625  \n",
       "Defaulted          4.076087       1.082155  \n",
       "PastDue            1.630435       2.495583  "
      ]
     },
     "execution_count": 67,
     "metadata": {},
     "output_type": "execute_result"
    }
   ],
   "source": [
    "# Create pivt table for heat map\n",
    "pivot=grouped.pivot(index='LoanStatus', columns=\"EmploymentStatus\", values='percentage')\n",
    "pivot"
   ]
  },
  {
   "cell_type": "code",
   "execution_count": 68,
   "metadata": {},
   "outputs": [
    {
     "data": {
      "image/png": "[encoded data removed]",
      "text/plain": [
       "<Figure size 1080x360 with 2 Axes>"
      ]
     },
     "metadata": {
      "needs_background": "light"
     },
     "output_type": "display_data"
    }
   ],
   "source": [
    "fig = plt.figure(figsize=(15,5))\n",
    "plt.subplot(1, 2, 1)\n",
    "sb.heatmap(pivot,annot = True, cmap=sb.color_palette(\"GnBu_d\"));\n",
    "plt.title(\" Employement Status and Loan Status(Percents)\"); \n",
    "\n"
   ]
  },
  {
   "cell_type": "markdown",
   "metadata": {},
   "source": [
    "For charedoff, the largest values are for Non employed and Retired workers. For completed,  the largest values are both part and full time workers. Defaulted and Past Due both have very low percentages without a clear pattern. Therefore, we can assume that Employment Status might not be the best predictor for these statuses. "
   ]
  },
  {
   "cell_type": "markdown",
   "metadata": {},
   "source": [
    "#### Credit Score and Loan Status"
   ]
  },
  {
   "cell_type": "code",
   "execution_count": 72,
   "metadata": {},
   "outputs": [
    {
     "data": {
      "image/png": "[encoded data removed]",
      "text/plain": [
       "<Figure size 1080x360 with 2 Axes>"
      ]
     },
     "metadata": {},
     "output_type": "display_data"
    }
   ],
   "source": [
    "sb.set()\n",
    "fig = plt.figure(figsize=(15,5))\n",
    "plt.subplot(1, 2, 1)\n",
    "base_color = sb.color_palette()[0]\n",
    "sb.violinplot(data = cleaned, x = 'LoanStatus', y = \"CreditScoreRangeLower\", color = base_color);\n",
    "plt.title(\"Credit Score and Loan Status\");\n",
    "plt.subplot(1, 2, 2)\n",
    "base_color = sb.color_palette()[0]\n",
    "sb.boxplot(data = cleaned, x = 'LoanStatus', y = \"CreditScoreRangeLower\", color = base_color);\n",
    "plt.title(\"Credit Score and Loan Status\") ;             "
   ]
  },
  {
   "cell_type": "markdown",
   "metadata": {},
   "source": [
    "For the violin plot, we notice that current has a bumpy plot, which indicated a high concentration quicly followed by a low concentration. We also notice that defaulted and pastdue have a smaller minimum value than the other groups. Also, past due seems to be wider than defaulted indicating more presence of low credit scores. Also, chargedoff has a similiar width than past due but has more riples indicating a slight rapid change in concentration. From, the box and whicker plot, we find that completed had a higher 75fth percentile than the others."
   ]
  },
  {
   "cell_type": "markdown",
   "metadata": {},
   "source": [
    "### Debt to Income and Loan Status "
   ]
  },
  {
   "cell_type": "code",
   "execution_count": 84,
   "metadata": {},
   "outputs": [
    {
     "data": {
      "image/png": "[encoded data removed]",
      "text/plain": [
       "<Figure size 1080x360 with 2 Axes>"
      ]
     },
     "metadata": {},
     "output_type": "display_data"
    }
   ],
   "source": [
    "fig = plt.figure(figsize=(15,5))\n",
    "plt.subplot(1, 2, 1)\n",
    "base_color = sb.color_palette()[1]\n",
    "sb.violinplot(data = cleaned, x = 'LoanStatus', y = \"sqrt\", color = base_color);\n",
    "plt.title(\" sqrt Debt to Income Ratio and Loan Status\");\n",
    "plt.ylim(0,1);\n",
    "plt.ylabel(\"Debt to income Ratio sqrt\");\n",
    "plt.subplot(1, 2, 2)\n",
    "base_color = sb.color_palette()[1]\n",
    "sb.boxplot(data = cleaned, x = 'LoanStatus', y = \"sqrt\", color = base_color);\n",
    "plt.title(\" sqrt Debt to Income Ratio and Loan Status\");\n",
    "plt.ylim(0,1);\n",
    "plt.ylabel(\"Debt to income Ratio sqrt\");"
   ]
  },
  {
   "cell_type": "markdown",
   "metadata": {},
   "source": [
    "These are plots of the square root. Because of the presence fo outliers, I had to set a y lim of 1.While the violin plot doesnt yield any udeful information, we find that the box and whisker splot shows small seperations between the groups. We notice that defaulted has a slightly higher square root debt to income ratio than the others. Past Due and Chargedoff seem too have a very similiar distribution while completed has the lowest ratio of the Statuses.  "
   ]
  },
  {
   "cell_type": "markdown",
   "metadata": {},
   "source": [
    "### Debt to Income and Credit Score"
   ]
  },
  {
   "cell_type": "code",
   "execution_count": 75,
   "metadata": {},
   "outputs": [
    {
     "data": {
      "image/png": "[encoded data removed]",
      "text/plain": [
       "<Figure size 720x360 with 2 Axes>"
      ]
     },
     "metadata": {
      "needs_background": "light"
     },
     "output_type": "display_data"
    }
   ],
   "source": [
    "plt.figure(figsize=(10,5))\n",
    "bins_y = np.arange(640, 840, 20)\n",
    "bins_x = np.arange(0, 1, .05)\n",
    "plt.hist2d(data = cleaned, x = \"sqrt\", y = \"CreditScoreRangeLower\",\n",
    "           bins = [bins_x, bins_y], cmap = 'viridis_r')\n",
    "plt.colorbar();\n",
    "plt.title(\"Sqrt of Debt to Income Ratio vs Credit Score\");\n",
    "plt.xlabel(\" sqrt debt to income\");\n",
    "plt.ylabel(\" Credit Score\");"
   ]
  },
  {
   "cell_type": "markdown",
   "metadata": {},
   "source": [
    "It is clear that there is significant overlap in the middle of the heatmap. These intersection points were  are also the most common values for debt to income and credit score individually. The fact that the two distributions are merging like this could indicate a corelation and relationship between the variables. "
   ]
  },
  {
   "cell_type": "markdown",
   "metadata": {},
   "source": [
    "### Talk about some of the relationships you observed in this part of the investigation. How did the feature of interest vary with other features in the dataset?\n",
    "\n",
    "> For Prosper Rating, and Income we noticed that Chargedoff, Defaulted, and Past Due all decreased with an increase in value. However, the decrease for chargedoff was more apparent. Employment Status showed that Retired and Unemployed are more likely to be Chargedoff. Credit Score showed us that a completed loan has very high credit scores. Also, the Debt to Income Ratio was able to show that Defaulted have a slightly higher square root of debt to income ratio. Current showed an increase with income range which could indicate that higher income people take out longer loans. \n",
    "\n",
    "### Did you observe any interesting relationships between the other features (not the main feature of interest)?\n",
    "\n",
    "> It seems that that sqrt debt to income and credit score follow similiar distributions. This is because the peaks of the distribution both intersect as shown by the concentration of the heatmap. "
   ]
  },
  {
   "cell_type": "markdown",
   "metadata": {},
   "source": [
    "## Multivariate Exploration\n"
   ]
  },
  {
   "cell_type": "markdown",
   "metadata": {},
   "source": [
    "### Reletationship between Creation Year, LoanStatus, and Credit Score"
   ]
  },
  {
   "cell_type": "code",
   "execution_count": 141,
   "metadata": {},
   "outputs": [],
   "source": [
    "# get creation year\n",
    "cleaned[\"creation_year\"]=cleaned[\"ListingCreationDate\"].dt.year\n"
   ]
  },
  {
   "cell_type": "code",
   "execution_count": 142,
   "metadata": {},
   "outputs": [
    {
     "data": {
      "text/html": [
       "<div>\n",
       "<style scoped>\n",
       "    .dataframe tbody tr th:only-of-type {\n",
       "        vertical-align: middle;\n",
       "    }\n",
       "\n",
       "    .dataframe tbody tr th {\n",
       "        vertical-align: top;\n",
       "    }\n",
       "\n",
       "    .dataframe thead th {\n",
       "        text-align: right;\n",
       "    }\n",
       "</style>\n",
       "<table border=\"1\" class=\"dataframe\">\n",
       "  <thead>\n",
       "    <tr style=\"text-align: right;\">\n",
       "      <th></th>\n",
       "      <th>creation_year</th>\n",
       "      <th>LoanStatus</th>\n",
       "      <th>CreditScoreRangeLower</th>\n",
       "    </tr>\n",
       "  </thead>\n",
       "  <tbody>\n",
       "    <tr>\n",
       "      <th>0</th>\n",
       "      <td>2009</td>\n",
       "      <td>Chargedoff</td>\n",
       "      <td>658.913043</td>\n",
       "    </tr>\n",
       "    <tr>\n",
       "      <th>1</th>\n",
       "      <td>2009</td>\n",
       "      <td>Completed</td>\n",
       "      <td>692.375691</td>\n",
       "    </tr>\n",
       "    <tr>\n",
       "      <th>2</th>\n",
       "      <td>2009</td>\n",
       "      <td>Current</td>\n",
       "      <td>NaN</td>\n",
       "    </tr>\n",
       "    <tr>\n",
       "      <th>3</th>\n",
       "      <td>2009</td>\n",
       "      <td>Defaulted</td>\n",
       "      <td>656.315789</td>\n",
       "    </tr>\n",
       "    <tr>\n",
       "      <th>4</th>\n",
       "      <td>2009</td>\n",
       "      <td>PastDue</td>\n",
       "      <td>NaN</td>\n",
       "    </tr>\n",
       "  </tbody>\n",
       "</table>\n",
       "</div>"
      ],
      "text/plain": [
       "   creation_year  LoanStatus  CreditScoreRangeLower\n",
       "0           2009  Chargedoff             658.913043\n",
       "1           2009   Completed             692.375691\n",
       "2           2009     Current                    NaN\n",
       "3           2009   Defaulted             656.315789\n",
       "4           2009     PastDue                    NaN"
      ]
     },
     "execution_count": 142,
     "metadata": {},
     "output_type": "execute_result"
    }
   ],
   "source": [
    "# group by and get average credit score\n",
    "group1=pd.DataFrame(cleaned.groupby([\"creation_year\", \"LoanStatus\" ]).mean()).reset_index()[[\"creation_year\",\"LoanStatus\",\"CreditScoreRangeLower\"]]\n",
    "group1.head()"
   ]
  },
  {
   "cell_type": "code",
   "execution_count": 148,
   "metadata": {},
   "outputs": [
    {
     "data": {
      "text/html": [
       "<div>\n",
       "<style scoped>\n",
       "    .dataframe tbody tr th:only-of-type {\n",
       "        vertical-align: middle;\n",
       "    }\n",
       "\n",
       "    .dataframe tbody tr th {\n",
       "        vertical-align: top;\n",
       "    }\n",
       "\n",
       "    .dataframe thead th {\n",
       "        text-align: right;\n",
       "    }\n",
       "</style>\n",
       "<table border=\"1\" class=\"dataframe\">\n",
       "  <thead>\n",
       "    <tr style=\"text-align: right;\">\n",
       "      <th></th>\n",
       "      <th>creation_year</th>\n",
       "      <th>LoanStatus</th>\n",
       "      <th>CreditScoreRangeLower</th>\n",
       "    </tr>\n",
       "  </thead>\n",
       "  <tbody>\n",
       "    <tr>\n",
       "      <th>0</th>\n",
       "      <td>2009</td>\n",
       "      <td>Chargedoff</td>\n",
       "      <td>658.913043</td>\n",
       "    </tr>\n",
       "    <tr>\n",
       "      <th>1</th>\n",
       "      <td>2009</td>\n",
       "      <td>Completed</td>\n",
       "      <td>692.375691</td>\n",
       "    </tr>\n",
       "    <tr>\n",
       "      <th>2</th>\n",
       "      <td>2009</td>\n",
       "      <td>Defaulted</td>\n",
       "      <td>656.315789</td>\n",
       "    </tr>\n",
       "    <tr>\n",
       "      <th>3</th>\n",
       "      <td>2010</td>\n",
       "      <td>Chargedoff</td>\n",
       "      <td>661.837838</td>\n",
       "    </tr>\n",
       "    <tr>\n",
       "      <th>4</th>\n",
       "      <td>2010</td>\n",
       "      <td>Completed</td>\n",
       "      <td>691.988756</td>\n",
       "    </tr>\n",
       "    <tr>\n",
       "      <th>5</th>\n",
       "      <td>2010</td>\n",
       "      <td>Defaulted</td>\n",
       "      <td>661.951220</td>\n",
       "    </tr>\n",
       "    <tr>\n",
       "      <th>6</th>\n",
       "      <td>2011</td>\n",
       "      <td>Chargedoff</td>\n",
       "      <td>657.380353</td>\n",
       "    </tr>\n",
       "    <tr>\n",
       "      <th>7</th>\n",
       "      <td>2011</td>\n",
       "      <td>Completed</td>\n",
       "      <td>691.405622</td>\n",
       "    </tr>\n",
       "    <tr>\n",
       "      <th>8</th>\n",
       "      <td>2011</td>\n",
       "      <td>Defaulted</td>\n",
       "      <td>663.877551</td>\n",
       "    </tr>\n",
       "    <tr>\n",
       "      <th>9</th>\n",
       "      <td>2012</td>\n",
       "      <td>Chargedoff</td>\n",
       "      <td>656.933045</td>\n",
       "    </tr>\n",
       "    <tr>\n",
       "      <th>10</th>\n",
       "      <td>2012</td>\n",
       "      <td>Completed</td>\n",
       "      <td>688.706897</td>\n",
       "    </tr>\n",
       "    <tr>\n",
       "      <th>11</th>\n",
       "      <td>2012</td>\n",
       "      <td>Defaulted</td>\n",
       "      <td>660.273973</td>\n",
       "    </tr>\n",
       "    <tr>\n",
       "      <th>12</th>\n",
       "      <td>2013</td>\n",
       "      <td>Chargedoff</td>\n",
       "      <td>665.393258</td>\n",
       "    </tr>\n",
       "    <tr>\n",
       "      <th>13</th>\n",
       "      <td>2013</td>\n",
       "      <td>Completed</td>\n",
       "      <td>693.574468</td>\n",
       "    </tr>\n",
       "    <tr>\n",
       "      <th>14</th>\n",
       "      <td>2013</td>\n",
       "      <td>Defaulted</td>\n",
       "      <td>666.666667</td>\n",
       "    </tr>\n",
       "    <tr>\n",
       "      <th>15</th>\n",
       "      <td>2014</td>\n",
       "      <td>Completed</td>\n",
       "      <td>730.000000</td>\n",
       "    </tr>\n",
       "  </tbody>\n",
       "</table>\n",
       "</div>"
      ],
      "text/plain": [
       "    creation_year  LoanStatus  CreditScoreRangeLower\n",
       "0            2009  Chargedoff             658.913043\n",
       "1            2009   Completed             692.375691\n",
       "2            2009   Defaulted             656.315789\n",
       "3            2010  Chargedoff             661.837838\n",
       "4            2010   Completed             691.988756\n",
       "5            2010   Defaulted             661.951220\n",
       "6            2011  Chargedoff             657.380353\n",
       "7            2011   Completed             691.405622\n",
       "8            2011   Defaulted             663.877551\n",
       "9            2012  Chargedoff             656.933045\n",
       "10           2012   Completed             688.706897\n",
       "11           2012   Defaulted             660.273973\n",
       "12           2013  Chargedoff             665.393258\n",
       "13           2013   Completed             693.574468\n",
       "14           2013   Defaulted             666.666667\n",
       "15           2014   Completed             730.000000"
      ]
     },
     "execution_count": 148,
     "metadata": {},
     "output_type": "execute_result"
    }
   ],
   "source": [
    "# drop current and places with missing values\n",
    "drop=np.where(group1[\"LoanStatus\"]==\"Current\")[0]\n",
    "group1=group1.drop(drop)\n",
    "group1=group1.reset_index().drop(\"index\", axis=1)\n",
    "group1=group1.dropna()\n",
    "group1"
   ]
  },
  {
   "cell_type": "code",
   "execution_count": 151,
   "metadata": {},
   "outputs": [],
   "source": [
    "# Only have 3 availabe loan Statuses for 2009-20013\n",
    "group1=group1.drop(15)"
   ]
  },
  {
   "cell_type": "code",
   "execution_count": 152,
   "metadata": {},
   "outputs": [],
   "source": [
    "group1[\"LoanStatus\"]=group1[\"LoanStatus\"].astype(\"object\")"
   ]
  },
  {
   "cell_type": "code",
   "execution_count": 172,
   "metadata": {},
   "outputs": [
    {
     "data": {
      "image/png": "[encoded data removed]",
      "text/plain": [
       "<Figure size 432x288 with 1 Axes>"
      ]
     },
     "metadata": {},
     "output_type": "display_data"
    }
   ],
   "source": [
    "fig, ax = plt.subplots()\n",
    "sb.set_style(\"white\")\n",
    "x= np.unique(group1[\"creation_year\"])\n",
    "chargeoff=group1[\"CreditScoreRangeLower\"][np.where(group1[\"LoanStatus\"]==\"Chargedoff\")[0]].values\n",
    "completed=group1[\"CreditScoreRangeLower\"][np.where(group1[\"LoanStatus\"]==\"Completed\")[0]].values\n",
    "defaulted=group1[\"CreditScoreRangeLower\"][np.where(group1[\"LoanStatus\"]==\"Defaulted\")[0]].values\n",
    "plt.plot(x,chargeoff)\n",
    "plt.plot(x,completed)\n",
    "plt.plot(x,defaulted)\n",
    "plt.xticks(x);\n",
    "plt.legend(['Charegoff', \"Completed\",\"defaulted\"])\n",
    "plt.ylabel(\" Average Credit Score\");\n",
    "plt.xlabel(\"Year\");\n",
    "plt.title(\" 2009-2013 Credit Score Averages for different Loan Statuses\");\n",
    "ax.spines['bottom'].set_color('white')\n",
    "ax.spines['top'].set_color('white') \n",
    "ax.spines['right'].set_color('white')\n",
    "ax.spines['left'].set_color('white')"
   ]
  },
  {
   "cell_type": "markdown",
   "metadata": {},
   "source": [
    "From this graph, it is apparent that Completed has had larger Credit Score that Chargeoff or defaulted. Also, we notice that average credit score for defaulted has risen from 2009-2011 and from 2012-2013. However for Chargeoff it initially increased, then decreased, and increased from 2012 to 2013. From 2012 to 2013, all three increased, but all these changes are small. "
   ]
  },
  {
   "cell_type": "markdown",
   "metadata": {},
   "source": [
    "### Relationship between Homeownership, Prosper Rating and Credit Score"
   ]
  },
  {
   "cell_type": "code",
   "execution_count": 96,
   "metadata": {},
   "outputs": [
    {
     "name": "stderr",
     "output_type": "stream",
     "text": [
      "C:\\Users\\Pavan\\Anaconda3\\lib\\site-packages\\seaborn\\axisgrid.py:230: UserWarning: The `size` paramter has been renamed to `height`; please update your code.\n",
      "  warnings.warn(msg, UserWarning)\n"
     ]
    },
    {
     "data": {
      "image/png": "[encoded data removed]",
      "text/plain": [
       "<Figure size 2520x720 with 14 Axes>"
      ]
     },
     "metadata": {
      "needs_background": "light"
     },
     "output_type": "display_data"
    }
   ],
   "source": [
    "g = sb.FacetGrid(data = cleaned, col = 'ProsperRating (numeric)', row=\"IsBorrowerHomeowner\" ,size = 5,\n",
    "                margin_titles = True)\n",
    "g.map(plt.hist,\"CreditScoreRangeLower\")\n",
    "plt.subplots_adjust(top=0.9)\n",
    "g.fig.suptitle('Relationship between Credit Score, Rating, and Home ownership');\n",
    "plt.text(x=-1500,y=7000,s=\"Count\");\n",
    "plt.text(x=-1500,y=2000,s=\"Count\");"
   ]
  },
  {
   "cell_type": "markdown",
   "metadata": {},
   "source": [
    "For both these home ownerhsip rows, we can see credit score gradually shift to the right as the prosper Rating increases. This is obesevred by the largest bar. However, for Prosper rating 4 there is a large uptick in low rather low rating space. In fact the peaks seem to decrease in credit score from 3 to 4 for both rows. Thus while there is a generally trend it is steady for each prosper rating. Also, there is no significant differences of trend between the rows indicating that homeowner does not have a strong relationship with credit score and Prosper Rating. "
   ]
  },
  {
   "cell_type": "markdown",
   "metadata": {},
   "source": [
    "### Talk about some of the relationships you observed in this part of the investigation. Were there features that strengthened each other in terms of looking at your feature(s) of interest?\n",
    "\n",
    "> Credit Score Strengthened as it seems like a good distinguisher between completed and default/chargedoff loans. I wasn't able to notice any significant relationships between homeownership prosper Rating and Credit Score.  \n",
    "\n",
    "### Were there any interesting or surprising interactions between features?\n",
    "\n",
    "> I thought a lack of home ownerhsip would play more of role in impacted the distribution. Also, it is suprising to see that the average credit score for defaulted/ chargeddoff loans had actually increased slighly from 2009-2013. "
   ]
  },
  {
   "cell_type": "code",
   "execution_count": null,
   "metadata": {},
   "outputs": [],
   "source": []
  }
 ],
 "metadata": {
  "kernelspec": {
   "display_name": "Python 3",
   "language": "python",
   "name": "python3"
  },
  "language_info": {
   "codemirror_mode": {
    "name": "ipython",
    "version": 3
   },
   "file_extension": ".py",
   "mimetype": "text/x-python",
   "name": "python",
   "nbconvert_exporter": "python",
   "pygments_lexer": "ipython3",
   "version": "3.7.1"
  }
 },
 "nbformat": 4,
 "nbformat_minor": 2
}
